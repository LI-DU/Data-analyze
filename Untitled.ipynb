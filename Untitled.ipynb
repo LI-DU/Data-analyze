{
 "cells": [
  {
   "cell_type": "code",
   "execution_count": 1,
   "metadata": {},
   "outputs": [],
   "source": [
    "import numpy as np\n",
    "import pandas as pd"
   ]
  },
  {
   "cell_type": "code",
   "execution_count": 2,
   "metadata": {},
   "outputs": [
    {
     "name": "stdout",
     "output_type": "stream",
     "text": [
      "2.7184380832591244\n"
     ]
    }
   ],
   "source": [
    "#--*-- coding:utf-8 --*--\n",
    "\n",
    "#利用python计算两坐标点的距离\n",
    "from math import radians,cos, sin, asin, sqrt, fabs\n",
    "EARTH_RADIUS=6371           # 地球平均半径，6371km\n",
    "def hav(theta):\n",
    "    s = sin(theta / 2)\n",
    "    return s * s\n",
    "def get_distance_hav(coordinate1, coordinate2):\n",
    "    \"用haversine公式计算球面两点间的距离。\"\n",
    "    # 经纬度转换成弧度\n",
    "    lat0,lat1,lng0,lng1 = radians(coordinate1[0]),radians(coordinate2[0]),radians(coordinate1[1]),radians(coordinate2[1])\n",
    " \n",
    "    dlng = fabs(lng0 - lng1)\n",
    "    dlat = fabs(lat0 - lat1)\n",
    "    h = hav(dlat) + cos(lat0) * cos(lat1) * hav(dlng)\n",
    "    distance = 2 * EARTH_RADIUS * asin(sqrt(h))\n",
    "    return distance\n",
    "\n",
    "coordinate1 = (31.111198492236944,121.38538320556641) #上海莘庄地铁站\n",
    "coordinate2 = (31.13059663612296,121.40276391998292) #上海莲花路地铁站 (高德地图驾车：2.8km)\n",
    "\n",
    "distance = get_distance_hav(coordinate1,coordinate2)\n",
    "print(distance)\n",
    "\n"
   ]
  },
  {
   "cell_type": "code",
   "execution_count": 117,
   "metadata": {
    "scrolled": true
   },
   "outputs": [
    {
     "name": "stdout",
     "output_type": "stream",
     "text": [
      "(('江苏苏州吴江区体育路501号',), ('江苏苏州吴江区中山北路188号',), ('江苏苏州吴江区笠泽路551号110室',), ('江苏苏州吴江区笠泽路290号B1楼',), ('江苏苏州市吴江区高新路789号吴江人民剧院',), ('江苏省苏州吴江区松陵镇鲈乡北路437号',), ('江苏苏州吴江区文苑路88号（近吴江市大润发超市）',), ('江苏苏州吴江区县府路98号',), ('江苏苏州吴江丽泽路137号恒森广场东停车场',), ('江苏苏州吴江区运东大道1168号',), ('江苏苏州吴江区云梨路1688号',), ('江苏苏州吴江区鲈乡南路2155号',), ('江苏苏州吴江区笠泽路666号（吴江公园北停车场）',), ('江苏苏州吴江区笠泽路109号',), ('江苏苏州吴江太湖新城迎宾大道1号',))\n",
      "(('南京市栖霞区仙隐北路',), ('紫东路1号紫东国际创意园西区',), ('南京市栖霞区仙隐北路',), ('江苏省南京市栖霞区乐和酒店（聚宝山店）',), ('南京市栖霞区仙隐北路',), ('南京市栖霞区仙隐北路',), ('南京市栖霞区仙隐北路',))\n",
      "(('上海市闵行区申贵路888号',), ('上海市闵行区申长路988弄虹桥万科中心',))\n"
     ]
    }
   ],
   "source": [
    "#--*-- coding:utf-8 --*--\n",
    "\n",
    "#python根据一个给定经纬度的点，进行附近5km距离坐标查询\n",
    "import pymysql\n",
    "import os\n",
    "import numpy as np\n",
    "import pandas as pd\n",
    "from math import sin, asin, cos, radians, fabs, sqrt,degrees\n",
    "\n",
    "#读取车辆坐标位置文件\n",
    "def get_cortxt():\n",
    "    df = pd.read_csv('D:/cor.txt',encoding='utf-8',header=None,sep=' ')\n",
    "    for i in range(len(df)):\n",
    "        coordinate = df.loc[i]\n",
    "        cor_areas(coordinate)\n",
    "        \n",
    "#计算坐标点周围5km，东西两侧距离,lat表示纬度，lng表示经度\n",
    "def cor_areas(coordinate):\n",
    "    dlng = 2 * asin(sin(distance / (2 * EARTH_RADIUS)) / cos(coordinate[1]))\n",
    "    dlng = degrees(dlng)        # 弧度转换成角度\n",
    "\n",
    "    #计算坐标点周围5km，南北两侧距离坐标\n",
    "    dlat = distance / EARTH_RADIUS\n",
    "    dlat = degrees(dlat)     # 弧度转换成角度\n",
    "    \n",
    "    #cor1左上角坐标点，cor2右下角坐标点\n",
    "    cor1_vin,cor1_lat,cor1_lng = coordinate[0],coordinate[1] + dlat,coordinate[2] - dlng\n",
    "    cor2_vin,cor2_lat,cor2_lng = coordinate[0],coordinate[1] - dlat,coordinate[2] + dlng\n",
    "\n",
    "    mysql_query(cor1_lat,cor1_lng,cor2_lat,cor2_lng)\n",
    "    #     mysql_query(32.006447,118.003882,31.096447,118.903882)\n",
    "\n",
    "\n",
    "#将车辆坐标传入mysql数据库查询附近充电站的位置信息\n",
    "def mysql_query(cor1_lat,cor1_lng,cor2_lat,cor2_lng):\n",
    "        # sql中查询在此坐标5km范围内的充电站坐标\n",
    "        import pymysql\n",
    "        db = pymysql.connect(host='47.102.28.202', port=3306, user='readonly', password='abc123$%',\n",
    "                             database='renwochong', charset='utf8')\n",
    "        cursor = db.cursor()\n",
    "#         select_cord = \"\"\"select addr from t_charging_station where latitude > cor2_lat and latitude < cor1_lat and longitude > cor1_lng and longitude < cor2_lng\"\"\"\n",
    "        select_cord = \"\"\"select addr from t_charging_station where latitude > %f and latitude < %f and longitude > %f and longitude < %f\"\"\"%(cor2_lat,cor1_lat,cor1_lng,cor2_lng)\n",
    "        #执行相关查询\n",
    "        try:\n",
    "            res = cursor.execute(select_cord)\n",
    "            res = cursor.fetchall()\n",
    "            print(res)\n",
    "        except Exception as e:\n",
    "            print(e)\n",
    "\n",
    "#主函数部分\n",
    "if __name__ == '__main__':\n",
    "    EARTH_RADIUS=6371 #地球半径\n",
    "    distance = 5  #车辆周围距离5km\n",
    "    get_cortxt()\n"
   ]
  },
  {
   "cell_type": "code",
   "execution_count": 4,
   "metadata": {},
   "outputs": [
    {
     "name": "stdout",
     "output_type": "stream",
     "text": [
      "(1064, \"You have an error in your SQL syntax; check the manual that corresponds to your MySQL server version for the right syntax to use near '[0] and lat < corareas1[0] and lng > corareas1[1] and lng < corareas2[1]' at line 1\")\n"
     ]
    }
   ],
   "source": [
    "#sql中查询在此坐标5km范围内的充电站坐标\n",
    "# select addr from place where lat > lat1 and lat < lat2 and lng > lng1 and lng < lng2 limit 10\n",
    "import pymysql\n",
    "db = pymysql.connect(host='120.79.9.140', port=53306, user='readonly', password='abc123$%',\n",
    "                     database='mysql', charset='utf8')\n",
    "cursor = db.cursor()\n",
    "\n",
    "select_cord = \"\"\"select addr from place where lat > corareas2[0] and lat < corareas1[0] and lng > corareas1[1] and lng < corareas2[1] \"\"\"\n",
    "try:\n",
    "    res = cursor.execute(select_cord)\n",
    "    res = cursor.fetchall()\n",
    "    print(res)\n",
    "    db.commit()\n",
    "except Exception as e:\n",
    "    print(e)\n"
   ]
  },
  {
   "cell_type": "code",
   "execution_count": 5,
   "metadata": {},
   "outputs": [
    {
     "ename": "ModuleNotFoundError",
     "evalue": "No module named 'hdfs'",
     "output_type": "error",
     "traceback": [
      "\u001b[1;31m---------------------------------------------------------------------------\u001b[0m",
      "\u001b[1;31mModuleNotFoundError\u001b[0m                       Traceback (most recent call last)",
      "\u001b[1;32m<ipython-input-5-429cd3072fba>\u001b[0m in \u001b[0;36m<module>\u001b[1;34m\u001b[0m\n\u001b[0;32m      2\u001b[0m \u001b[1;31m#python从hdfs读取数据\u001b[0m\u001b[1;33m\u001b[0m\u001b[1;33m\u001b[0m\u001b[1;33m\u001b[0m\u001b[0m\n\u001b[0;32m      3\u001b[0m \u001b[1;33m\u001b[0m\u001b[0m\n\u001b[1;32m----> 4\u001b[1;33m \u001b[1;32mfrom\u001b[0m \u001b[0mhdfs\u001b[0m\u001b[1;33m.\u001b[0m\u001b[0mclient\u001b[0m \u001b[1;32mimport\u001b[0m \u001b[0mClient\u001b[0m\u001b[1;33m\u001b[0m\u001b[1;33m\u001b[0m\u001b[0m\n\u001b[0m\u001b[0;32m      5\u001b[0m \u001b[1;33m\u001b[0m\u001b[0m\n\u001b[0;32m      6\u001b[0m \u001b[0mclient\u001b[0m \u001b[1;33m=\u001b[0m \u001b[0mClient\u001b[0m\u001b[1;33m(\u001b[0m\u001b[1;34m\"http://localhost:50070\"\u001b[0m\u001b[1;33m)\u001b[0m\u001b[1;33m\u001b[0m\u001b[1;33m\u001b[0m\u001b[0m\n",
      "\u001b[1;31mModuleNotFoundError\u001b[0m: No module named 'hdfs'"
     ]
    }
   ],
   "source": [
    "# -*- coding:utf-8 -*-\n",
    "#python从hdfs读取数据\n",
    "\n",
    "from hdfs.client import Client\n",
    "\n",
    "client = Client(\"http://localhost:50070\")\n",
    "\n",
    "filepath=\"\\Data\\test.txt\"\n",
    "with client.read(filepath) as fs:\n",
    "    content = fs.read()\n",
    "    print(content)"
   ]
  },
  {
   "cell_type": "code",
   "execution_count": 83,
   "metadata": {},
   "outputs": [
    {
     "name": "stdout",
     "output_type": "stream",
     "text": [
      "120.22518815318772)\n",
      "121.28489445356547)\n",
      "123.57517568538923)\n",
      "120.22518815318772)\n",
      "121.28489445356547)\n",
      "123.57517568538923)\n",
      "120.22518815318772)\n",
      "121.28489445356547)\n",
      "123.57517568538923)\n"
     ]
    }
   ],
   "source": [
    "import numpy as np\n",
    "import pandas as pd\n",
    "import pickle\n",
    "# df = pd.read_csv('D:/corareas2.txt',encoding='utf-8',header=None)\n",
    "# cor2 = pickle.dumps(df)\n",
    "# cor = pickle.loads(cor2)\n",
    "# print(cor)\n",
    "\n",
    "# df = pd.read_csv('D:/corareas1.txt',encoding='utf-8',header=None)\n",
    "# print(len(df))\n",
    "# print(type(df))\n",
    "# print(df)\n",
    "with open('D:/corareas2.txt','r',encoding='utf-8') as f:\n",
    "    f = f.readlines()\n",
    "    for i in range(len(f)):\n",
    "        print(f[i].split()[2])\n",
    "\n",
    "        \n"
   ]
  },
  {
   "cell_type": "code",
   "execution_count": 64,
   "metadata": {},
   "outputs": [],
   "source": []
  },
  {
   "cell_type": "code",
   "execution_count": null,
   "metadata": {},
   "outputs": [],
   "source": [
    "#图像识别\n",
    "from PIL import Image\n",
    "import pytesseract\n",
    "text = pytesseract.image_to_string(Image.open(r'D:/image.png'))\n",
    "print(text)"
   ]
  },
  {
   "cell_type": "code",
   "execution_count": null,
   "metadata": {},
   "outputs": [],
   "source": [
    "\n",
    "    "
   ]
  },
  {
   "cell_type": "code",
   "execution_count": null,
   "metadata": {},
   "outputs": [],
   "source": [
    "\n"
   ]
  },
  {
   "cell_type": "code",
   "execution_count": null,
   "metadata": {},
   "outputs": [],
   "source": []
  }
 ],
 "metadata": {
  "kernelspec": {
   "display_name": "Python 3",
   "language": "python",
   "name": "python3"
  },
  "language_info": {
   "codemirror_mode": {
    "name": "ipython",
    "version": 3
   },
   "file_extension": ".py",
   "mimetype": "text/x-python",
   "name": "python",
   "nbconvert_exporter": "python",
   "pygments_lexer": "ipython3",
   "version": "3.6.8"
  }
 },
 "nbformat": 4,
 "nbformat_minor": 2
}
