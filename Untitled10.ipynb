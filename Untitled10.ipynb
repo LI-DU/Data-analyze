{
 "cells": [
  {
   "cell_type": "code",
   "execution_count": 1,
   "metadata": {},
   "outputs": [],
   "source": [
    "import pandas as pd\n",
    "import numpy as np\n",
    "import matplotlib.pyplot as plt\n",
    "import datetime\n",
    "import time"
   ]
  },
  {
   "cell_type": "code",
   "execution_count": 2,
   "metadata": {
    "scrolled": false
   },
   "outputs": [
    {
     "name": "stdout",
     "output_type": "stream",
     "text": [
      "2019-08-01 10:45:12\n",
      "2019-08-05 14:18:11\n"
     ]
    }
   ],
   "source": [
    "dt = datetime.datetime.fromtimestamp(1564627512)\n",
    "print(dt)\n",
    "print(datetime.datetime.now().strftime('%Y-%m-%d %H:%M:%S'))"
   ]
  },
  {
   "cell_type": "code",
   "execution_count": 75,
   "metadata": {},
   "outputs": [
    {
     "data": {
      "text/plain": [
       "<matplotlib.collections.PathCollection at 0x25ad4815f60>"
      ]
     },
     "execution_count": 75,
     "metadata": {},
     "output_type": "execute_result"
    },
    {
     "data": {
      "image/png": "[encoded data removed]",
      "text/plain": [
       "<Figure size 720x576 with 1 Axes>"
      ]
     },
     "metadata": {
      "needs_background": "light"
     },
     "output_type": "display_data"
    }
   ],
   "source": [
    "power = pd.read_csv('D:/dc_station.txt',sep='\\t')\n",
    "pile = power['sum_pile']\n",
    "rate = power['sum_rate']\n",
    "plt.figure(figsize=(10,8))\n",
    "plt.scatter(rate,pile)"
   ]
  },
  {
   "cell_type": "code",
   "execution_count": 12,
   "metadata": {},
   "outputs": [],
   "source": [
    "#-*- coding:utf-8 -*-\n",
    "import os\n",
    "import csv\n",
    "\n",
    "csvfile = open('D:/test.csv','w',newline='')\n",
    "try:\n",
    "    wirte_data = csv.writer(csvfile)\n",
    "    wirte_data.writerow('id')\n",
    "    for i in range(5):\n",
    "        wirte_data.writerow(str(i))\n",
    "finally:\n",
    "    csvfile.close()\n"
   ]
  },
  {
   "cell_type": "code",
   "execution_count": 81,
   "metadata": {},
   "outputs": [
    {
     "data": {
      "text/plain": [
       "'C:\\\\Users\\\\DL'"
      ]
     },
     "execution_count": 81,
     "metadata": {},
     "output_type": "execute_result"
    }
   ],
   "source": [
    "import csv\n",
    "import os\n",
    "os.path.expanduser('~')"
   ]
  },
  {
   "cell_type": "markdown",
   "metadata": {},
   "source": [
    "# markdown"
   ]
  },
  {
   "cell_type": "code",
   "execution_count": 7,
   "metadata": {},
   "outputs": [
    {
     "data": {
      "text/html": [
       "<div>\n",
       "<style scoped>\n",
       "    .dataframe tbody tr th:only-of-type {\n",
       "        vertical-align: middle;\n",
       "    }\n",
       "\n",
       "    .dataframe tbody tr th {\n",
       "        vertical-align: top;\n",
       "    }\n",
       "\n",
       "    .dataframe thead th {\n",
       "        text-align: right;\n",
       "    }\n",
       "</style>\n",
       "<table border=\"1\" class=\"dataframe\">\n",
       "  <thead>\n",
       "    <tr style=\"text-align: right;\">\n",
       "      <th></th>\n",
       "      <th>ID</th>\n",
       "      <th>age</th>\n",
       "      <th>job</th>\n",
       "      <th>marital</th>\n",
       "      <th>education</th>\n",
       "      <th>default</th>\n",
       "      <th>balance</th>\n",
       "      <th>housing</th>\n",
       "      <th>loan</th>\n",
       "      <th>contact</th>\n",
       "      <th>day</th>\n",
       "      <th>month</th>\n",
       "      <th>duration</th>\n",
       "      <th>campaign</th>\n",
       "      <th>pdays</th>\n",
       "      <th>previous</th>\n",
       "      <th>poutcome</th>\n",
       "      <th>y</th>\n",
       "    </tr>\n",
       "  </thead>\n",
       "  <tbody>\n",
       "    <tr>\n",
       "      <th>0</th>\n",
       "      <td>1</td>\n",
       "      <td>43</td>\n",
       "      <td>management</td>\n",
       "      <td>married</td>\n",
       "      <td>tertiary</td>\n",
       "      <td>no</td>\n",
       "      <td>291</td>\n",
       "      <td>yes</td>\n",
       "      <td>no</td>\n",
       "      <td>unknown</td>\n",
       "      <td>9</td>\n",
       "      <td>may</td>\n",
       "      <td>150</td>\n",
       "      <td>2</td>\n",
       "      <td>-1</td>\n",
       "      <td>0</td>\n",
       "      <td>unknown</td>\n",
       "      <td>0</td>\n",
       "    </tr>\n",
       "    <tr>\n",
       "      <th>1</th>\n",
       "      <td>2</td>\n",
       "      <td>42</td>\n",
       "      <td>technician</td>\n",
       "      <td>divorced</td>\n",
       "      <td>primary</td>\n",
       "      <td>no</td>\n",
       "      <td>5076</td>\n",
       "      <td>yes</td>\n",
       "      <td>no</td>\n",
       "      <td>cellular</td>\n",
       "      <td>7</td>\n",
       "      <td>apr</td>\n",
       "      <td>99</td>\n",
       "      <td>1</td>\n",
       "      <td>251</td>\n",
       "      <td>2</td>\n",
       "      <td>other</td>\n",
       "      <td>0</td>\n",
       "    </tr>\n",
       "  </tbody>\n",
       "</table>\n",
       "</div>"
      ],
      "text/plain": [
       "   ID  age         job   marital education default  balance housing loan  \\\n",
       "0   1   43  management   married  tertiary      no      291     yes   no   \n",
       "1   2   42  technician  divorced   primary      no     5076     yes   no   \n",
       "\n",
       "    contact  day month  duration  campaign  pdays  previous poutcome  y  \n",
       "0   unknown    9   may       150         2     -1         0  unknown  0  \n",
       "1  cellular    7   apr        99         1    251         2    other  0  "
      ]
     },
     "execution_count": 7,
     "metadata": {},
     "output_type": "execute_result"
    }
   ],
   "source": [
    "train_data = pd.read_csv('D:/Project/data/kesai_bankdata/train_set.csv')\n",
    "train_data.head(2)"
   ]
  },
  {
   "cell_type": "code",
   "execution_count": 15,
   "metadata": {},
   "outputs": [],
   "source": [
    "#银行营销数据，使用随机森林算法建模，网格搜索和交叉验证检验模型效果\n",
    "from sklearn.ensemble import RandomForestClassifier\n",
    "from sklearn.model_selection import GridSearchCV,cross_val_score\n",
    "#丢弃无用的数据，对训练集数据做哑变量处理\n",
    "train_data.drop(['ID','day','month'],axis=1,inplace=True)\n",
    "dummy = pd.get_dummies(train_data[['job','marital','education','housing','loan','contact','poutcome']])\n",
    "train_data = pd.concat([dummy,train_data],axis=1)\n",
    "train_data.drop(['job','marital','education','default','housing','loan','contact','poutcome'], inplace=True, axis=1)"
   ]
  },
  {
   "cell_type": "code",
   "execution_count": 30,
   "metadata": {},
   "outputs": [],
   "source": [
    "#划分数据集\n",
    "from sklearn.model_selection import train_test_split\n",
    "X = train_data[train_data.columns[:-1]]\n",
    "y = train_data['y']\n",
    "X_train,X_test,y_train,y_test = train_test_split(X,y,test_size=0.3,random_state=90)"
   ]
  },
  {
   "cell_type": "code",
   "execution_count": 70,
   "metadata": {},
   "outputs": [
    {
     "name": "stdout",
     "output_type": "stream",
     "text": [
      "0.89893273609469 161\n"
     ]
    },
    {
     "data": {
      "text/plain": [
       "[<matplotlib.lines.Line2D at 0x210d0f68828>]"
      ]
     },
     "execution_count": 70,
     "metadata": {},
     "output_type": "execute_result"
    },
    {
     "data": {
      "image/png": "[encoded data removed]",
      "text/plain": [
       "<Figure size 576x432 with 1 Axes>"
      ]
     },
     "metadata": {},
     "output_type": "display_data"
    }
   ],
   "source": [
    "#使用循环，判断树的数量为多少时得分最高\n",
    "score1 = []\n",
    "for i in range(0,200,10):\n",
    "    rfc = RandomForestClassifier(n_estimators=i+1,n_jobs=-1,random_state=90)\n",
    "    score = cross_val_score(rfc,X_train,y_train,cv=5).mean()\n",
    "    score1.append(score)\n",
    "print(max(score1),(score1.index(max(score1))*10)+1)\n",
    "plt.figure(figsize=(8,6))\n",
    "plt.plot(range(1,201,10),score1)"
   ]
  },
  {
   "cell_type": "code",
   "execution_count": 72,
   "metadata": {},
   "outputs": [
    {
     "name": "stdout",
     "output_type": "stream",
     "text": [
      "0.8990459649714888 163\n"
     ]
    },
    {
     "data": {
      "image/png": "[encoded data removed]",
      "text/plain": [
       "<Figure size 576x432 with 1 Axes>"
      ]
     },
     "metadata": {},
     "output_type": "display_data"
    }
   ],
   "source": [
    "#验证最高得分是否是161，所以在161范围再进行验证\n",
    "score1 = []\n",
    "for i in range(150,175):\n",
    "    rfc = RandomForestClassifier(n_estimators=i,n_jobs=-1,random_state=90)\n",
    "    score = cross_val_score(rfc,X_train,y_train,cv=5).mean()\n",
    "    score1.append(score)\n",
    "print(max(score1),([*range(150,175)][score1.index(max(score1))]))\n",
    "plt.figure(figsize=(8,6))\n",
    "plt.plot(range(150,175),score1);"
   ]
  },
  {
   "cell_type": "code",
   "execution_count": 73,
   "metadata": {},
   "outputs": [
    {
     "name": "stdout",
     "output_type": "stream",
     "text": [
      "{'max_depth': 13}\n",
      "0.9009085266068506\n"
     ]
    }
   ],
   "source": [
    "#通过上面再次验证可以看到，最高得分出现了变化，最合适树的数量为163，即n_estimators=163\n",
    "#使用网格搜索方法确定其他参数，计算最大树深度max_depth与最佳得分\n",
    "param_grid = {'max_depth':np.arange(1,20,1)}\n",
    "rfc = RandomForestClassifier(n_estimators=163,random_state=90)\n",
    "GS = GridSearchCV(rfc,param_grid,cv=5)\n",
    "GS.fit(X_train,y_train)\n",
    "print(GS.best_params_)  #得到结果，最大树深度max_depth为13时\n",
    "print(GS.best_score_) #最大树深度max_depth为13时，最佳得分0.9009085266068506"
   ]
  },
  {
   "cell_type": "code",
   "execution_count": 99,
   "metadata": {},
   "outputs": [
    {
     "name": "stdout",
     "output_type": "stream",
     "text": [
      "{'min_samples_leaf': 4}\n",
      "0.9015292590711586\n"
     ]
    }
   ],
   "source": [
    "#通过上面可以看到，最大树深度为13时，最佳得分提高升了0.00186分，接下来计算最小枝叶数\n",
    "param_grid = {'min_samples_leaf':np.arange(1,20,1)}\n",
    "rfc = RandomForestClassifier(n_estimators=163,random_state=90)\n",
    "GS = GridSearchCV(rfc,param_grid,cv=5)\n",
    "GS.fit(X_train,y_train)\n",
    "print(GS.best_params_) #{'min_samples_leaf': 6}\n",
    "print(GS.best_score_) #0.9015292590711586"
   ]
  },
  {
   "cell_type": "code",
   "execution_count": 133,
   "metadata": {},
   "outputs": [
    {
     "data": {
      "text/plain": [
       "0.9004739336492891"
      ]
     },
     "execution_count": 133,
     "metadata": {},
     "output_type": "execute_result"
    }
   ],
   "source": [
    "#通过以上可以看到，最佳min_samples_leaf为4时，最佳得分0.9015，可以将min_samples_leaf分别带入和不带入测试集数据\n",
    "#查看两种方式在测试集中的结果，如果需要提高模型准确度，可以调节cv数值，也可以从特征工程入手\n",
    "\n",
    "#建立模型\n",
    "rfc = RandomForestClassifier(n_estimators=163,max_depth=13,min_samples_leaf=4,random_state=90)\n",
    "rfc.fit(X_train,y_train)\n",
    "rfc.score(X_test,y_test)"
   ]
  },
  {
   "cell_type": "code",
   "execution_count": 129,
   "metadata": {},
   "outputs": [],
   "source": [
    "#通过以上带入和不带入min_samples_leaf，在测试集中的得分看到，不带入时得分要高一些，说明预剪枝带来了欠拟合\n",
    "#输出结果\n",
    "test_data = pd.read_csv('D:/Project/data/kesai_bankdata/test_set.csv')\n",
    "ID = test_data.ID\n",
    "test_data.drop(['ID','day','month'], axis=1, inplace=True)\n",
    "dummy = pd.get_dummies(test_data[['job','marital','education','housing','loan','contact','poutcome']])\n",
    "test_data = pd.concat([dummy,test_data],axis=1)\n",
    "test_data.drop(['job','marital','education','default','housing','loan','contact','poutcome'], inplace=True, axis=1)"
   ]
  },
  {
   "cell_type": "code",
   "execution_count": 130,
   "metadata": {},
   "outputs": [],
   "source": [
    "pred = rfc.predict_proba(test_data)\n",
    "test_data1 = pd.DataFrame(pred,index=ID,columns=['pred0','pred'])\n",
    "test_data1.drop('pred0',axis=1,inplace=True)\n",
    "test_data1.to_csv('D:/bank_score.csv')"
   ]
  },
  {
   "cell_type": "code",
   "execution_count": 25,
   "metadata": {},
   "outputs": [
    {
     "data": {
      "text/html": [
       "<div>\n",
       "<style scoped>\n",
       "    .dataframe tbody tr th:only-of-type {\n",
       "        vertical-align: middle;\n",
       "    }\n",
       "\n",
       "    .dataframe tbody tr th {\n",
       "        vertical-align: top;\n",
       "    }\n",
       "\n",
       "    .dataframe thead th {\n",
       "        text-align: right;\n",
       "    }\n",
       "</style>\n",
       "<table border=\"1\" class=\"dataframe\">\n",
       "  <thead>\n",
       "    <tr style=\"text-align: right;\">\n",
       "      <th></th>\n",
       "      <th>station_id</th>\n",
       "      <th>pile_sum</th>\n",
       "      <th>sum(rate_power)</th>\n",
       "      <th>sum(charge_energy)</th>\n",
       "      <th>sum(charge_total_fee)</th>\n",
       "      <th>months</th>\n",
       "    </tr>\n",
       "  </thead>\n",
       "  <tbody>\n",
       "    <tr>\n",
       "      <th>0</th>\n",
       "      <td>370724875915934719</td>\n",
       "      <td>5508</td>\n",
       "      <td>384336</td>\n",
       "      <td>109926.0</td>\n",
       "      <td>125755.65</td>\n",
       "      <td>201907</td>\n",
       "    </tr>\n",
       "    <tr>\n",
       "      <th>1</th>\n",
       "      <td>448295279107571811</td>\n",
       "      <td>1034</td>\n",
       "      <td>62040</td>\n",
       "      <td>35499.7</td>\n",
       "      <td>35499.70</td>\n",
       "      <td>201907</td>\n",
       "    </tr>\n",
       "  </tbody>\n",
       "</table>\n",
       "</div>"
      ],
      "text/plain": [
       "           station_id  pile_sum  sum(rate_power)  sum(charge_energy)  \\\n",
       "0  370724875915934719      5508           384336            109926.0   \n",
       "1  448295279107571811      1034            62040             35499.7   \n",
       "\n",
       "   sum(charge_total_fee)  months  \n",
       "0              125755.65  201907  \n",
       "1               35499.70  201907  "
      ]
     },
     "execution_count": 25,
     "metadata": {},
     "output_type": "execute_result"
    }
   ],
   "source": [
    "std = pd.read_csv('d:/qs_order_station.txt',sep='\\t')\n",
    "std.head(2)"
   ]
  },
  {
   "cell_type": "code",
   "execution_count": 69,
   "metadata": {},
   "outputs": [],
   "source": [
    "plt.rcParams['font.sans-serif']=['SimHei'] # 用来正常显示中文字体标签（全局设置） \n",
    "plt.rcParams['axes.unicode_minus']=False # 用来正常显示负号"
   ]
  },
  {
   "cell_type": "code",
   "execution_count": 96,
   "metadata": {},
   "outputs": [
    {
     "name": "stdout",
     "output_type": "stream",
     "text": [
      "detail_13008868407_5023.txt\n",
      "detail_13424283303_5938.txt\n",
      "detail_13530558549_4562.txt\n",
      "detail_13538267529_4216.txt\n",
      "detail_13682429979_2247.txt\n",
      "detail_13923850272_4422.txt\n",
      "detail_15879888031_6175.txt\n",
      "detail_15994737896_6420.txt\n",
      "detail_17603004840_1864.txt\n",
      "detail_18025350871_5621.txt\n",
      "detail_18823721569_4662.txt\n"
     ]
    }
   ],
   "source": [
    "import os \n",
    "import re\n",
    "for i in range(0,19):\n",
    "    if re.findall('^detail.*',os.listdir('d:/')[i]):\n",
    "        filename = os.listdir('d:/')[i]\n",
    "        print(filename)\n",
    "        data = pd.read_csv('d:/'+filename,sep='\\t')\n",
    "        u = data['nav_array_field.maxVoltage']\n",
    "        c = data['nav_array_field.dcCurrentO']/10\n",
    "        duration = data['nav_array_field.duration']\n",
    "        kwh = data['nav_array_field.kwh']/100\n",
    "#         print('duration:',duration.max(),'min',kwh.max(),'kwh')\n",
    "        p = u*c\n",
    "#         plt.figure(figsize=(10,4))\n",
    "#         plt.scatter(range(0,len(c)),c)\n",
    "#         plt.plot(c)\n",
    "#         plt.plot(u)\n",
    "#         print(p.max())"
   ]
  },
  {
   "cell_type": "code",
   "execution_count": 3,
   "metadata": {},
   "outputs": [
    {
     "data": {
      "text/plain": [
       "True"
      ]
     },
     "execution_count": 3,
     "metadata": {},
     "output_type": "execute_result"
    }
   ],
   "source": [
    "#连接mongodb数据库\n",
    "from pymongo import MongoClient\n",
    "import sys\n",
    "host = '192.168.64.50'\n",
    "client = MongoClient(host,27017)\n",
    "db = client.chargerlink_car\n",
    "db.authenticate('duli','yuyan')"
   ]
  },
  {
   "cell_type": "code",
   "execution_count": 102,
   "metadata": {},
   "outputs": [
    {
     "name": "stdout",
     "output_type": "stream",
     "text": [
      "1113\n",
      "1112\n",
      "ok\n"
     ]
    }
   ],
   "source": [
    "\n",
    "#读取目前获取到的所有vin数据\n",
    "allvin = pd.read_csv('d:/all_vin_chargerinfo.txt',sep='\\t')\n",
    "print(len(allvin))\n",
    "#在mongodb数据库中查询每个vin对应的数据\n",
    "for i in range(1113):\n",
    "    res = db.order_info_in_time.find({'vin':str(int(allvin['_id'][i])),'startSoc':int(allvin['startsoc'][i])},{'_id':0,'satrtSoc':1,'details':1})\n",
    "    for r in res:\n",
    "#         print(r['details'][0]['kwh'])\n",
    "        lenth = len(r['details'])\n",
    "        if lenth > 40:\n",
    "            for n in range(lenth):\n",
    "                uc_data = r['details'][n]['maxVoltage'],r['details'][n]['dcCurrentO']/10\n",
    "                with open('d:/uv.txt',mode='a',encoding='utf-8') as uv:\n",
    "                    uv.writelines(str(uc_data) + '\\n')\n",
    "print(i)    \n",
    "print('ok')\n"
   ]
  },
  {
   "cell_type": "code",
   "execution_count": 2,
   "metadata": {},
   "outputs": [
    {
     "data": {
      "text/html": [
       "<div>\n",
       "<style scoped>\n",
       "    .dataframe tbody tr th:only-of-type {\n",
       "        vertical-align: middle;\n",
       "    }\n",
       "\n",
       "    .dataframe tbody tr th {\n",
       "        vertical-align: top;\n",
       "    }\n",
       "\n",
       "    .dataframe thead th {\n",
       "        text-align: right;\n",
       "    }\n",
       "</style>\n",
       "<table border=\"1\" class=\"dataframe\">\n",
       "  <thead>\n",
       "    <tr style=\"text-align: right;\">\n",
       "      <th></th>\n",
       "      <th>voltage</th>\n",
       "      <th>current</th>\n",
       "    </tr>\n",
       "  </thead>\n",
       "  <tbody>\n",
       "    <tr>\n",
       "      <th>0</th>\n",
       "      <td>367</td>\n",
       "      <td>58.3</td>\n",
       "    </tr>\n",
       "    <tr>\n",
       "      <th>1</th>\n",
       "      <td>337</td>\n",
       "      <td>193.2</td>\n",
       "    </tr>\n",
       "  </tbody>\n",
       "</table>\n",
       "</div>"
      ],
      "text/plain": [
       "   voltage  current\n",
       "0      367     58.3\n",
       "1      337    193.2"
      ]
     },
     "execution_count": 2,
     "metadata": {},
     "output_type": "execute_result"
    }
   ],
   "source": [
    "da = pd.read_csv('d:/uc_20data.txt')\n",
    "da.head(2)"
   ]
  },
  {
   "cell_type": "code",
   "execution_count": 3,
   "metadata": {},
   "outputs": [
    {
     "data": {
      "text/plain": [
       "1148"
      ]
     },
     "execution_count": 3,
     "metadata": {},
     "output_type": "execute_result"
    }
   ],
   "source": [
    "voltage = da['voltage']\n",
    "current = da['current']\n",
    "p = voltage*current\n",
    "p.head(2)\n",
    "len(p)"
   ]
  },
  {
   "cell_type": "code",
   "execution_count": 122,
   "metadata": {},
   "outputs": [
    {
     "data": {
      "text/plain": [
       "<matplotlib.collections.PathCollection at 0x2ae022417f0>"
      ]
     },
     "execution_count": 122,
     "metadata": {},
     "output_type": "execute_result"
    },
    {
     "data": {
      "image/png": "[encoded data removed]",
      "text/plain": [
       "<Figure size 432x288 with 1 Axes>"
      ]
     },
     "metadata": {
      "needs_background": "light"
     },
     "output_type": "display_data"
    }
   ],
   "source": [
    "plt.figure(figsize=(8,6))\n",
    "plt.scatter(range(0,1148),p)"
   ]
  },
  {
   "cell_type": "code",
   "execution_count": 6,
   "metadata": {},
   "outputs": [
    {
     "name": "stdout",
     "output_type": "stream",
     "text": [
      "使用时间 1567074170.0962322\n",
      "ok\n"
     ]
    }
   ],
   "source": [
    "allvin = pd.read_csv('d:/all_vin_chargerinfo.txt',sep='\\t')\n",
    "t1 = time.time()\n",
    "for i in range(1113):\n",
    "    res = db.order_info_in_time.find({'vin':str(int(allvin['_id'][i])),'startSoc':int(allvin['startsoc'][i])},{'_id':0,'satrtSoc':1,'details':1})\n",
    "    for r in res:\n",
    "#         print(r['details'][0]['kwh'])\n",
    "        lenth = len(r['details'])\n",
    "        if lenth > 40:\n",
    "            uc_data = r['details'][20]['maxVoltage'],r['details'][20]['dcCurrentO']/10\n",
    "            with open('d:/uc_5min.txt',mode='a',encoding='utf-8') as uv:\n",
    "                uv.writelines(str(uc_data) + '\\n')\n",
    "t2 = time.time()\n",
    "print('使用时间',t2)    \n",
    "print('ok')"
   ]
  },
  {
   "cell_type": "code",
   "execution_count": 88,
   "metadata": {},
   "outputs": [
    {
     "name": "stderr",
     "output_type": "stream",
     "text": [
      "D:\\software\\Anaconda-InstallFiles\\lib\\site-packages\\sklearn\\preprocessing\\data.py:645: DataConversionWarning: Data with input dtype int64 were all converted to float64 by StandardScaler.\n",
      "  return self.partial_fit(X, y)\n",
      "D:\\software\\Anaconda-InstallFiles\\lib\\site-packages\\sklearn\\base.py:464: DataConversionWarning: Data with input dtype int64 were all converted to float64 by StandardScaler.\n",
      "  return self.fit(X, **fit_params).transform(X)\n"
     ]
    },
    {
     "data": {
      "text/html": [
       "<div>\n",
       "<style scoped>\n",
       "    .dataframe tbody tr th:only-of-type {\n",
       "        vertical-align: middle;\n",
       "    }\n",
       "\n",
       "    .dataframe tbody tr th {\n",
       "        vertical-align: top;\n",
       "    }\n",
       "\n",
       "    .dataframe thead th {\n",
       "        text-align: right;\n",
       "    }\n",
       "</style>\n",
       "<table border=\"1\" class=\"dataframe\">\n",
       "  <thead>\n",
       "    <tr style=\"text-align: right;\">\n",
       "      <th></th>\n",
       "      <th>国家</th>\n",
       "      <th>2019年国际排名</th>\n",
       "      <th>2018世界杯</th>\n",
       "      <th>2015亚洲杯</th>\n",
       "      <th>聚类</th>\n",
       "    </tr>\n",
       "  </thead>\n",
       "  <tbody>\n",
       "    <tr>\n",
       "      <th>0</th>\n",
       "      <td>中国</td>\n",
       "      <td>73</td>\n",
       "      <td>40</td>\n",
       "      <td>7</td>\n",
       "      <td>2</td>\n",
       "    </tr>\n",
       "    <tr>\n",
       "      <th>1</th>\n",
       "      <td>日本</td>\n",
       "      <td>60</td>\n",
       "      <td>15</td>\n",
       "      <td>5</td>\n",
       "      <td>1</td>\n",
       "    </tr>\n",
       "  </tbody>\n",
       "</table>\n",
       "</div>"
      ],
      "text/plain": [
       "   国家  2019年国际排名  2018世界杯  2015亚洲杯  聚类\n",
       "0  中国         73       40        7   2\n",
       "1  日本         60       15        5   1"
      ]
     },
     "execution_count": 88,
     "metadata": {},
     "output_type": "execute_result"
    }
   ],
   "source": [
    "from sklearn.cluster import KMeans\n",
    "from sklearn import preprocessing\n",
    "data= pd.read_csv('d:/data.csv',encoding='gbk')\n",
    "train_x = data[['2019年国际排名','2018世界杯','2015亚洲杯']]\n",
    "scaler = preprocessing.StandardScaler()\n",
    "train_x_scl = scaler.fit_transform(train_x)\n",
    "kmeans = KMeans(n_clusters=5)\n",
    "kmeans.fit(train_x_scl)\n",
    "pre_y = kmeans.predict(train_x_scl)\n",
    "result = pd.concat((data,pd.DataFrame(pre_y)),axis=1)\n",
    "result.rename({0:'聚类'},axis=1,inplace=True)\n",
    "result.head(2)"
   ]
  },
  {
   "cell_type": "code",
   "execution_count": 123,
   "metadata": {},
   "outputs": [
    {
     "name": "stderr",
     "output_type": "stream",
     "text": [
      "D:\\software\\Anaconda-InstallFiles\\lib\\site-packages\\sklearn\\preprocessing\\data.py:645: DataConversionWarning: Data with input dtype int64, float64 were all converted to float64 by StandardScaler.\n",
      "  return self.partial_fit(X, y)\n",
      "D:\\software\\Anaconda-InstallFiles\\lib\\site-packages\\sklearn\\base.py:464: DataConversionWarning: Data with input dtype int64, float64 were all converted to float64 by StandardScaler.\n",
      "  return self.fit(X, **fit_params).transform(X)\n"
     ]
    },
    {
     "data": {
      "text/plain": [
       "4563.761249195325"
      ]
     },
     "execution_count": 123,
     "metadata": {},
     "output_type": "execute_result"
    }
   ],
   "source": [
    "uc = pd.read_csv('d:/uc_data.txt')\n",
    "scaler = preprocessing.StandardScaler()\n",
    "train_uc = scaler.fit_transform(uc)\n",
    "kmeans = KMeans(n_clusters=9)\n",
    "kmeans.fit(train_uc)\n",
    "pre_uc = kmeans.predict(train_uc)\n",
    "result = pd.concat((uc,pd.DataFrame(pre_uc)),axis=1)\n",
    "result.rename({0:'type'},axis=1,inplace=True)\n",
    "from sklearn import metrics\n",
    "metrics.calinski_harabaz_score(uc,pre_uc)"
   ]
  },
  {
   "cell_type": "code",
   "execution_count": null,
   "metadata": {},
   "outputs": [],
   "source": []
  },
  {
   "cell_type": "code",
   "execution_count": null,
   "metadata": {},
   "outputs": [],
   "source": []
  }
 ],
 "metadata": {
  "kernelspec": {
   "display_name": "Python 3",
   "language": "python",
   "name": "python3"
  },
  "language_info": {
   "codemirror_mode": {
    "name": "ipython",
    "version": 3
   },
   "file_extension": ".py",
   "mimetype": "text/x-python",
   "name": "python",
   "nbconvert_exporter": "python",
   "pygments_lexer": "ipython3",
   "version": "3.6.8"
  }
 },
 "nbformat": 4,
 "nbformat_minor": 2
}
