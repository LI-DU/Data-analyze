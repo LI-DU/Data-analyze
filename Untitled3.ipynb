{
 "cells": [
  {
   "cell_type": "code",
   "execution_count": 1,
   "metadata": {},
   "outputs": [],
   "source": [
    "import os\n",
    "import re\n",
    "import time\n",
    "import codecs\n",
    "import subprocess\n",
    "import datetime"
   ]
  },
  {
   "cell_type": "code",
   "execution_count": 11,
   "metadata": {},
   "outputs": [
    {
     "name": "stdout",
     "output_type": "stream",
     "text": [
      "['192.168.232.120-2019040908.log', '192.168.232.120-2019040910.log', '192.168.232.120-2019040913.log', '192.168.232.120-2019040914.log', '192.168.232.128-2019032716.log', '192.168.232.128-2019040914.log', 'session-20190327.log']\n"
     ]
    }
   ],
   "source": [
    "files = os.listdir('D:/Project/LOG')\n",
    "print(files)"
   ]
  },
  {
   "cell_type": "code",
   "execution_count": 12,
   "metadata": {},
   "outputs": [
    {
     "name": "stdout",
     "output_type": "stream",
     "text": [
      "20190409165215\n",
      "[]\n"
     ]
    }
   ],
   "source": [
    "time_now = datetime.datetime.now().strftime('%Y%m%d%H%M%S')\n",
    "print(time_now)\n",
    "files_list = list(filter(lambda x:x[-4:]=='.log' and x[0:8]==time_now, files))\n",
    "print(files_list)"
   ]
  },
  {
   "cell_type": "code",
   "execution_count": null,
   "metadata": {},
   "outputs": [],
   "source": [
    "import subprocess\n",
    "import time\n",
    "#读取车辆坐标位置文件\n",
    "def get_cortxt():\n",
    "    p = subprocess.Popen('tail -F /home/admin/LOG/2019040916.log',shell=True,\n",
    "                    stdout=subprocess.PIPE,stderr=subprocess.PIPE)\n",
    "    while True:\n",
    "        line = p.stdout.readline()\n",
    "        if line:\n",
    "            cor_areas(line)\n",
    "        "
   ]
  },
  {
   "cell_type": "code",
   "execution_count": null,
   "metadata": {},
   "outputs": [],
   "source": [
    "#!/usr/bin/env python\n",
    "#--*-- coding:utf-8 --*--\n",
    "\n",
    "#python根据一个给定经纬度的点，进行附近5km距离坐标查询\n",
    "import pymysql\n",
    "import os\n",
    "import time\n",
    "import subprocess\n",
    "import numpy as np\n",
    "import pandas as pd\n",
    "from math import sin, asin, cos, radians, fabs, sqrt,degrees\n",
    "\n",
    "#读取车辆坐标位置文件\n",
    "def get_cortxt():\n",
    "    p = subprocess.Popen('tail -F D:/cor.txt',shell=True,\n",
    "                    stdout=subprocess.PIPE,stderr=subprocess.PIPE)\n",
    "    while True:\n",
    "        line = p.stdout.readline()\n",
    "        if line:\n",
    "            cor_areas(line)\n",
    "        \n",
    "#计算坐标点周围5km，东西两侧距离,lat表示纬度，lng表示经度\n",
    "def cor_areas(coordinate):\n",
    "    dlng = 2 * asin(sin(distance / (2 * EARTH_RADIUS)) / cos(coordinate[1]))\n",
    "    dlng = degrees(dlng)        # 弧度转换成角度\n",
    "\n",
    "    #计算坐标点周围5km，南北两侧距离坐标\n",
    "    dlat = distance / EARTH_RADIUS\n",
    "    dlat = degrees(dlat)     # 弧度转换成角度\n",
    "    \n",
    "    #cor1左上角坐标点，cor2右下角坐标点\n",
    "    cor1_vin,cor1_lat,cor1_lng = coordinate[0],coordinate[1] + dlat,coordinate[2] - dlng\n",
    "    cor2_vin,cor2_lat,cor2_lng = coordinate[0],coordinate[1] - dlat,coordinate[2] + dlng\n",
    "    print(cor1_lat)\n",
    "#主函数部分\n",
    "if __name__ == '__main__':\n",
    "    EARTH_RADIUS=6371 #地球半径\n",
    "    distance = 5  #车辆周围距离5km\n",
    "    get_cortxt()"
   ]
  },
  {
   "cell_type": "code",
   "execution_count": 87,
   "metadata": {},
   "outputs": [],
   "source": [
    "import requests\n",
    "import json\n",
    "lng_lat = 116.470098,39.992838\n",
    "base = \"https://m.amap.com/navi/?\"\n",
    "parameters={lng_lat&destName=阜通西&'hideRouteIcon'=1&'key':1ef4feb796dad8d6892708ab9bc1a8f2}\n",
    "\n",
    "res = requests.get(parameters)\n",
    "# res.text"
   ]
  },
  {
   "cell_type": "code",
   "execution_count": 1,
   "metadata": {},
   "outputs": [
    {
     "name": "stderr",
     "output_type": "stream",
     "text": [
      "D:\\software\\Anaconda-InstallFiles\\lib\\importlib\\_bootstrap.py:219: RuntimeWarning: numpy.ufunc size changed, may indicate binary incompatibility. Expected 192 from C header, got 216 from PyObject\n",
      "  return f(*args, **kwds)\n"
     ]
    }
   ],
   "source": [
    "import numpy as np\n",
    "import pandas as pd\n",
    "import matplotlib.pyplot as plt"
   ]
  },
  {
   "cell_type": "code",
   "execution_count": 22,
   "metadata": {},
   "outputs": [],
   "source": [
    "station_id = pd.read_csv('D:/station_id_all.txt',sep='\\t',encoding='utf-8')"
   ]
  },
  {
   "cell_type": "code",
   "execution_count": 92,
   "metadata": {},
   "outputs": [
    {
     "data": {
      "text/plain": [
       "station_id    346\n",
       "dtype: int64"
      ]
     },
     "execution_count": 92,
     "metadata": {},
     "output_type": "execute_result"
    }
   ],
   "source": [
    "station_id.count()"
   ]
  },
  {
   "cell_type": "code",
   "execution_count": 154,
   "metadata": {},
   "outputs": [],
   "source": [
    "for i in range(len(station_id)):\n",
    "    id = int(station_id.loc[i])\n",
    "    pid = (power['station_id']==id)\n",
    "    \n",
    "    pile_type = str(power[pid]['pile_type'].sum())\n",
    "    with open('D:/pile_type.txt','a+') as p:\n",
    "        p.writelines(pile_type+'\\n')\n",
    "\n",
    "#桩的数量\n",
    "#     pile_num = str(power[pid]['pile_name'].count())\n",
    "#     with open('D:/pile_num.txt','a+') as pile:\n",
    "#         pile.writelines(pile_num+'\\n')\n",
    "#场站总功率\n",
    "#     power_sum = str(power[pid]['rate_power'].sum())\n",
    "#     with open('D:/powersum.txt','a+') as f:\n",
    "#         f.writelines(power_sum+'\\n')\n",
    "\n",
    "#     piletype_0 = power[id01][power[id01]['pile_type']==0]['pile_type'].count()  #站点内类型桩类型为0的数量\n",
    "#     piletype_1 = power[id01][power[id01]['pile_type']==1]['pile_type'].count()  #站点内类型桩类型为0的数量\n",
    "\n"
   ]
  },
  {
   "cell_type": "code",
   "execution_count": null,
   "metadata": {},
   "outputs": [],
   "source": []
  },
  {
   "cell_type": "code",
   "execution_count": 93,
   "metadata": {},
   "outputs": [],
   "source": [
    "power = pd.read_csv('D:/pilepower_v1.0-20190411.txt',sep='\\t',encoding='utf-8')"
   ]
  },
  {
   "cell_type": "code",
   "execution_count": 94,
   "metadata": {},
   "outputs": [
    {
     "data": {
      "text/html": [
       "<div>\n",
       "<style scoped>\n",
       "    .dataframe tbody tr th:only-of-type {\n",
       "        vertical-align: middle;\n",
       "    }\n",
       "\n",
       "    .dataframe tbody tr th {\n",
       "        vertical-align: top;\n",
       "    }\n",
       "\n",
       "    .dataframe thead th {\n",
       "        text-align: right;\n",
       "    }\n",
       "</style>\n",
       "<table border=\"1\" class=\"dataframe\">\n",
       "  <thead>\n",
       "    <tr style=\"text-align: right;\">\n",
       "      <th></th>\n",
       "      <th>station_id</th>\n",
       "      <th>pile_name</th>\n",
       "      <th>rate_power</th>\n",
       "      <th>pile_type</th>\n",
       "      <th>rated_voltage</th>\n",
       "      <th>rated_current</th>\n",
       "    </tr>\n",
       "  </thead>\n",
       "  <tbody>\n",
       "    <tr>\n",
       "      <th>0</th>\n",
       "      <td>114705900910300310</td>\n",
       "      <td>01号桩</td>\n",
       "      <td>7.5</td>\n",
       "      <td>0</td>\n",
       "      <td>220</td>\n",
       "      <td>32.0</td>\n",
       "    </tr>\n",
       "    <tr>\n",
       "      <th>1</th>\n",
       "      <td>114705900910300310</td>\n",
       "      <td>02号桩</td>\n",
       "      <td>7.5</td>\n",
       "      <td>0</td>\n",
       "      <td>220</td>\n",
       "      <td>32.0</td>\n",
       "    </tr>\n",
       "    <tr>\n",
       "      <th>2</th>\n",
       "      <td>114705900910300310</td>\n",
       "      <td>03号桩</td>\n",
       "      <td>7.5</td>\n",
       "      <td>0</td>\n",
       "      <td>220</td>\n",
       "      <td>32.0</td>\n",
       "    </tr>\n",
       "  </tbody>\n",
       "</table>\n",
       "</div>"
      ],
      "text/plain": [
       "           station_id pile_name  rate_power  pile_type  rated_voltage  \\\n",
       "0  114705900910300310      01号桩         7.5          0            220   \n",
       "1  114705900910300310      02号桩         7.5          0            220   \n",
       "2  114705900910300310      03号桩         7.5          0            220   \n",
       "\n",
       "   rated_current  \n",
       "0           32.0  \n",
       "1           32.0  \n",
       "2           32.0  "
      ]
     },
     "execution_count": 94,
     "metadata": {},
     "output_type": "execute_result"
    }
   ],
   "source": [
    "power.head(3)"
   ]
  },
  {
   "cell_type": "code",
   "execution_count": null,
   "metadata": {},
   "outputs": [],
   "source": [
    "\n",
    "    "
   ]
  },
  {
   "cell_type": "code",
   "execution_count": null,
   "metadata": {},
   "outputs": [],
   "source": []
  },
  {
   "cell_type": "code",
   "execution_count": 86,
   "metadata": {},
   "outputs": [
    {
     "data": {
      "text/plain": [
       "station_id       1644\n",
       "pile_name        1644\n",
       "rate_power       1644\n",
       "pile_type        1644\n",
       "rated_voltage    1644\n",
       "rated_current    1644\n",
       "dtype: int64"
      ]
     },
     "execution_count": 86,
     "metadata": {},
     "output_type": "execute_result"
    }
   ],
   "source": [
    "power[power['pile_type']==0].count()"
   ]
  },
  {
   "cell_type": "code",
   "execution_count": 90,
   "metadata": {},
   "outputs": [
    {
     "name": "stderr",
     "output_type": "stream",
     "text": [
      "D:\\software\\Anaconda-InstallFiles\\lib\\site-packages\\ipykernel_launcher.py:1: FutureWarning: The signature of `Series.to_csv` was aligned to that of `DataFrame.to_csv`, and argument 'header' will change its default value from False to True: please pass an explicit value to suppress this warning.\n",
      "  \"\"\"Entry point for launching an IPython kernel.\n"
     ]
    }
   ],
   "source": [
    "power[power['pile_type']==1]['station_id'].to_csv('D:/id1.csv',encoding='utf-8')"
   ]
  },
  {
   "cell_type": "code",
   "execution_count": 91,
   "metadata": {},
   "outputs": [
    {
     "name": "stderr",
     "output_type": "stream",
     "text": [
      "D:\\software\\Anaconda-InstallFiles\\lib\\site-packages\\ipykernel_launcher.py:1: FutureWarning: The signature of `Series.to_csv` was aligned to that of `DataFrame.to_csv`, and argument 'header' will change its default value from False to True: please pass an explicit value to suppress this warning.\n",
      "  \"\"\"Entry point for launching an IPython kernel.\n"
     ]
    }
   ],
   "source": [
    "power[power['pile_type']==0]['station_id'].to_csv('D:/id0.csv',encoding='utf-8')"
   ]
  },
  {
   "cell_type": "code",
   "execution_count": 88,
   "metadata": {},
   "outputs": [
    {
     "data": {
      "text/plain": [
       "station_id       3593\n",
       "pile_name        3593\n",
       "rate_power       3593\n",
       "pile_type        3593\n",
       "rated_voltage    3593\n",
       "rated_current    3593\n",
       "dtype: int64"
      ]
     },
     "execution_count": 88,
     "metadata": {},
     "output_type": "execute_result"
    }
   ],
   "source": [
    "power.count()"
   ]
  },
  {
   "cell_type": "code",
   "execution_count": 345,
   "metadata": {},
   "outputs": [],
   "source": [
    "coor = pd.read_csv('D:/coordinate.txt',encoding='utf-8')"
   ]
  },
  {
   "cell_type": "code",
   "execution_count": 357,
   "metadata": {},
   "outputs": [],
   "source": [
    "import folium"
   ]
  },
  {
   "cell_type": "code",
   "execution_count": 353,
   "metadata": {},
   "outputs": [
    {
     "data": {
      "text/html": [
       "<div>\n",
       "<style scoped>\n",
       "    .dataframe tbody tr th:only-of-type {\n",
       "        vertical-align: middle;\n",
       "    }\n",
       "\n",
       "    .dataframe tbody tr th {\n",
       "        vertical-align: top;\n",
       "    }\n",
       "\n",
       "    .dataframe thead th {\n",
       "        text-align: right;\n",
       "    }\n",
       "</style>\n",
       "<table border=\"1\" class=\"dataframe\">\n",
       "  <thead>\n",
       "    <tr style=\"text-align: right;\">\n",
       "      <th></th>\n",
       "      <th>lng</th>\n",
       "      <th>lat</th>\n",
       "    </tr>\n",
       "  </thead>\n",
       "  <tbody>\n",
       "    <tr>\n",
       "      <th>0</th>\n",
       "      <td>120.652630</td>\n",
       "      <td>31.148974</td>\n",
       "    </tr>\n",
       "    <tr>\n",
       "      <th>1</th>\n",
       "      <td>120.654624</td>\n",
       "      <td>31.180200</td>\n",
       "    </tr>\n",
       "    <tr>\n",
       "      <th>2</th>\n",
       "      <td>120.643735</td>\n",
       "      <td>31.158202</td>\n",
       "    </tr>\n",
       "  </tbody>\n",
       "</table>\n",
       "</div>"
      ],
      "text/plain": [
       "          lng        lat\n",
       "0  120.652630  31.148974\n",
       "1  120.654624  31.180200\n",
       "2  120.643735  31.158202"
      ]
     },
     "execution_count": 353,
     "metadata": {},
     "output_type": "execute_result"
    }
   ],
   "source": [
    "coor.head(3)"
   ]
  },
  {
   "cell_type": "code",
   "execution_count": 351,
   "metadata": {},
   "outputs": [
    {
     "data": {
      "text/plain": [
       "120.65263"
      ]
     },
     "execution_count": 351,
     "metadata": {},
     "output_type": "execute_result"
    }
   ],
   "source": [
    "coor['lng'].loc[0]"
   ]
  },
  {
   "cell_type": "code",
   "execution_count": null,
   "metadata": {},
   "outputs": [],
   "source": []
  },
  {
   "cell_type": "code",
   "execution_count": 16,
   "metadata": {},
   "outputs": [],
   "source": [
    "import numpy as np\n",
    "import pandas as pd\n",
    "import time\n",
    "from datetime import datetime\n",
    "import re\n",
    "import os\n"
   ]
  },
  {
   "cell_type": "code",
   "execution_count": 23,
   "metadata": {},
   "outputs": [],
   "source": [
    "df = pd.read_csv('D:/Work-Files/Data/qs_charge_order/201903_order.csv',encoding='utf-8')"
   ]
  },
  {
   "cell_type": "code",
   "execution_count": 24,
   "metadata": {},
   "outputs": [
    {
     "data": {
      "text/html": [
       "<div>\n",
       "<style scoped>\n",
       "    .dataframe tbody tr th:only-of-type {\n",
       "        vertical-align: middle;\n",
       "    }\n",
       "\n",
       "    .dataframe tbody tr th {\n",
       "        vertical-align: top;\n",
       "    }\n",
       "\n",
       "    .dataframe thead th {\n",
       "        text-align: right;\n",
       "    }\n",
       "</style>\n",
       "<table border=\"1\" class=\"dataframe\">\n",
       "  <thead>\n",
       "    <tr style=\"text-align: right;\">\n",
       "      <th></th>\n",
       "      <th>owner_id</th>\n",
       "      <th>station_id</th>\n",
       "      <th>charge_energy</th>\n",
       "      <th>charge_start_time</th>\n",
       "      <th>charge_end_time</th>\n",
       "      <th>create_time</th>\n",
       "    </tr>\n",
       "  </thead>\n",
       "  <tbody>\n",
       "    <tr>\n",
       "      <th>0</th>\n",
       "      <td>346.0</td>\n",
       "      <td>8546040374146392203</td>\n",
       "      <td>30.12</td>\n",
       "      <td>22/3/2019 22:04:41</td>\n",
       "      <td>22/3/2019 22:55:51</td>\n",
       "      <td>NaN</td>\n",
       "    </tr>\n",
       "    <tr>\n",
       "      <th>1</th>\n",
       "      <td>346.0</td>\n",
       "      <td>4571640702956861343</td>\n",
       "      <td>0.00</td>\n",
       "      <td>26/3/2019 15:16:21</td>\n",
       "      <td>26/3/2019 15:16:42</td>\n",
       "      <td>NaN</td>\n",
       "    </tr>\n",
       "  </tbody>\n",
       "</table>\n",
       "</div>"
      ],
      "text/plain": [
       "   owner_id           station_id  charge_energy   charge_start_time  \\\n",
       "0     346.0  8546040374146392203          30.12  22/3/2019 22:04:41   \n",
       "1     346.0  4571640702956861343           0.00  26/3/2019 15:16:21   \n",
       "\n",
       "      charge_end_time create_time  \n",
       "0  22/3/2019 22:55:51         NaN  \n",
       "1  26/3/2019 15:16:42         NaN  "
      ]
     },
     "execution_count": 24,
     "metadata": {},
     "output_type": "execute_result"
    }
   ],
   "source": [
    "df.head(2)"
   ]
  },
  {
   "cell_type": "code",
   "execution_count": 25,
   "metadata": {},
   "outputs": [],
   "source": [
    "station_id = df['station_id']"
   ]
  },
  {
   "cell_type": "code",
   "execution_count": 39,
   "metadata": {},
   "outputs": [
    {
     "data": {
      "text/plain": [
       "318197"
      ]
     },
     "execution_count": 39,
     "metadata": {},
     "output_type": "execute_result"
    }
   ],
   "source": [
    "len(df)"
   ]
  },
  {
   "cell_type": "code",
   "execution_count": 51,
   "metadata": {},
   "outputs": [],
   "source": [
    "df.sort_values('station_id',inplace=True)"
   ]
  },
  {
   "cell_type": "code",
   "execution_count": 62,
   "metadata": {},
   "outputs": [
    {
     "data": {
      "text/html": [
       "<div>\n",
       "<style scoped>\n",
       "    .dataframe tbody tr th:only-of-type {\n",
       "        vertical-align: middle;\n",
       "    }\n",
       "\n",
       "    .dataframe tbody tr th {\n",
       "        vertical-align: top;\n",
       "    }\n",
       "\n",
       "    .dataframe thead th {\n",
       "        text-align: right;\n",
       "    }\n",
       "</style>\n",
       "<table border=\"1\" class=\"dataframe\">\n",
       "  <thead>\n",
       "    <tr style=\"text-align: right;\">\n",
       "      <th></th>\n",
       "      <th>owner_id</th>\n",
       "      <th>station_id</th>\n",
       "      <th>charge_energy</th>\n",
       "      <th>charge_start_time</th>\n",
       "      <th>charge_end_time</th>\n",
       "      <th>create_time</th>\n",
       "    </tr>\n",
       "  </thead>\n",
       "  <tbody>\n",
       "    <tr>\n",
       "      <th>11876</th>\n",
       "      <td>2000.0</td>\n",
       "      <td>9988257670881855778</td>\n",
       "      <td>4.85</td>\n",
       "      <td>21/3/2019 07:32:05</td>\n",
       "      <td>21/3/2019 09:16:21</td>\n",
       "      <td>NaN</td>\n",
       "    </tr>\n",
       "    <tr>\n",
       "      <th>11875</th>\n",
       "      <td>2000.0</td>\n",
       "      <td>9988257670881855778</td>\n",
       "      <td>2.58</td>\n",
       "      <td>19/3/2019 08:26:29</td>\n",
       "      <td>19/3/2019 09:30:36</td>\n",
       "      <td>NaN</td>\n",
       "    </tr>\n",
       "    <tr>\n",
       "      <th>290953</th>\n",
       "      <td>2000.0</td>\n",
       "      <td>9988257670881855778</td>\n",
       "      <td>8.63</td>\n",
       "      <td>28/3/2019 08:36:06</td>\n",
       "      <td>28/3/2019 12:10:05</td>\n",
       "      <td>28/3/2019 08:36:07</td>\n",
       "    </tr>\n",
       "    <tr>\n",
       "      <th>124136</th>\n",
       "      <td>2000.0</td>\n",
       "      <td>9988257670881855778</td>\n",
       "      <td>0.00</td>\n",
       "      <td>11/3/2019 08:52:41</td>\n",
       "      <td>11/3/2019 08:52:41</td>\n",
       "      <td>11/3/2019 08:52:41</td>\n",
       "    </tr>\n",
       "    <tr>\n",
       "      <th>11872</th>\n",
       "      <td>2000.0</td>\n",
       "      <td>9988257670881855778</td>\n",
       "      <td>7.22</td>\n",
       "      <td>15/3/2019 08:48:11</td>\n",
       "      <td>15/3/2019 11:15:40</td>\n",
       "      <td>NaN</td>\n",
       "    </tr>\n",
       "  </tbody>\n",
       "</table>\n",
       "</div>"
      ],
      "text/plain": [
       "        owner_id           station_id  charge_energy   charge_start_time  \\\n",
       "11876     2000.0  9988257670881855778           4.85  21/3/2019 07:32:05   \n",
       "11875     2000.0  9988257670881855778           2.58  19/3/2019 08:26:29   \n",
       "290953    2000.0  9988257670881855778           8.63  28/3/2019 08:36:06   \n",
       "124136    2000.0  9988257670881855778           0.00  11/3/2019 08:52:41   \n",
       "11872     2000.0  9988257670881855778           7.22  15/3/2019 08:48:11   \n",
       "\n",
       "           charge_end_time         create_time  \n",
       "11876   21/3/2019 09:16:21                 NaN  \n",
       "11875   19/3/2019 09:30:36                 NaN  \n",
       "290953  28/3/2019 12:10:05  28/3/2019 08:36:07  \n",
       "124136  11/3/2019 08:52:41  11/3/2019 08:52:41  \n",
       "11872   15/3/2019 11:15:40                 NaN  "
      ]
     },
     "execution_count": 62,
     "metadata": {},
     "output_type": "execute_result"
    }
   ],
   "source": [
    "df.tail()"
   ]
  },
  {
   "cell_type": "code",
   "execution_count": 70,
   "metadata": {},
   "outputs": [
    {
     "data": {
      "text/html": [
       "<div>\n",
       "<style scoped>\n",
       "    .dataframe tbody tr th:only-of-type {\n",
       "        vertical-align: middle;\n",
       "    }\n",
       "\n",
       "    .dataframe tbody tr th {\n",
       "        vertical-align: top;\n",
       "    }\n",
       "\n",
       "    .dataframe thead th {\n",
       "        text-align: right;\n",
       "    }\n",
       "</style>\n",
       "<table border=\"1\" class=\"dataframe\">\n",
       "  <thead>\n",
       "    <tr style=\"text-align: right;\">\n",
       "      <th></th>\n",
       "      <th>owner_id</th>\n",
       "      <th>station_id</th>\n",
       "      <th>charge_energy</th>\n",
       "      <th>charge_start_time</th>\n",
       "      <th>charge_end_time</th>\n",
       "      <th>create_time</th>\n",
       "    </tr>\n",
       "  </thead>\n",
       "  <tbody>\n",
       "  </tbody>\n",
       "</table>\n",
       "</div>"
      ],
      "text/plain": [
       "Empty DataFrame\n",
       "Columns: [owner_id, station_id, charge_energy, charge_start_time, charge_end_time, create_time]\n",
       "Index: []"
      ]
     },
     "execution_count": 70,
     "metadata": {},
     "output_type": "execute_result"
    }
   ],
   "source": [
    "df[df['station_id']==8546040374146392203]"
   ]
  },
  {
   "cell_type": "code",
   "execution_count": 74,
   "metadata": {},
   "outputs": [],
   "source": [
    "energy = df[df['charge_energy'] > 1]"
   ]
  },
  {
   "cell_type": "code",
   "execution_count": 122,
   "metadata": {},
   "outputs": [
    {
     "data": {
      "text/plain": [
       "278786"
      ]
     },
     "execution_count": 122,
     "metadata": {},
     "output_type": "execute_result"
    }
   ],
   "source": [
    "len(energy)"
   ]
  },
  {
   "cell_type": "code",
   "execution_count": 123,
   "metadata": {},
   "outputs": [],
   "source": [
    "energy.to_csv('D:/energy03.txt',encoding='utf-8',sep=',')"
   ]
  },
  {
   "cell_type": "code",
   "execution_count": 121,
   "metadata": {},
   "outputs": [
    {
     "data": {
      "text/html": [
       "<div>\n",
       "<style scoped>\n",
       "    .dataframe tbody tr th:only-of-type {\n",
       "        vertical-align: middle;\n",
       "    }\n",
       "\n",
       "    .dataframe tbody tr th {\n",
       "        vertical-align: top;\n",
       "    }\n",
       "\n",
       "    .dataframe thead th {\n",
       "        text-align: right;\n",
       "    }\n",
       "</style>\n",
       "<table border=\"1\" class=\"dataframe\">\n",
       "  <thead>\n",
       "    <tr style=\"text-align: right;\">\n",
       "      <th></th>\n",
       "      <th>owner_id</th>\n",
       "      <th>station_id</th>\n",
       "      <th>charge_energy</th>\n",
       "      <th>charge_start_time</th>\n",
       "      <th>charge_end_time</th>\n",
       "      <th>create_time</th>\n",
       "    </tr>\n",
       "  </thead>\n",
       "  <tbody>\n",
       "    <tr>\n",
       "      <th>11877</th>\n",
       "      <td>2000.0</td>\n",
       "      <td>9988257670881855778</td>\n",
       "      <td>1.78</td>\n",
       "      <td>22/3/2019 09:44:55</td>\n",
       "      <td>22/3/2019 10:16:26</td>\n",
       "      <td>NaN</td>\n",
       "    </tr>\n",
       "    <tr>\n",
       "      <th>11876</th>\n",
       "      <td>2000.0</td>\n",
       "      <td>9988257670881855778</td>\n",
       "      <td>4.85</td>\n",
       "      <td>21/3/2019 07:32:05</td>\n",
       "      <td>21/3/2019 09:16:21</td>\n",
       "      <td>NaN</td>\n",
       "    </tr>\n",
       "    <tr>\n",
       "      <th>11875</th>\n",
       "      <td>2000.0</td>\n",
       "      <td>9988257670881855778</td>\n",
       "      <td>2.58</td>\n",
       "      <td>19/3/2019 08:26:29</td>\n",
       "      <td>19/3/2019 09:30:36</td>\n",
       "      <td>NaN</td>\n",
       "    </tr>\n",
       "    <tr>\n",
       "      <th>290953</th>\n",
       "      <td>2000.0</td>\n",
       "      <td>9988257670881855778</td>\n",
       "      <td>8.63</td>\n",
       "      <td>28/3/2019 08:36:06</td>\n",
       "      <td>28/3/2019 12:10:05</td>\n",
       "      <td>28/3/2019 08:36:07</td>\n",
       "    </tr>\n",
       "    <tr>\n",
       "      <th>11872</th>\n",
       "      <td>2000.0</td>\n",
       "      <td>9988257670881855778</td>\n",
       "      <td>7.22</td>\n",
       "      <td>15/3/2019 08:48:11</td>\n",
       "      <td>15/3/2019 11:15:40</td>\n",
       "      <td>NaN</td>\n",
       "    </tr>\n",
       "  </tbody>\n",
       "</table>\n",
       "</div>"
      ],
      "text/plain": [
       "        owner_id           station_id  charge_energy   charge_start_time  \\\n",
       "11877     2000.0  9988257670881855778           1.78  22/3/2019 09:44:55   \n",
       "11876     2000.0  9988257670881855778           4.85  21/3/2019 07:32:05   \n",
       "11875     2000.0  9988257670881855778           2.58  19/3/2019 08:26:29   \n",
       "290953    2000.0  9988257670881855778           8.63  28/3/2019 08:36:06   \n",
       "11872     2000.0  9988257670881855778           7.22  15/3/2019 08:48:11   \n",
       "\n",
       "           charge_end_time         create_time  \n",
       "11877   22/3/2019 10:16:26                 NaN  \n",
       "11876   21/3/2019 09:16:21                 NaN  \n",
       "11875   19/3/2019 09:30:36                 NaN  \n",
       "290953  28/3/2019 12:10:05  28/3/2019 08:36:07  \n",
       "11872   15/3/2019 11:15:40                 NaN  "
      ]
     },
     "execution_count": 121,
     "metadata": {},
     "output_type": "execute_result"
    }
   ],
   "source": [
    "energy.tail()"
   ]
  },
  {
   "cell_type": "code",
   "execution_count": 93,
   "metadata": {},
   "outputs": [],
   "source": [
    "pile_ex = pd.read_excel('D:/pile.xls')"
   ]
  },
  {
   "cell_type": "code",
   "execution_count": 86,
   "metadata": {
    "scrolled": true
   },
   "outputs": [
    {
     "data": {
      "text/html": [
       "<div>\n",
       "<style scoped>\n",
       "    .dataframe tbody tr th:only-of-type {\n",
       "        vertical-align: middle;\n",
       "    }\n",
       "\n",
       "    .dataframe tbody tr th {\n",
       "        vertical-align: top;\n",
       "    }\n",
       "\n",
       "    .dataframe thead th {\n",
       "        text-align: right;\n",
       "    }\n",
       "</style>\n",
       "<table border=\"1\" class=\"dataframe\">\n",
       "  <thead>\n",
       "    <tr style=\"text-align: right;\">\n",
       "      <th></th>\n",
       "      <th>station_id</th>\n",
       "      <th>pile_name</th>\n",
       "      <th>rate_power</th>\n",
       "      <th>pile_type</th>\n",
       "      <th>rated_voltage</th>\n",
       "      <th>rated_current</th>\n",
       "    </tr>\n",
       "  </thead>\n",
       "  <tbody>\n",
       "    <tr>\n",
       "      <th>0</th>\n",
       "      <td>9351230731467768675</td>\n",
       "      <td>06号桩</td>\n",
       "      <td>7.0</td>\n",
       "      <td>0</td>\n",
       "      <td>220</td>\n",
       "      <td>32.0</td>\n",
       "    </tr>\n",
       "    <tr>\n",
       "      <th>1</th>\n",
       "      <td>9351230731467768675</td>\n",
       "      <td>园区桩</td>\n",
       "      <td>7.0</td>\n",
       "      <td>0</td>\n",
       "      <td>220</td>\n",
       "      <td>32.0</td>\n",
       "    </tr>\n",
       "    <tr>\n",
       "      <th>2</th>\n",
       "      <td>9351230731467768675</td>\n",
       "      <td>02</td>\n",
       "      <td>7.0</td>\n",
       "      <td>0</td>\n",
       "      <td>220</td>\n",
       "      <td>32.0</td>\n",
       "    </tr>\n",
       "    <tr>\n",
       "      <th>3</th>\n",
       "      <td>9425894928056416992</td>\n",
       "      <td>01号桩</td>\n",
       "      <td>7.0</td>\n",
       "      <td>0</td>\n",
       "      <td>220</td>\n",
       "      <td>32.0</td>\n",
       "    </tr>\n",
       "    <tr>\n",
       "      <th>4</th>\n",
       "      <td>9425894928056416992</td>\n",
       "      <td>02号桩</td>\n",
       "      <td>7.0</td>\n",
       "      <td>0</td>\n",
       "      <td>220</td>\n",
       "      <td>32.0</td>\n",
       "    </tr>\n",
       "  </tbody>\n",
       "</table>\n",
       "</div>"
      ],
      "text/plain": [
       "            station_id pile_name  rate_power  pile_type  rated_voltage  \\\n",
       "0  9351230731467768675      06号桩         7.0          0            220   \n",
       "1  9351230731467768675       园区桩         7.0          0            220   \n",
       "2  9351230731467768675        02         7.0          0            220   \n",
       "3  9425894928056416992      01号桩         7.0          0            220   \n",
       "4  9425894928056416992      02号桩         7.0          0            220   \n",
       "\n",
       "   rated_current  \n",
       "0           32.0  \n",
       "1           32.0  \n",
       "2           32.0  \n",
       "3           32.0  \n",
       "4           32.0  "
      ]
     },
     "execution_count": 86,
     "metadata": {},
     "output_type": "execute_result"
    }
   ],
   "source": [
    "pile_ex.head()"
   ]
  },
  {
   "cell_type": "code",
   "execution_count": 88,
   "metadata": {},
   "outputs": [
    {
     "data": {
      "text/plain": [
       "station_id       3622\n",
       "pile_name        3622\n",
       "rate_power       3622\n",
       "pile_type        3622\n",
       "rated_voltage    3622\n",
       "rated_current    3622\n",
       "dtype: int64"
      ]
     },
     "execution_count": 88,
     "metadata": {},
     "output_type": "execute_result"
    }
   ],
   "source": [
    "pile_ex.count()"
   ]
  },
  {
   "cell_type": "code",
   "execution_count": 89,
   "metadata": {},
   "outputs": [
    {
     "data": {
      "text/plain": [
       "3622"
      ]
     },
     "execution_count": 89,
     "metadata": {},
     "output_type": "execute_result"
    }
   ],
   "source": [
    "pile_ex['station_id'].count()"
   ]
  },
  {
   "cell_type": "code",
   "execution_count": 90,
   "metadata": {},
   "outputs": [],
   "source": [
    "res = pile_ex.drop_duplicates('station_id','first')"
   ]
  },
  {
   "cell_type": "code",
   "execution_count": 91,
   "metadata": {},
   "outputs": [
    {
     "data": {
      "text/html": [
       "<div>\n",
       "<style scoped>\n",
       "    .dataframe tbody tr th:only-of-type {\n",
       "        vertical-align: middle;\n",
       "    }\n",
       "\n",
       "    .dataframe tbody tr th {\n",
       "        vertical-align: top;\n",
       "    }\n",
       "\n",
       "    .dataframe thead th {\n",
       "        text-align: right;\n",
       "    }\n",
       "</style>\n",
       "<table border=\"1\" class=\"dataframe\">\n",
       "  <thead>\n",
       "    <tr style=\"text-align: right;\">\n",
       "      <th></th>\n",
       "      <th>station_id</th>\n",
       "      <th>pile_name</th>\n",
       "      <th>rate_power</th>\n",
       "      <th>pile_type</th>\n",
       "      <th>rated_voltage</th>\n",
       "      <th>rated_current</th>\n",
       "    </tr>\n",
       "  </thead>\n",
       "  <tbody>\n",
       "    <tr>\n",
       "      <th>0</th>\n",
       "      <td>9351230731467768675</td>\n",
       "      <td>06号桩</td>\n",
       "      <td>7.0</td>\n",
       "      <td>0</td>\n",
       "      <td>220</td>\n",
       "      <td>32.0</td>\n",
       "    </tr>\n",
       "    <tr>\n",
       "      <th>3</th>\n",
       "      <td>9425894928056416992</td>\n",
       "      <td>01号桩</td>\n",
       "      <td>7.0</td>\n",
       "      <td>0</td>\n",
       "      <td>220</td>\n",
       "      <td>32.0</td>\n",
       "    </tr>\n",
       "    <tr>\n",
       "      <th>12</th>\n",
       "      <td>4024774099062828090</td>\n",
       "      <td>01号桩</td>\n",
       "      <td>7.5</td>\n",
       "      <td>0</td>\n",
       "      <td>220</td>\n",
       "      <td>32.0</td>\n",
       "    </tr>\n",
       "    <tr>\n",
       "      <th>129</th>\n",
       "      <td>8841455721229977913</td>\n",
       "      <td>01号桩</td>\n",
       "      <td>7.5</td>\n",
       "      <td>0</td>\n",
       "      <td>220</td>\n",
       "      <td>32.0</td>\n",
       "    </tr>\n",
       "    <tr>\n",
       "      <th>174</th>\n",
       "      <td>9795027542934409619</td>\n",
       "      <td>01号桩</td>\n",
       "      <td>7.5</td>\n",
       "      <td>0</td>\n",
       "      <td>220</td>\n",
       "      <td>32.0</td>\n",
       "    </tr>\n",
       "  </tbody>\n",
       "</table>\n",
       "</div>"
      ],
      "text/plain": [
       "              station_id pile_name  rate_power  pile_type  rated_voltage  \\\n",
       "0    9351230731467768675      06号桩         7.0          0            220   \n",
       "3    9425894928056416992      01号桩         7.0          0            220   \n",
       "12   4024774099062828090      01号桩         7.5          0            220   \n",
       "129  8841455721229977913      01号桩         7.5          0            220   \n",
       "174  9795027542934409619      01号桩         7.5          0            220   \n",
       "\n",
       "     rated_current  \n",
       "0             32.0  \n",
       "3             32.0  \n",
       "12            32.0  \n",
       "129           32.0  \n",
       "174           32.0  "
      ]
     },
     "execution_count": 91,
     "metadata": {},
     "output_type": "execute_result"
    }
   ],
   "source": [
    "res.head()"
   ]
  },
  {
   "cell_type": "code",
   "execution_count": 92,
   "metadata": {},
   "outputs": [
    {
     "data": {
      "text/plain": [
       "352"
      ]
     },
     "execution_count": 92,
     "metadata": {},
     "output_type": "execute_result"
    }
   ],
   "source": [
    "res['station_id'].count()"
   ]
  },
  {
   "cell_type": "code",
   "execution_count": 94,
   "metadata": {},
   "outputs": [],
   "source": [
    "station = pd.read_csv('D:/station_id_count.txt',encoding='utf-8',sep='\\t')"
   ]
  },
  {
   "cell_type": "code",
   "execution_count": 105,
   "metadata": {},
   "outputs": [
    {
     "data": {
      "text/plain": [
       "station_id    4024774099062828090\n",
       "Name: 1, dtype: uint64"
      ]
     },
     "execution_count": 105,
     "metadata": {},
     "output_type": "execute_result"
    }
   ],
   "source": [
    "station.loc[1]"
   ]
  },
  {
   "cell_type": "code",
   "execution_count": 120,
   "metadata": {},
   "outputs": [],
   "source": [
    "for i in range(len(station)):\n",
    "    id = int(station.loc[i])\n",
    "    pid = (pile_ex['station_id']==id)\n",
    "\n",
    "#     pile_num = str(pile_ex[pid]['pile_name'].count())\n",
    "#     with open('D:/pile_num.txt','a+') as pile:\n",
    "#         pile.writelines(pile_num+'\\n')\n",
    "    pile_ex_sum = str(pile_ex[pid]['rate_power'].sum())\n",
    "    with open('D:/pile_exsum.txt','a+') as f:\n",
    "        f.writelines(pile_ex_sum+'\\n')\n"
   ]
  },
  {
   "cell_type": "code",
   "execution_count": 274,
   "metadata": {},
   "outputs": [],
   "source": [
    "charge = pd.read_csv('D:/charge03.txt',encoding='utf-8',sep='\\t')"
   ]
  },
  {
   "cell_type": "code",
   "execution_count": 275,
   "metadata": {},
   "outputs": [
    {
     "data": {
      "text/html": [
       "<div>\n",
       "<style scoped>\n",
       "    .dataframe tbody tr th:only-of-type {\n",
       "        vertical-align: middle;\n",
       "    }\n",
       "\n",
       "    .dataframe tbody tr th {\n",
       "        vertical-align: top;\n",
       "    }\n",
       "\n",
       "    .dataframe thead th {\n",
       "        text-align: right;\n",
       "    }\n",
       "</style>\n",
       "<table border=\"1\" class=\"dataframe\">\n",
       "  <thead>\n",
       "    <tr style=\"text-align: right;\">\n",
       "      <th></th>\n",
       "      <th>station_id</th>\n",
       "      <th>pile_id</th>\n",
       "      <th>charge_energy</th>\n",
       "      <th>charge_total_fee</th>\n",
       "      <th>charge_start_time</th>\n",
       "      <th>charge_end_time</th>\n",
       "    </tr>\n",
       "  </thead>\n",
       "  <tbody>\n",
       "    <tr>\n",
       "      <th>0</th>\n",
       "      <td>4070794765468792359</td>\n",
       "      <td>17090100000</td>\n",
       "      <td>141.50</td>\n",
       "      <td>283.00</td>\n",
       "      <td>1/3/2019 00:00:02</td>\n",
       "      <td>1/3/2019 01:20:34</td>\n",
       "    </tr>\n",
       "    <tr>\n",
       "      <th>1</th>\n",
       "      <td>4070794765468792359</td>\n",
       "      <td>17090100000</td>\n",
       "      <td>140.43</td>\n",
       "      <td>280.86</td>\n",
       "      <td>1/3/2019 00:00:03</td>\n",
       "      <td>1/3/2019 01:19:57</td>\n",
       "    </tr>\n",
       "    <tr>\n",
       "      <th>2</th>\n",
       "      <td>7710846335296641879</td>\n",
       "      <td>18125830000</td>\n",
       "      <td>127.91</td>\n",
       "      <td>91.98</td>\n",
       "      <td>1/3/2019 00:00:05</td>\n",
       "      <td>1/3/2019 03:15:14</td>\n",
       "    </tr>\n",
       "  </tbody>\n",
       "</table>\n",
       "</div>"
      ],
      "text/plain": [
       "            station_id      pile_id  charge_energy  charge_total_fee  \\\n",
       "0  4070794765468792359  17090100000         141.50            283.00   \n",
       "1  4070794765468792359  17090100000         140.43            280.86   \n",
       "2  7710846335296641879  18125830000         127.91             91.98   \n",
       "\n",
       "   charge_start_time    charge_end_time  \n",
       "0  1/3/2019 00:00:02  1/3/2019 01:20:34  \n",
       "1  1/3/2019 00:00:03  1/3/2019 01:19:57  \n",
       "2  1/3/2019 00:00:05  1/3/2019 03:15:14  "
      ]
     },
     "execution_count": 275,
     "metadata": {},
     "output_type": "execute_result"
    }
   ],
   "source": [
    "charge.head(3)"
   ]
  },
  {
   "cell_type": "code",
   "execution_count": 173,
   "metadata": {},
   "outputs": [
    {
     "data": {
      "text/plain": [
       "318197"
      ]
     },
     "execution_count": 173,
     "metadata": {},
     "output_type": "execute_result"
    }
   ],
   "source": [
    "len(charge)"
   ]
  },
  {
   "cell_type": "code",
   "execution_count": 276,
   "metadata": {},
   "outputs": [],
   "source": [
    "bg_charge = charge[charge['charge_energy'] > 1]"
   ]
  },
  {
   "cell_type": "code",
   "execution_count": 277,
   "metadata": {},
   "outputs": [
    {
     "data": {
      "text/plain": [
       "278786"
      ]
     },
     "execution_count": 277,
     "metadata": {},
     "output_type": "execute_result"
    }
   ],
   "source": [
    "len(bg_charge)"
   ]
  },
  {
   "cell_type": "code",
   "execution_count": 177,
   "metadata": {},
   "outputs": [],
   "source": [
    "bg_charge.to_csv('D:/bg_charge03.txt',encoding='utf-8')"
   ]
  },
  {
   "cell_type": "code",
   "execution_count": 308,
   "metadata": {},
   "outputs": [
    {
     "data": {
      "text/plain": [
       "pandas.core.series.Series"
      ]
     },
     "execution_count": 308,
     "metadata": {},
     "output_type": "execute_result"
    }
   ],
   "source": [
    "type(bg_charge['station_id'])"
   ]
  },
  {
   "cell_type": "code",
   "execution_count": 339,
   "metadata": {
    "scrolled": true
   },
   "outputs": [
    {
     "data": {
      "text/plain": [
       "3301.76"
      ]
     },
     "execution_count": 339,
     "metadata": {},
     "output_type": "execute_result"
    }
   ],
   "source": [
    "#按station_id输出订单数量\n",
    "# for i in range(len(st)):\n",
    "#     res = bg_charge[bg_charge['station_id']==str(st['station_id'][i])].count()\n",
    "#     with open('D:/count_num.txt','a+',encoding='utf-8')as f:\n",
    "#         f.writelines(str(res['station_id'])+'\\n')\n",
    "#计算电量     \n",
    "bg_charge[bg_charge['station_id']==str(st['station_id'][40])]['charge_energy'].sum()\n"
   ]
  },
  {
   "cell_type": "code",
   "execution_count": 323,
   "metadata": {},
   "outputs": [],
   "source": [
    "st = pd.read_csv('D:/station.txt',encoding='utf-8')"
   ]
  },
  {
   "cell_type": "code",
   "execution_count": 305,
   "metadata": {},
   "outputs": [
    {
     "data": {
      "text/plain": [
       "'9795027542934409619'"
      ]
     },
     "execution_count": 305,
     "metadata": {},
     "output_type": "execute_result"
    }
   ],
   "source": [
    "str(st['station_id'][3])"
   ]
  },
  {
   "cell_type": "code",
   "execution_count": null,
   "metadata": {},
   "outputs": [],
   "source": []
  },
  {
   "cell_type": "code",
   "execution_count": 7,
   "metadata": {},
   "outputs": [
    {
     "data": {
      "text/html": [
       "<div style=\"width:100%;\"><div style=\"position:relative;width:100%;height:0;padding-bottom:60%;\"><iframe src=\"data:text/html;charset=utf-8;base64,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\" style=\"position:absolute;width:100%;height:100%;left:0;top:0;border:none !important;\" allowfullscreen webkitallowfullscreen mozallowfullscreen></iframe></div></div>"
      ],
      "text/plain": [
       "<folium.folium.Map at 0x28d2cd28d68>"
      ]
     },
     "execution_count": 7,
     "metadata": {},
     "output_type": "execute_result"
    }
   ],
   "source": [
    "import folium\n",
    "\n",
    "'''创建底层Map对象'''\n",
    "m = folium.Map(location=[120.356422, 32.102583],\n",
    "              zoom_start=8,\n",
    "              control_scale=True)\n",
    "'''创建geojson层'''\n",
    "gj = folium.GeoJson(data={ \"type\": \"MultiPoint\",\n",
    "  \"coordinates\": [\n",
    "      [ [120.336422, 32.202583], [120.376422, 32.192583] ],\n",
    "      [ [120.316422, 32.102583], [120.306422, 32.152583] ]\n",
    "    ]\n",
    "  })\n",
    "\n",
    "'''将gj添加到m上'''\n",
    "gj.add_to(m)\n",
    "\n",
    "'''显示m'''\n",
    "m\n"
   ]
  },
  {
   "cell_type": "code",
   "execution_count": null,
   "metadata": {},
   "outputs": [],
   "source": []
  },
  {
   "cell_type": "code",
   "execution_count": null,
   "metadata": {},
   "outputs": [],
   "source": []
  },
  {
   "cell_type": "code",
   "execution_count": null,
   "metadata": {},
   "outputs": [],
   "source": []
  }
 ],
 "metadata": {
  "kernelspec": {
   "display_name": "Python 3",
   "language": "python",
   "name": "python3"
  },
  "language_info": {
   "codemirror_mode": {
    "name": "ipython",
    "version": 3
   },
   "file_extension": ".py",
   "mimetype": "text/x-python",
   "name": "python",
   "nbconvert_exporter": "python",
   "pygments_lexer": "ipython3",
   "version": "3.6.8"
  }
 },
 "nbformat": 4,
 "nbformat_minor": 2
}
