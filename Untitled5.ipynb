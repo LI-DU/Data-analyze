{
 "cells": [
  {
   "cell_type": "code",
   "execution_count": 1,
   "metadata": {},
   "outputs": [],
   "source": [
    "import numpy as np\n",
    "import pandas as pd\n",
    "from datetime import datetime"
   ]
  },
  {
   "cell_type": "code",
   "execution_count": 2,
   "metadata": {},
   "outputs": [],
   "source": []
  },
  {
   "cell_type": "code",
   "execution_count": 3,
   "metadata": {},
   "outputs": [],
   "source": [
    "coor = pd.read_csv('D:/coordinate.txt',encoding='utf-8')"
   ]
  },
  {
   "cell_type": "code",
   "execution_count": 4,
   "metadata": {},
   "outputs": [
    {
     "data": {
      "text/plain": [
       "31.157788"
      ]
     },
     "execution_count": 4,
     "metadata": {},
     "output_type": "execute_result"
    }
   ],
   "source": [
    "coor['lat'].loc[3]"
   ]
  },
  {
   "cell_type": "markdown",
   "metadata": {},
   "source": []
  },
  {
   "cell_type": "code",
   "execution_count": null,
   "metadata": {},
   "outputs": [],
   "source": [
    "\n"
   ]
  },
  {
   "cell_type": "code",
   "execution_count": 5,
   "metadata": {},
   "outputs": [],
   "source": [
    "df = pd.read_csv('D:/nanjing.txt',encoding='utf-8',sep='\\t')"
   ]
  },
  {
   "cell_type": "code",
   "execution_count": 6,
   "metadata": {},
   "outputs": [
    {
     "data": {
      "text/html": [
       "<div>\n",
       "<style scoped>\n",
       "    .dataframe tbody tr th:only-of-type {\n",
       "        vertical-align: middle;\n",
       "    }\n",
       "\n",
       "    .dataframe tbody tr th {\n",
       "        vertical-align: top;\n",
       "    }\n",
       "\n",
       "    .dataframe thead th {\n",
       "        text-align: right;\n",
       "    }\n",
       "</style>\n",
       "<table border=\"1\" class=\"dataframe\">\n",
       "  <thead>\n",
       "    <tr style=\"text-align: right;\">\n",
       "      <th></th>\n",
       "      <th>344</th>\n",
       "    </tr>\n",
       "  </thead>\n",
       "  <tbody>\n",
       "    <tr>\n",
       "      <th>0</th>\n",
       "      <td>348</td>\n",
       "    </tr>\n",
       "    <tr>\n",
       "      <th>1</th>\n",
       "      <td>2150</td>\n",
       "    </tr>\n",
       "  </tbody>\n",
       "</table>\n",
       "</div>"
      ],
      "text/plain": [
       "    344\n",
       "0   348\n",
       "1  2150"
      ]
     },
     "execution_count": 6,
     "metadata": {},
     "output_type": "execute_result"
    }
   ],
   "source": [
    "df.head(2)"
   ]
  },
  {
   "cell_type": "code",
   "execution_count": 7,
   "metadata": {},
   "outputs": [],
   "source": [
    "import pymysql\n",
    "import time\n",
    "import os"
   ]
  },
  {
   "cell_type": "code",
   "execution_count": 193,
   "metadata": {},
   "outputs": [
    {
     "name": "stdout",
     "output_type": "stream",
     "text": [
      "select owner_id,station_id,pile_id,charge_energy,charge_total_fee,create_time,update_time from qs_charge_order where station_id = 4788295829146598227 and create_time > 20190401\n",
      "error\n",
      "select owner_id,station_id,pile_id,charge_energy,charge_total_fee,create_time,update_time from qs_charge_order where station_id = 4503885187447447905 and create_time > 20190401\n",
      "error\n"
     ]
    }
   ],
   "source": [
    "station_list = [4788295829146598227,4503885187447447905]\n",
    "db = pymysql.connect(host='106.15.223.235', port=3306, user='readonly', \n",
    "                     password='abc123$%',database='renwochong', charset='utf8')\n",
    "cursor = db.cursor()\n",
    "for i in range(len(station_list)):\n",
    "    sql = \"select owner_id,station_id,pile_id,charge_energy,charge_total_fee,create_time,update_time from qs_charge_order where station_id = %s and create_time > 20190401\"%station_list[i];\n",
    "    print(sql)\n",
    "    try:\n",
    "        #执行sql语句\n",
    "        cursor.execute(sql)\n",
    "        res = cursor.fetchall()\n",
    "        sql_res = 'D:/order/station_id'+ station_list[i] + '.txt'\n",
    "        print(sql_res)\n",
    "        with open ('D:/sql_res','a+') as f:\n",
    "            f.writelines(res)\n",
    "        time.sleep(5)\n",
    "    except:\n",
    "          #出现异常,执行回滚 \n",
    "          print('error')\n",
    "#关闭游标和连接\n",
    "cursor.close()\n",
    "db.close()"
   ]
  },
  {
   "cell_type": "code",
   "execution_count": 184,
   "metadata": {},
   "outputs": [],
   "source": [
    "from datetime import datetime\n"
   ]
  },
  {
   "cell_type": "code",
   "execution_count": 14,
   "metadata": {},
   "outputs": [],
   "source": [
    "df343_01 = pd.read_excel('D:/order/ownerid343_201901.xls',encoding = 'utf-8')"
   ]
  },
  {
   "cell_type": "code",
   "execution_count": 15,
   "metadata": {},
   "outputs": [
    {
     "data": {
      "text/html": [
       "<div>\n",
       "<style scoped>\n",
       "    .dataframe tbody tr th:only-of-type {\n",
       "        vertical-align: middle;\n",
       "    }\n",
       "\n",
       "    .dataframe tbody tr th {\n",
       "        vertical-align: top;\n",
       "    }\n",
       "\n",
       "    .dataframe thead th {\n",
       "        text-align: right;\n",
       "    }\n",
       "</style>\n",
       "<table border=\"1\" class=\"dataframe\">\n",
       "  <thead>\n",
       "    <tr style=\"text-align: right;\">\n",
       "      <th></th>\n",
       "      <th>owner_id</th>\n",
       "      <th>station_id</th>\n",
       "      <th>pile_id</th>\n",
       "      <th>charge_energy</th>\n",
       "      <th>charge_total_fee</th>\n",
       "      <th>create_time</th>\n",
       "      <th>update_time</th>\n",
       "    </tr>\n",
       "  </thead>\n",
       "  <tbody>\n",
       "    <tr>\n",
       "      <th>0</th>\n",
       "      <td>343</td>\n",
       "      <td>9295110594524779790</td>\n",
       "      <td>17041870000</td>\n",
       "      <td>14.9</td>\n",
       "      <td>17.88</td>\n",
       "      <td>2019-01-02 13:12:10</td>\n",
       "      <td>2019-01-02 13:28:10</td>\n",
       "    </tr>\n",
       "    <tr>\n",
       "      <th>1</th>\n",
       "      <td>343</td>\n",
       "      <td>9607411478166586232</td>\n",
       "      <td>17041750000</td>\n",
       "      <td>0.0</td>\n",
       "      <td>0.00</td>\n",
       "      <td>2019-01-25 16:28:21</td>\n",
       "      <td>2019-01-25 16:28:21</td>\n",
       "    </tr>\n",
       "  </tbody>\n",
       "</table>\n",
       "</div>"
      ],
      "text/plain": [
       "   owner_id           station_id      pile_id  charge_energy  \\\n",
       "0       343  9295110594524779790  17041870000           14.9   \n",
       "1       343  9607411478166586232  17041750000            0.0   \n",
       "\n",
       "   charge_total_fee         create_time         update_time  \n",
       "0             17.88 2019-01-02 13:12:10 2019-01-02 13:28:10  \n",
       "1              0.00 2019-01-25 16:28:21 2019-01-25 16:28:21  "
      ]
     },
     "execution_count": 15,
     "metadata": {},
     "output_type": "execute_result"
    }
   ],
   "source": [
    "df343_01.head(2)"
   ]
  },
  {
   "cell_type": "code",
   "execution_count": 100,
   "metadata": {},
   "outputs": [
    {
     "data": {
      "text/plain": [
       "owner_id            15246\n",
       "station_id          15246\n",
       "pile_id             15246\n",
       "charge_energy       15246\n",
       "charge_total_fee    15246\n",
       "create_time         15246\n",
       "update_time         15246\n",
       "create_time_t       15246\n",
       "update_time_t       15246\n",
       "dtype: int64"
      ]
     },
     "execution_count": 100,
     "metadata": {},
     "output_type": "execute_result"
    }
   ],
   "source": [
    "df343_01[df343_01['charge_total_fee'] > 1].count()"
   ]
  },
  {
   "cell_type": "code",
   "execution_count": null,
   "metadata": {},
   "outputs": [],
   "source": []
  },
  {
   "cell_type": "code",
   "execution_count": 98,
   "metadata": {},
   "outputs": [
    {
     "data": {
      "text/plain": [
       "owner_id            774\n",
       "station_id          774\n",
       "pile_id             774\n",
       "charge_energy       774\n",
       "charge_total_fee    774\n",
       "create_time         774\n",
       "update_time         774\n",
       "create_time_t       774\n",
       "update_time_t       774\n",
       "dtype: int64"
      ]
     },
     "execution_count": 98,
     "metadata": {},
     "output_type": "execute_result"
    }
   ],
   "source": [
    "df343_01[df343_01['station_id']==9295110594524779790].count()"
   ]
  },
  {
   "cell_type": "code",
   "execution_count": 19,
   "metadata": {},
   "outputs": [],
   "source": [
    "station_343 = df343_01['station_id']"
   ]
  },
  {
   "cell_type": "code",
   "execution_count": 20,
   "metadata": {},
   "outputs": [
    {
     "data": {
      "text/plain": [
       "0       9295110594524779790\n",
       "1       9607411478166586232\n",
       "3       2728106030463940581\n",
       "7458    3627600775366493743\n",
       "Name: station_id, dtype: uint64"
      ]
     },
     "execution_count": 20,
     "metadata": {},
     "output_type": "execute_result"
    }
   ],
   "source": [
    "station_343.drop_duplicates()"
   ]
  },
  {
   "cell_type": "code",
   "execution_count": 32,
   "metadata": {},
   "outputs": [],
   "source": [
    "import os\n",
    "import matplotlib.pyplot as plt"
   ]
  },
  {
   "cell_type": "code",
   "execution_count": 33,
   "metadata": {},
   "outputs": [
    {
     "name": "stdout",
     "output_type": "stream",
     "text": [
      "当前目录： D:/order/\n",
      "子目录： []\n"
     ]
    }
   ],
   "source": [
    "def dir_file(dir):\n",
    "    for curr_dir,sub_dirs,files in os.walk(dir):\n",
    "        print('当前目录：',curr_dir)\n",
    "        print('子目录：',sub_dirs)\n",
    "\n",
    "dir_file('D:/order/')"
   ]
  },
  {
   "cell_type": "code",
   "execution_count": 28,
   "metadata": {},
   "outputs": [],
   "source": [
    "df343_01['create_time_t'] = pd.to_datetime(df343_01['create_time']) \n",
    "df343_01['create_time_t'] = df343_01['create_time_t'].dt.hour"
   ]
  },
  {
   "cell_type": "code",
   "execution_count": 49,
   "metadata": {
    "scrolled": true
   },
   "outputs": [],
   "source": [
    "df343_01['update_time_t'] = pd.to_datetime(df343_01['update_time']) \n"
   ]
  },
  {
   "cell_type": "code",
   "execution_count": 180,
   "metadata": {
    "scrolled": false
   },
   "outputs": [],
   "source": [
    "file = os.listdir('D:/order/')\n",
    "\n",
    "for i in range(len(file)):\n",
    "    filename = 'D:/order/'+file[i]\n",
    "    order = pd.read_excel(filename,encoding='utf-8')\n"
   ]
  },
  {
   "cell_type": "code",
   "execution_count": 152,
   "metadata": {},
   "outputs": [],
   "source": [
    "stationid = pd.read_csv('D:/stdid.txt',encoding='utf-8')"
   ]
  },
  {
   "cell_type": "code",
   "execution_count": 154,
   "metadata": {},
   "outputs": [
    {
     "data": {
      "text/plain": [
       "station_id    85\n",
       "dtype: int64"
      ]
     },
     "execution_count": 154,
     "metadata": {},
     "output_type": "execute_result"
    }
   ],
   "source": [
    "stationid.count()"
   ]
  },
  {
   "cell_type": "code",
   "execution_count": 172,
   "metadata": {},
   "outputs": [
    {
     "data": {
      "text/plain": [
       "4503885187447447905"
      ]
     },
     "execution_count": 172,
     "metadata": {},
     "output_type": "execute_result"
    }
   ],
   "source": [
    "int(stationid.loc[2])"
   ]
  },
  {
   "cell_type": "code",
   "execution_count": 191,
   "metadata": {},
   "outputs": [
    {
     "name": "stdout",
     "output_type": "stream",
     "text": [
      "<class 'tuple'>\n"
     ]
    }
   ],
   "source": [
    "print(type(res))"
   ]
  },
  {
   "cell_type": "code",
   "execution_count": 1,
   "metadata": {},
   "outputs": [],
   "source": [
    "import numpy as np\n",
    "import pandas as pd\n",
    "from datetime import datetime\n"
   ]
  },
  {
   "cell_type": "code",
   "execution_count": 232,
   "metadata": {},
   "outputs": [],
   "source": [
    "import matplotlib.pyplot as plt"
   ]
  },
  {
   "cell_type": "code",
   "execution_count": 2,
   "metadata": {},
   "outputs": [],
   "source": [
    "df01 = pd.read_csv('D:/01_jiangsu.txt',encoding='utf-8',sep='\\t')"
   ]
  },
  {
   "cell_type": "code",
   "execution_count": 3,
   "metadata": {},
   "outputs": [
    {
     "data": {
      "text/html": [
       "<div>\n",
       "<style scoped>\n",
       "    .dataframe tbody tr th:only-of-type {\n",
       "        vertical-align: middle;\n",
       "    }\n",
       "\n",
       "    .dataframe tbody tr th {\n",
       "        vertical-align: top;\n",
       "    }\n",
       "\n",
       "    .dataframe thead th {\n",
       "        text-align: right;\n",
       "    }\n",
       "</style>\n",
       "<table border=\"1\" class=\"dataframe\">\n",
       "  <thead>\n",
       "    <tr style=\"text-align: right;\">\n",
       "      <th></th>\n",
       "      <th>station_id</th>\n",
       "      <th>pile_id</th>\n",
       "      <th>charge_energy</th>\n",
       "      <th>charge_total_fee</th>\n",
       "    </tr>\n",
       "  </thead>\n",
       "  <tbody>\n",
       "    <tr>\n",
       "      <th>count</th>\n",
       "      <td>5.074460e+05</td>\n",
       "      <td>5.074460e+05</td>\n",
       "      <td>507446.000000</td>\n",
       "      <td>507446.000000</td>\n",
       "    </tr>\n",
       "    <tr>\n",
       "      <th>mean</th>\n",
       "      <td>4.714080e+18</td>\n",
       "      <td>1.723486e+10</td>\n",
       "      <td>19.965518</td>\n",
       "      <td>26.457415</td>\n",
       "    </tr>\n",
       "    <tr>\n",
       "      <th>std</th>\n",
       "      <td>2.368478e+18</td>\n",
       "      <td>1.101665e+09</td>\n",
       "      <td>16.661721</td>\n",
       "      <td>21.985131</td>\n",
       "    </tr>\n",
       "    <tr>\n",
       "      <th>min</th>\n",
       "      <td>1.147059e+17</td>\n",
       "      <td>1.122334e+10</td>\n",
       "      <td>0.000000</td>\n",
       "      <td>0.000000</td>\n",
       "    </tr>\n",
       "    <tr>\n",
       "      <th>25%</th>\n",
       "      <td>3.172406e+18</td>\n",
       "      <td>1.705016e+10</td>\n",
       "      <td>9.360000</td>\n",
       "      <td>12.450000</td>\n",
       "    </tr>\n",
       "    <tr>\n",
       "      <th>50%</th>\n",
       "      <td>4.256451e+18</td>\n",
       "      <td>1.706130e+10</td>\n",
       "      <td>19.860000</td>\n",
       "      <td>26.480000</td>\n",
       "    </tr>\n",
       "    <tr>\n",
       "      <th>75%</th>\n",
       "      <td>6.110100e+18</td>\n",
       "      <td>1.807117e+10</td>\n",
       "      <td>26.650000</td>\n",
       "      <td>35.240000</td>\n",
       "    </tr>\n",
       "    <tr>\n",
       "      <th>max</th>\n",
       "      <td>9.530502e+18</td>\n",
       "      <td>1.876126e+10</td>\n",
       "      <td>237.180000</td>\n",
       "      <td>343.760000</td>\n",
       "    </tr>\n",
       "  </tbody>\n",
       "</table>\n",
       "</div>"
      ],
      "text/plain": [
       "         station_id       pile_id  charge_energy  charge_total_fee\n",
       "count  5.074460e+05  5.074460e+05  507446.000000     507446.000000\n",
       "mean   4.714080e+18  1.723486e+10      19.965518         26.457415\n",
       "std    2.368478e+18  1.101665e+09      16.661721         21.985131\n",
       "min    1.147059e+17  1.122334e+10       0.000000          0.000000\n",
       "25%    3.172406e+18  1.705016e+10       9.360000         12.450000\n",
       "50%    4.256451e+18  1.706130e+10      19.860000         26.480000\n",
       "75%    6.110100e+18  1.807117e+10      26.650000         35.240000\n",
       "max    9.530502e+18  1.876126e+10     237.180000        343.760000"
      ]
     },
     "execution_count": 3,
     "metadata": {},
     "output_type": "execute_result"
    }
   ],
   "source": [
    "df01.describe()"
   ]
  },
  {
   "cell_type": "code",
   "execution_count": 4,
   "metadata": {},
   "outputs": [
    {
     "data": {
      "text/plain": [
       "station_id          507446\n",
       "pile_id             507446\n",
       "charge_energy       507446\n",
       "charge_total_fee    507446\n",
       "create_time         507446\n",
       "update_time         502829\n",
       "dtype: int64"
      ]
     },
     "execution_count": 4,
     "metadata": {},
     "output_type": "execute_result"
    }
   ],
   "source": [
    "df01.count()"
   ]
  },
  {
   "cell_type": "code",
   "execution_count": 5,
   "metadata": {},
   "outputs": [
    {
     "data": {
      "text/plain": [
       "station_id          82741\n",
       "pile_id             82741\n",
       "charge_energy       82741\n",
       "charge_total_fee    82741\n",
       "create_time         82741\n",
       "update_time         78177\n",
       "dtype: int64"
      ]
     },
     "execution_count": 5,
     "metadata": {},
     "output_type": "execute_result"
    }
   ],
   "source": [
    "df01[df01['charge_total_fee'] <1].count()"
   ]
  },
  {
   "cell_type": "code",
   "execution_count": 10,
   "metadata": {},
   "outputs": [],
   "source": [
    "df01 = df01[df01['charge_total_fee'] >= 1]"
   ]
  },
  {
   "cell_type": "code",
   "execution_count": 13,
   "metadata": {},
   "outputs": [
    {
     "data": {
      "text/plain": [
       "station_id          424651\n",
       "pile_id             424651\n",
       "charge_energy       424651\n",
       "charge_total_fee    424651\n",
       "create_time         424651\n",
       "update_time         424598\n",
       "dtype: int64"
      ]
     },
     "execution_count": 13,
     "metadata": {},
     "output_type": "execute_result"
    }
   ],
   "source": [
    "df01.count()"
   ]
  },
  {
   "cell_type": "code",
   "execution_count": 12,
   "metadata": {},
   "outputs": [
    {
     "data": {
      "text/html": [
       "<div>\n",
       "<style scoped>\n",
       "    .dataframe tbody tr th:only-of-type {\n",
       "        vertical-align: middle;\n",
       "    }\n",
       "\n",
       "    .dataframe tbody tr th {\n",
       "        vertical-align: top;\n",
       "    }\n",
       "\n",
       "    .dataframe thead th {\n",
       "        text-align: right;\n",
       "    }\n",
       "</style>\n",
       "<table border=\"1\" class=\"dataframe\">\n",
       "  <thead>\n",
       "    <tr style=\"text-align: right;\">\n",
       "      <th></th>\n",
       "      <th>station_id</th>\n",
       "      <th>pile_id</th>\n",
       "      <th>charge_energy</th>\n",
       "      <th>charge_total_fee</th>\n",
       "      <th>create_time</th>\n",
       "      <th>update_time</th>\n",
       "    </tr>\n",
       "  </thead>\n",
       "  <tbody>\n",
       "    <tr>\n",
       "      <th>5</th>\n",
       "      <td>3310085196125768460</td>\n",
       "      <td>17052630000</td>\n",
       "      <td>21.26</td>\n",
       "      <td>27.63</td>\n",
       "      <td>2/1/2019 11:38:16</td>\n",
       "      <td>2/1/2019 14:01:41</td>\n",
       "    </tr>\n",
       "    <tr>\n",
       "      <th>7</th>\n",
       "      <td>3310085196125768460</td>\n",
       "      <td>17052630000</td>\n",
       "      <td>9.10</td>\n",
       "      <td>11.83</td>\n",
       "      <td>2/1/2019 17:33:32</td>\n",
       "      <td>2/1/2019 18:59:18</td>\n",
       "    </tr>\n",
       "  </tbody>\n",
       "</table>\n",
       "</div>"
      ],
      "text/plain": [
       "            station_id      pile_id  charge_energy  charge_total_fee  \\\n",
       "5  3310085196125768460  17052630000          21.26             27.63   \n",
       "7  3310085196125768460  17052630000           9.10             11.83   \n",
       "\n",
       "         create_time        update_time  \n",
       "5  2/1/2019 11:38:16  2/1/2019 14:01:41  \n",
       "7  2/1/2019 17:33:32  2/1/2019 18:59:18  "
      ]
     },
     "execution_count": 12,
     "metadata": {},
     "output_type": "execute_result"
    }
   ],
   "source": [
    "df01.head(2)"
   ]
  },
  {
   "cell_type": "code",
   "execution_count": 17,
   "metadata": {},
   "outputs": [],
   "source": [
    "undup_station_01 = df01['station_id'].drop_duplicates()"
   ]
  },
  {
   "cell_type": "code",
   "execution_count": 18,
   "metadata": {},
   "outputs": [
    {
     "data": {
      "text/plain": [
       "57"
      ]
     },
     "execution_count": 18,
     "metadata": {},
     "output_type": "execute_result"
    }
   ],
   "source": [
    "undup_station_01.count()"
   ]
  },
  {
   "cell_type": "code",
   "execution_count": 26,
   "metadata": {},
   "outputs": [
    {
     "name": "stdout",
     "output_type": "stream",
     "text": [
      "1月份原始订单数量： station_id          507446\n",
      "pile_id             507446\n",
      "charge_energy       507446\n",
      "charge_total_fee    507446\n",
      "create_time         507446\n",
      "update_time         502829\n",
      "dtype: int64\n",
      "1月份订单费用大于1的数量： station_id          424705\n",
      "pile_id             424705\n",
      "charge_energy       424705\n",
      "charge_total_fee    424705\n",
      "create_time         424705\n",
      "update_time         424652\n",
      "dtype: int64\n",
      "1月份订单中站点数： 57\n"
     ]
    }
   ],
   "source": [
    "#江苏1月份订单相关数据\n",
    "df01 = pd.read_csv('D:/01_jiangsu.txt',encoding='utf-8',sep='\\t')\n",
    "print('1月份原始订单数量：',df01.count())\n",
    "df01 = df01[df01['charge_total_fee'] >= 1]\n",
    "print('1月份订单费用大于1的数量：',df01.count())\n",
    "#去除重复站\n",
    "undup_station_01 = df01['station_id'].drop_duplicates()\n",
    "#订单中的站点数量\n",
    "print('1月份订单中站点数：',undup_station_01.count())"
   ]
  },
  {
   "cell_type": "code",
   "execution_count": 25,
   "metadata": {},
   "outputs": [
    {
     "name": "stdout",
     "output_type": "stream",
     "text": [
      "2月份原始订单数量： station_id          420343\n",
      "pile_id             420343\n",
      "charge_energy       420343\n",
      "charge_total_fee    420343\n",
      "create_time         420343\n",
      "update_time         416996\n",
      "dtype: int64\n",
      "2月份订单费用大于1的数量： station_id          353833\n",
      "pile_id             353833\n",
      "charge_energy       353833\n",
      "charge_total_fee    353833\n",
      "create_time         353833\n",
      "update_time         353833\n",
      "dtype: int64\n",
      "2月份订单中站点数： 57\n"
     ]
    }
   ],
   "source": [
    "#江苏2月份订单相关数据\n",
    "df02 = pd.read_csv('D:/02_jiangsu.txt',encoding='utf-8',sep='\\t')\n",
    "print('2月份原始订单数量：',df02.count())\n",
    "df02 = df02[df02['charge_total_fee'] >= 1]\n",
    "print('2月份订单费用大于1的数量：',df02.count())\n",
    "#去除重复站\n",
    "undup_station_02 = df02['station_id'].drop_duplicates()\n",
    "#订单中的站点数量\n",
    "print('2月份订单中站点数：',undup_station_02.count())"
   ]
  },
  {
   "cell_type": "code",
   "execution_count": 24,
   "metadata": {},
   "outputs": [
    {
     "name": "stdout",
     "output_type": "stream",
     "text": [
      "3月份原始订单数量： station_id          626619\n",
      "pile_id             626619\n",
      "charge_energy       626619\n",
      "charge_total_fee    626619\n",
      "create_time         626619\n",
      "update_time         622192\n",
      "dtype: int64\n",
      "3月份订单费用大于1的数量： station_id          513916\n",
      "pile_id             513916\n",
      "charge_energy       513916\n",
      "charge_total_fee    513916\n",
      "create_time         513916\n",
      "update_time         513851\n",
      "dtype: int64\n",
      "3月份订单中站点数： 62\n"
     ]
    }
   ],
   "source": [
    "#江苏3月份订单相关数据\n",
    "df03 = pd.read_csv('D:/03_jiangsu.txt',encoding='utf-8',sep='\\t')\n",
    "print('3月份原始订单数量：',df03.count())\n",
    "df03 = df03[df03['charge_total_fee'] >= 1]\n",
    "print('3月份订单费用大于1的数量：',df03.count())\n",
    "#去除重复站\n",
    "undup_station_03 = df03['station_id'].drop_duplicates()\n",
    "#订单中的站点数量\n",
    "print('3月份订单中站点数：',undup_station_03.count())"
   ]
  },
  {
   "cell_type": "code",
   "execution_count": 27,
   "metadata": {},
   "outputs": [
    {
     "name": "stdout",
     "output_type": "stream",
     "text": [
      "4月份原始订单数量： station_id          489530\n",
      "pile_id             489530\n",
      "charge_energy       489530\n",
      "charge_total_fee    489530\n",
      "create_time         489530\n",
      "update_time         486719\n",
      "dtype: int64\n",
      "4月份订单费用大于4的数量： station_id          397546\n",
      "pile_id             397546\n",
      "charge_energy       397546\n",
      "charge_total_fee    397546\n",
      "create_time         397546\n",
      "update_time         397530\n",
      "dtype: int64\n",
      "4月份订单中站点数： 61\n"
     ]
    }
   ],
   "source": [
    "#江苏4月份订单相关数据\n",
    "df04 = pd.read_csv('D:/04_jiangsu.txt',encoding='utf-8',sep='\\t')\n",
    "print('4月份原始订单数量：',df04.count())\n",
    "df04 = df04[df04['charge_total_fee'] >= 4]\n",
    "print('4月份订单费用大于4的数量：',df04.count())\n",
    "#去除重复站\n",
    "undup_station_04 = df04['station_id'].drop_duplicates()\n",
    "#订单中不重复的站点数量\n",
    "print('4月份订单中站点数：',undup_station_04.count())"
   ]
  },
  {
   "cell_type": "code",
   "execution_count": 90,
   "metadata": {},
   "outputs": [],
   "source": [
    "#将station_id的index重置\n",
    "undup_station_re01 = undup_station_01\n",
    "undup_station_re01 = pd.DataFrame(undup_station_re01)\n",
    "undup_station_re01.reset_index(inplace=True)"
   ]
  },
  {
   "cell_type": "code",
   "execution_count": 64,
   "metadata": {},
   "outputs": [],
   "source": []
  },
  {
   "cell_type": "code",
   "execution_count": 68,
   "metadata": {},
   "outputs": [
    {
     "data": {
      "text/plain": [
       "3310085196125768460"
      ]
     },
     "execution_count": 68,
     "metadata": {},
     "output_type": "execute_result"
    }
   ],
   "source": [
    "undup_station_re01['station_id'].loc[0]"
   ]
  },
  {
   "cell_type": "code",
   "execution_count": 72,
   "metadata": {},
   "outputs": [
    {
     "data": {
      "text/plain": [
       "8957"
      ]
     },
     "execution_count": 72,
     "metadata": {},
     "output_type": "execute_result"
    }
   ],
   "source": [
    "#1月份订单中station_id=3310085196125768460的订单数\n",
    "df01[df01['station_id']==undup_station_re01['station_id'].loc[0]]['station_id'].count()"
   ]
  },
  {
   "cell_type": "code",
   "execution_count": 89,
   "metadata": {},
   "outputs": [
    {
     "ename": "AttributeError",
     "evalue": "'DataFrame' object has no attribute 'to_excl'",
     "output_type": "error",
     "traceback": [
      "\u001b[1;31m---------------------------------------------------------------------------\u001b[0m",
      "\u001b[1;31mAttributeError\u001b[0m                            Traceback (most recent call last)",
      "\u001b[1;32m<ipython-input-89-e00e3f358168>\u001b[0m in \u001b[0;36m<module>\u001b[1;34m\u001b[0m\n\u001b[0;32m      4\u001b[0m     \u001b[0morder01_num\u001b[0m \u001b[1;33m=\u001b[0m \u001b[0mundup_station_re01\u001b[0m\u001b[1;33m[\u001b[0m\u001b[1;34m'station_id'\u001b[0m\u001b[1;33m]\u001b[0m\u001b[1;33m.\u001b[0m\u001b[0mloc\u001b[0m\u001b[1;33m[\u001b[0m\u001b[0mi\u001b[0m\u001b[1;33m]\u001b[0m\u001b[1;33m,\u001b[0m\u001b[0mordernum_01\u001b[0m\u001b[1;33m\u001b[0m\u001b[1;33m\u001b[0m\u001b[0m\n\u001b[0;32m      5\u001b[0m     \u001b[0morder01_num\u001b[0m \u001b[1;33m=\u001b[0m \u001b[0mpd\u001b[0m\u001b[1;33m.\u001b[0m\u001b[0mDataFrame\u001b[0m\u001b[1;33m(\u001b[0m\u001b[0morder01_num\u001b[0m\u001b[1;33m)\u001b[0m\u001b[1;33m\u001b[0m\u001b[1;33m\u001b[0m\u001b[0m\n\u001b[1;32m----> 6\u001b[1;33m     \u001b[0morder01_num\u001b[0m\u001b[1;33m.\u001b[0m\u001b[0mto_excl\u001b[0m\u001b[1;33m(\u001b[0m\u001b[1;34m'D:/order01_num.xls'\u001b[0m\u001b[1;33m,\u001b[0m\u001b[0mencoding\u001b[0m\u001b[1;33m=\u001b[0m\u001b[1;34m'utf-8'\u001b[0m\u001b[1;33m,\u001b[0m\u001b[0mmode\u001b[0m\u001b[1;33m=\u001b[0m\u001b[1;34m'a'\u001b[0m\u001b[1;33m)\u001b[0m\u001b[1;33m\u001b[0m\u001b[1;33m\u001b[0m\u001b[0m\n\u001b[0m",
      "\u001b[1;32mD:\\software\\Anaconda-InstallFiles\\lib\\site-packages\\pandas\\core\\generic.py\u001b[0m in \u001b[0;36m__getattr__\u001b[1;34m(self, name)\u001b[0m\n\u001b[0;32m   5065\u001b[0m             \u001b[1;32mif\u001b[0m \u001b[0mself\u001b[0m\u001b[1;33m.\u001b[0m\u001b[0m_info_axis\u001b[0m\u001b[1;33m.\u001b[0m\u001b[0m_can_hold_identifiers_and_holds_name\u001b[0m\u001b[1;33m(\u001b[0m\u001b[0mname\u001b[0m\u001b[1;33m)\u001b[0m\u001b[1;33m:\u001b[0m\u001b[1;33m\u001b[0m\u001b[1;33m\u001b[0m\u001b[0m\n\u001b[0;32m   5066\u001b[0m                 \u001b[1;32mreturn\u001b[0m \u001b[0mself\u001b[0m\u001b[1;33m[\u001b[0m\u001b[0mname\u001b[0m\u001b[1;33m]\u001b[0m\u001b[1;33m\u001b[0m\u001b[1;33m\u001b[0m\u001b[0m\n\u001b[1;32m-> 5067\u001b[1;33m             \u001b[1;32mreturn\u001b[0m \u001b[0mobject\u001b[0m\u001b[1;33m.\u001b[0m\u001b[0m__getattribute__\u001b[0m\u001b[1;33m(\u001b[0m\u001b[0mself\u001b[0m\u001b[1;33m,\u001b[0m \u001b[0mname\u001b[0m\u001b[1;33m)\u001b[0m\u001b[1;33m\u001b[0m\u001b[1;33m\u001b[0m\u001b[0m\n\u001b[0m\u001b[0;32m   5068\u001b[0m \u001b[1;33m\u001b[0m\u001b[0m\n\u001b[0;32m   5069\u001b[0m     \u001b[1;32mdef\u001b[0m \u001b[0m__setattr__\u001b[0m\u001b[1;33m(\u001b[0m\u001b[0mself\u001b[0m\u001b[1;33m,\u001b[0m \u001b[0mname\u001b[0m\u001b[1;33m,\u001b[0m \u001b[0mvalue\u001b[0m\u001b[1;33m)\u001b[0m\u001b[1;33m:\u001b[0m\u001b[1;33m\u001b[0m\u001b[1;33m\u001b[0m\u001b[0m\n",
      "\u001b[1;31mAttributeError\u001b[0m: 'DataFrame' object has no attribute 'to_excl'"
     ]
    }
   ],
   "source": [
    "\n",
    "#将station_id的index重置\n",
    "undup_station_re01 = undup_station_01\n",
    "undup_station_re01 = pd.DataFrame(undup_station_re01)\n",
    "undup_station_re01.reset_index(inplace=True)\n",
    "#2019年江苏省所有充电站1月份每个充电站充电订单数量\n",
    "for i in range(len(undup_station_re01['station_id'])):\n",
    "    ordernum_01 = df01[df01['station_id']==undup_station_re01['station_id'].loc[i]]['station_id'].count()\n",
    "#     print(ordernum_01)\n",
    "    order01_num = undup_station_re01['station_id'].loc[i],ordernum_01\n",
    "    order01_num = pd.DataFrame(order01_num)\n",
    "    order01_num.to_csv('D:/order01_num.txt',encoding='utf-8',mode='a')"
   ]
  },
  {
   "cell_type": "code",
   "execution_count": 93,
   "metadata": {},
   "outputs": [],
   "source": [
    "#将station_id的index重置\n",
    "undup_station_re04 = undup_station_04\n",
    "undup_station_re04 = pd.DataFrame(undup_station_re04)\n",
    "undup_station_re04.reset_index(inplace=True)\n",
    "#4019年江苏省所有充电站4月份每个充电站充电订单数量\n",
    "for i in range(len(undup_station_re04['station_id'])):\n",
    "    ordernum_04 = df04[df04['station_id']==undup_station_re04['station_id'].loc[i]]['station_id'].count()\n",
    "#     print(ordernum_04)\n",
    "    order04_num = undup_station_re04['station_id'].loc[i],ordernum_04\n",
    "    order04_num = pd.DataFrame(order04_num)\n",
    "    order04_num.to_csv('D:/order04_num.txt',encoding='utf-8',mode='a')"
   ]
  },
  {
   "cell_type": "code",
   "execution_count": 150,
   "metadata": {},
   "outputs": [],
   "source": [
    "allorder = pd.read_csv('D:/allnum.txt',encoding='utf-8')"
   ]
  },
  {
   "cell_type": "code",
   "execution_count": 161,
   "metadata": {},
   "outputs": [
    {
     "data": {
      "text/html": [
       "<div>\n",
       "<style scoped>\n",
       "    .dataframe tbody tr th:only-of-type {\n",
       "        vertical-align: middle;\n",
       "    }\n",
       "\n",
       "    .dataframe tbody tr th {\n",
       "        vertical-align: top;\n",
       "    }\n",
       "\n",
       "    .dataframe thead th {\n",
       "        text-align: right;\n",
       "    }\n",
       "</style>\n",
       "<table border=\"1\" class=\"dataframe\">\n",
       "  <thead>\n",
       "    <tr style=\"text-align: right;\">\n",
       "      <th></th>\n",
       "      <th>station_id</th>\n",
       "      <th>order_num</th>\n",
       "    </tr>\n",
       "  </thead>\n",
       "  <tbody>\n",
       "    <tr>\n",
       "      <th>count</th>\n",
       "      <td>2.330000e+02</td>\n",
       "      <td>233.000000</td>\n",
       "    </tr>\n",
       "    <tr>\n",
       "      <th>mean</th>\n",
       "      <td>4.779622e+18</td>\n",
       "      <td>7098.995708</td>\n",
       "    </tr>\n",
       "    <tr>\n",
       "      <th>std</th>\n",
       "      <td>2.618804e+18</td>\n",
       "      <td>11825.783856</td>\n",
       "    </tr>\n",
       "    <tr>\n",
       "      <th>min</th>\n",
       "      <td>5.806853e+17</td>\n",
       "      <td>4.000000</td>\n",
       "    </tr>\n",
       "    <tr>\n",
       "      <th>25%</th>\n",
       "      <td>2.438083e+18</td>\n",
       "      <td>583.000000</td>\n",
       "    </tr>\n",
       "    <tr>\n",
       "      <th>50%</th>\n",
       "      <td>4.503885e+18</td>\n",
       "      <td>2014.000000</td>\n",
       "    </tr>\n",
       "    <tr>\n",
       "      <th>75%</th>\n",
       "      <td>6.536907e+18</td>\n",
       "      <td>7641.000000</td>\n",
       "    </tr>\n",
       "    <tr>\n",
       "      <th>max</th>\n",
       "      <td>9.926297e+18</td>\n",
       "      <td>73988.000000</td>\n",
       "    </tr>\n",
       "  </tbody>\n",
       "</table>\n",
       "</div>"
      ],
      "text/plain": [
       "         station_id     order_num\n",
       "count  2.330000e+02    233.000000\n",
       "mean   4.779622e+18   7098.995708\n",
       "std    2.618804e+18  11825.783856\n",
       "min    5.806853e+17      4.000000\n",
       "25%    2.438083e+18    583.000000\n",
       "50%    4.503885e+18   2014.000000\n",
       "75%    6.536907e+18   7641.000000\n",
       "max    9.926297e+18  73988.000000"
      ]
     },
     "execution_count": 161,
     "metadata": {},
     "output_type": "execute_result"
    }
   ],
   "source": [
    "allorder.describe()"
   ]
  },
  {
   "cell_type": "code",
   "execution_count": 158,
   "metadata": {},
   "outputs": [
    {
     "data": {
      "text/html": [
       "<div>\n",
       "<style scoped>\n",
       "    .dataframe tbody tr th:only-of-type {\n",
       "        vertical-align: middle;\n",
       "    }\n",
       "\n",
       "    .dataframe tbody tr th {\n",
       "        vertical-align: top;\n",
       "    }\n",
       "\n",
       "    .dataframe thead th {\n",
       "        text-align: right;\n",
       "    }\n",
       "</style>\n",
       "<table border=\"1\" class=\"dataframe\">\n",
       "  <thead>\n",
       "    <tr style=\"text-align: right;\">\n",
       "      <th></th>\n",
       "      <th>station_id</th>\n",
       "      <th>order_num</th>\n",
       "    </tr>\n",
       "  </thead>\n",
       "  <tbody>\n",
       "    <tr>\n",
       "      <th>20</th>\n",
       "      <td>5558022172611222346</td>\n",
       "      <td>73988</td>\n",
       "    </tr>\n",
       "  </tbody>\n",
       "</table>\n",
       "</div>"
      ],
      "text/plain": [
       "             station_id  order_num\n",
       "20  5558022172611222346      73988"
      ]
     },
     "execution_count": 158,
     "metadata": {},
     "output_type": "execute_result"
    }
   ],
   "source": [
    "allorder[allorder['order_num']==73988]"
   ]
  },
  {
   "cell_type": "code",
   "execution_count": 99,
   "metadata": {},
   "outputs": [],
   "source": [
    "unall = allorder['station_id']"
   ]
  },
  {
   "cell_type": "code",
   "execution_count": null,
   "metadata": {},
   "outputs": [],
   "source": []
  },
  {
   "cell_type": "code",
   "execution_count": 101,
   "metadata": {},
   "outputs": [],
   "source": [
    "unall = unall.drop_duplicates()"
   ]
  },
  {
   "cell_type": "code",
   "execution_count": 102,
   "metadata": {},
   "outputs": [
    {
     "data": {
      "text/plain": [
       "67"
      ]
     },
     "execution_count": 102,
     "metadata": {},
     "output_type": "execute_result"
    }
   ],
   "source": [
    "unall.count()"
   ]
  },
  {
   "cell_type": "code",
   "execution_count": 103,
   "metadata": {},
   "outputs": [
    {
     "data": {
      "text/plain": [
       "pandas.core.series.Series"
      ]
     },
     "execution_count": 103,
     "metadata": {},
     "output_type": "execute_result"
    }
   ],
   "source": [
    "type(unall)"
   ]
  },
  {
   "cell_type": "code",
   "execution_count": 104,
   "metadata": {},
   "outputs": [
    {
     "data": {
      "text/plain": [
       "3310085196125768460"
      ]
     },
     "execution_count": 104,
     "metadata": {},
     "output_type": "execute_result"
    }
   ],
   "source": [
    "unall.loc[0]"
   ]
  },
  {
   "cell_type": "code",
   "execution_count": null,
   "metadata": {
    "scrolled": false
   },
   "outputs": [],
   "source": []
  },
  {
   "cell_type": "code",
   "execution_count": 129,
   "metadata": {
    "scrolled": true
   },
   "outputs": [
    {
     "data": {
      "text/html": [
       "<div>\n",
       "<style scoped>\n",
       "    .dataframe tbody tr th:only-of-type {\n",
       "        vertical-align: middle;\n",
       "    }\n",
       "\n",
       "    .dataframe tbody tr th {\n",
       "        vertical-align: top;\n",
       "    }\n",
       "\n",
       "    .dataframe thead th {\n",
       "        text-align: right;\n",
       "    }\n",
       "</style>\n",
       "<table border=\"1\" class=\"dataframe\">\n",
       "  <thead>\n",
       "    <tr style=\"text-align: right;\">\n",
       "      <th></th>\n",
       "      <th>station_id</th>\n",
       "      <th>order_number</th>\n",
       "    </tr>\n",
       "  </thead>\n",
       "  <tbody>\n",
       "    <tr>\n",
       "      <th>81</th>\n",
       "      <td>9926297357062334444</td>\n",
       "      <td>53</td>\n",
       "    </tr>\n",
       "    <tr>\n",
       "      <th>117</th>\n",
       "      <td>9926297357062334444</td>\n",
       "      <td>53</td>\n",
       "    </tr>\n",
       "  </tbody>\n",
       "</table>\n",
       "</div>"
      ],
      "text/plain": [
       "              station_id  order_number\n",
       "81   9926297357062334444            53\n",
       "117  9926297357062334444            53"
      ]
     },
     "execution_count": 129,
     "metadata": {},
     "output_type": "execute_result"
    }
   ],
   "source": [
    "allorder[allorder['station_id']==9926297357062334444]"
   ]
  },
  {
   "cell_type": "code",
   "execution_count": 132,
   "metadata": {},
   "outputs": [],
   "source": [
    "df01['create_time'] = pd.to_datetime(df01['create_time'])\n",
    "df01['update_time'] = pd.to_datetime(df01['update_time'])\n",
    "df01['create_time'] = df01['create_time'].dt.time\n",
    "df01['update_time'] = df01['update_time'].dt.time"
   ]
  },
  {
   "cell_type": "code",
   "execution_count": 134,
   "metadata": {},
   "outputs": [],
   "source": []
  },
  {
   "cell_type": "code",
   "execution_count": 142,
   "metadata": {},
   "outputs": [
    {
     "data": {
      "text/html": [
       "<div>\n",
       "<style scoped>\n",
       "    .dataframe tbody tr th:only-of-type {\n",
       "        vertical-align: middle;\n",
       "    }\n",
       "\n",
       "    .dataframe tbody tr th {\n",
       "        vertical-align: top;\n",
       "    }\n",
       "\n",
       "    .dataframe thead th {\n",
       "        text-align: right;\n",
       "    }\n",
       "</style>\n",
       "<table border=\"1\" class=\"dataframe\">\n",
       "  <thead>\n",
       "    <tr style=\"text-align: right;\">\n",
       "      <th></th>\n",
       "      <th>station_id</th>\n",
       "      <th>pile_id</th>\n",
       "      <th>charge_energy</th>\n",
       "      <th>charge_total_fee</th>\n",
       "      <th>create_time</th>\n",
       "      <th>update_time</th>\n",
       "    </tr>\n",
       "  </thead>\n",
       "  <tbody>\n",
       "    <tr>\n",
       "      <th>5</th>\n",
       "      <td>3310085196125768460</td>\n",
       "      <td>17052630000</td>\n",
       "      <td>21.26</td>\n",
       "      <td>27.63</td>\n",
       "      <td>11:38:16</td>\n",
       "      <td>14:01:41</td>\n",
       "    </tr>\n",
       "    <tr>\n",
       "      <th>7</th>\n",
       "      <td>3310085196125768460</td>\n",
       "      <td>17052630000</td>\n",
       "      <td>9.10</td>\n",
       "      <td>11.83</td>\n",
       "      <td>17:33:32</td>\n",
       "      <td>18:59:18</td>\n",
       "    </tr>\n",
       "    <tr>\n",
       "      <th>8</th>\n",
       "      <td>4056442268676691096</td>\n",
       "      <td>17091370000</td>\n",
       "      <td>1.93</td>\n",
       "      <td>2.70</td>\n",
       "      <td>13:03:04</td>\n",
       "      <td>13:18:16</td>\n",
       "    </tr>\n",
       "    <tr>\n",
       "      <th>9</th>\n",
       "      <td>4056442268676691096</td>\n",
       "      <td>17091360000</td>\n",
       "      <td>12.43</td>\n",
       "      <td>17.40</td>\n",
       "      <td>13:19:31</td>\n",
       "      <td>14:40:19</td>\n",
       "    </tr>\n",
       "    <tr>\n",
       "      <th>10</th>\n",
       "      <td>3310085196125768460</td>\n",
       "      <td>17052630000</td>\n",
       "      <td>8.13</td>\n",
       "      <td>10.56</td>\n",
       "      <td>16:55:43</td>\n",
       "      <td>17:47:18</td>\n",
       "    </tr>\n",
       "  </tbody>\n",
       "</table>\n",
       "</div>"
      ],
      "text/plain": [
       "             station_id      pile_id  charge_energy  charge_total_fee  \\\n",
       "5   3310085196125768460  17052630000          21.26             27.63   \n",
       "7   3310085196125768460  17052630000           9.10             11.83   \n",
       "8   4056442268676691096  17091370000           1.93              2.70   \n",
       "9   4056442268676691096  17091360000          12.43             17.40   \n",
       "10  3310085196125768460  17052630000           8.13             10.56   \n",
       "\n",
       "   create_time update_time  \n",
       "5     11:38:16    14:01:41  \n",
       "7     17:33:32    18:59:18  \n",
       "8     13:03:04    13:18:16  \n",
       "9     13:19:31    14:40:19  \n",
       "10    16:55:43    17:47:18  "
      ]
     },
     "execution_count": 142,
     "metadata": {},
     "output_type": "execute_result"
    }
   ],
   "source": [
    "df01.head()"
   ]
  },
  {
   "cell_type": "code",
   "execution_count": 141,
   "metadata": {},
   "outputs": [],
   "source": [
    "time_use = (pd.to_datetime(df01['update_time'], format='%H:%M:%S')-pd.to_datetime(df01['create_time'], format='%H:%M:%S')).dt.total_seconds()/60"
   ]
  },
  {
   "cell_type": "code",
   "execution_count": 143,
   "metadata": {},
   "outputs": [
    {
     "data": {
      "text/plain": [
       "count    424652.000000\n",
       "mean          0.155376\n",
       "std         232.389326\n",
       "min       -1429.983333\n",
       "25%           0.000000\n",
       "50%          17.733333\n",
       "75%          49.166667\n",
       "max        1320.066667\n",
       "dtype: float64"
      ]
     },
     "execution_count": 143,
     "metadata": {},
     "output_type": "execute_result"
    }
   ],
   "source": [
    "time_use.describe()"
   ]
  },
  {
   "cell_type": "code",
   "execution_count": 147,
   "metadata": {},
   "outputs": [
    {
     "data": {
      "text/plain": [
       "237"
      ]
     },
     "execution_count": 147,
     "metadata": {},
     "output_type": "execute_result"
    }
   ],
   "source": [
    "allorder['station_id'].count()"
   ]
  },
  {
   "cell_type": "code",
   "execution_count": 164,
   "metadata": {},
   "outputs": [
    {
     "data": {
      "text/plain": [
       "station_id          8957\n",
       "pile_id             8957\n",
       "charge_energy       8957\n",
       "charge_total_fee    8957\n",
       "create_time         8957\n",
       "update_time         8957\n",
       "dtype: int64"
      ]
     },
     "execution_count": 164,
     "metadata": {},
     "output_type": "execute_result"
    }
   ],
   "source": [
    "df01[df01['station_id']==3310085196125768460].count()"
   ]
  },
  {
   "cell_type": "code",
   "execution_count": 304,
   "metadata": {},
   "outputs": [],
   "source": [
    "df9108 = pd.read_excel('D:/order/ownerid9108_201901.xls',encoding='utf-8')"
   ]
  },
  {
   "cell_type": "code",
   "execution_count": 305,
   "metadata": {},
   "outputs": [
    {
     "data": {
      "text/plain": [
       "owner_id            10401\n",
       "station_id          10401\n",
       "pile_id             10401\n",
       "charge_energy       10401\n",
       "charge_total_fee    10401\n",
       "create_time         10401\n",
       "update_time         10393\n",
       "dtype: int64"
      ]
     },
     "execution_count": 305,
     "metadata": {},
     "output_type": "execute_result"
    }
   ],
   "source": [
    "df9108.count()"
   ]
  },
  {
   "cell_type": "code",
   "execution_count": 306,
   "metadata": {},
   "outputs": [],
   "source": [
    "std9108 = df9108['station_id'].drop_duplicates()"
   ]
  },
  {
   "cell_type": "code",
   "execution_count": 308,
   "metadata": {},
   "outputs": [
    {
     "name": "stdout",
     "output_type": "stream",
     "text": [
      "owner_id            8272\n",
      "station_id          8272\n",
      "pile_id             8272\n",
      "charge_energy       8272\n",
      "charge_total_fee    8272\n",
      "create_time         8272\n",
      "update_time         8265\n",
      "dtype: int64\n",
      "owner_id            348\n",
      "station_id          348\n",
      "pile_id             348\n",
      "charge_energy       348\n",
      "charge_total_fee    348\n",
      "create_time         348\n",
      "update_time         347\n",
      "dtype: int64\n",
      "owner_id            816\n",
      "station_id          816\n",
      "pile_id             816\n",
      "charge_energy       816\n",
      "charge_total_fee    816\n",
      "create_time         816\n",
      "update_time         816\n",
      "dtype: int64\n",
      "owner_id            38\n",
      "station_id          38\n",
      "pile_id             38\n",
      "charge_energy       38\n",
      "charge_total_fee    38\n",
      "create_time         38\n",
      "update_time         38\n",
      "dtype: int64\n",
      "owner_id            927\n",
      "station_id          927\n",
      "pile_id             927\n",
      "charge_energy       927\n",
      "charge_total_fee    927\n",
      "create_time         927\n",
      "update_time         927\n",
      "dtype: int64\n"
     ]
    }
   ],
   "source": [
    "std9108\n",
    "print(df9108[df9108['station_id']==6413716962386352636].count())\n",
    "print(df9108[df9108['station_id']==3891890486485025595].count())\n",
    "print(df9108[df9108['station_id']==6349784463413039465].count())\n",
    "print(df9108[df9108['station_id']==7754854145841195308].count())\n",
    "print(df9108[df9108['station_id']==4615784263195227216].count())"
   ]
  },
  {
   "cell_type": "code",
   "execution_count": 206,
   "metadata": {},
   "outputs": [
    {
     "data": {
      "text/plain": [
       "owner_id            774\n",
       "station_id          774\n",
       "pile_id             774\n",
       "charge_energy       774\n",
       "charge_total_fee    774\n",
       "create_time         774\n",
       "update_time         774\n",
       "dtype: int64"
      ]
     },
     "execution_count": 206,
     "metadata": {},
     "output_type": "execute_result"
    }
   ],
   "source": [
    "df343[df343['station_id']==9295110594524779790].count()"
   ]
  },
  {
   "cell_type": "code",
   "execution_count": 207,
   "metadata": {},
   "outputs": [
    {
     "data": {
      "text/plain": [
       "owner_id            922\n",
       "station_id          922\n",
       "pile_id             922\n",
       "charge_energy       922\n",
       "charge_total_fee    922\n",
       "create_time         922\n",
       "update_time         922\n",
       "dtype: int64"
      ]
     },
     "execution_count": 207,
     "metadata": {},
     "output_type": "execute_result"
    }
   ],
   "source": [
    "df343[df343['station_id']==9607411478166586232].count()"
   ]
  },
  {
   "cell_type": "code",
   "execution_count": 208,
   "metadata": {},
   "outputs": [
    {
     "data": {
      "text/plain": [
       "owner_id            13572\n",
       "station_id          13572\n",
       "pile_id             13572\n",
       "charge_energy       13572\n",
       "charge_total_fee    13572\n",
       "create_time         13572\n",
       "update_time         13570\n",
       "dtype: int64"
      ]
     },
     "execution_count": 208,
     "metadata": {},
     "output_type": "execute_result"
    }
   ],
   "source": [
    "df343[df343['station_id']==2728106030463940581].count()"
   ]
  },
  {
   "cell_type": "code",
   "execution_count": 209,
   "metadata": {},
   "outputs": [
    {
     "data": {
      "text/plain": [
       "owner_id            494\n",
       "station_id          494\n",
       "pile_id             494\n",
       "charge_energy       494\n",
       "charge_total_fee    494\n",
       "create_time         494\n",
       "update_time         494\n",
       "dtype: int64"
      ]
     },
     "execution_count": 209,
     "metadata": {},
     "output_type": "execute_result"
    }
   ],
   "source": [
    "df343[df343['station_id']==3627600775366493743].count()"
   ]
  },
  {
   "cell_type": "code",
   "execution_count": 261,
   "metadata": {},
   "outputs": [],
   "source": []
  },
  {
   "cell_type": "code",
   "execution_count": 309,
   "metadata": {},
   "outputs": [
    {
     "data": {
      "text/plain": [
       "0"
      ]
     },
     "execution_count": 309,
     "metadata": {},
     "output_type": "execute_result"
    }
   ],
   "source": [
    "stid40581 = df343[df343['station_id']==2728106030463940581]\n",
    "stid40581 = stid40581[stid40581['charge_total_fee']>1]\n",
    "stid40581['pile_id'].count()"
   ]
  },
  {
   "cell_type": "code",
   "execution_count": 277,
   "metadata": {},
   "outputs": [],
   "source": [
    "stid40581['create_time'] = pd.to_datetime(stid40581['create_time'])\n",
    "stid40581['update_time'] = pd.to_datetime(stid40581['update_time'])\n",
    "stid40581['create_time'] = stid40581['create_time'].dt.hour\n",
    "# stid40581['update_time'] = stid40581['update_time'].dt.time"
   ]
  },
  {
   "cell_type": "code",
   "execution_count": 268,
   "metadata": {
    "scrolled": true
   },
   "outputs": [
    {
     "data": {
      "text/html": [
       "<div>\n",
       "<style scoped>\n",
       "    .dataframe tbody tr th:only-of-type {\n",
       "        vertical-align: middle;\n",
       "    }\n",
       "\n",
       "    .dataframe tbody tr th {\n",
       "        vertical-align: top;\n",
       "    }\n",
       "\n",
       "    .dataframe thead th {\n",
       "        text-align: right;\n",
       "    }\n",
       "</style>\n",
       "<table border=\"1\" class=\"dataframe\">\n",
       "  <thead>\n",
       "    <tr style=\"text-align: right;\">\n",
       "      <th></th>\n",
       "      <th>owner_id</th>\n",
       "      <th>station_id</th>\n",
       "      <th>pile_id</th>\n",
       "      <th>charge_energy</th>\n",
       "      <th>charge_total_fee</th>\n",
       "      <th>create_time</th>\n",
       "      <th>update_time</th>\n",
       "    </tr>\n",
       "  </thead>\n",
       "  <tbody>\n",
       "    <tr>\n",
       "      <th>3</th>\n",
       "      <td>343</td>\n",
       "      <td>2728106030463940581</td>\n",
       "      <td>13013720746</td>\n",
       "      <td>28.13</td>\n",
       "      <td>33.75</td>\n",
       "      <td>2019-01-05 10:42:30</td>\n",
       "      <td>2019-01-05 10:42:30</td>\n",
       "    </tr>\n",
       "    <tr>\n",
       "      <th>4</th>\n",
       "      <td>343</td>\n",
       "      <td>2728106030463940581</td>\n",
       "      <td>13004304680</td>\n",
       "      <td>19.27</td>\n",
       "      <td>23.10</td>\n",
       "      <td>2019-01-21 06:45:41</td>\n",
       "      <td>2019-01-21 06:45:41</td>\n",
       "    </tr>\n",
       "  </tbody>\n",
       "</table>\n",
       "</div>"
      ],
      "text/plain": [
       "   owner_id           station_id      pile_id  charge_energy  \\\n",
       "3       343  2728106030463940581  13013720746          28.13   \n",
       "4       343  2728106030463940581  13004304680          19.27   \n",
       "\n",
       "   charge_total_fee         create_time         update_time  \n",
       "3             33.75 2019-01-05 10:42:30 2019-01-05 10:42:30  \n",
       "4             23.10 2019-01-21 06:45:41 2019-01-21 06:45:41  "
      ]
     },
     "execution_count": 268,
     "metadata": {},
     "output_type": "execute_result"
    }
   ],
   "source": [
    "stid40581.head(2)"
   ]
  },
  {
   "cell_type": "code",
   "execution_count": 283,
   "metadata": {},
   "outputs": [
    {
     "data": {
      "text/plain": [
       "pandas.core.series.Series"
      ]
     },
     "execution_count": 283,
     "metadata": {},
     "output_type": "execute_result"
    }
   ],
   "source": [
    "stid40581['create_time'] = pd.to_datetime(stid40581['create_time'])\n",
    "type(stid40581['create_time'])"
   ]
  },
  {
   "cell_type": "code",
   "execution_count": 275,
   "metadata": {},
   "outputs": [
    {
     "data": {
      "text/plain": [
       "(array([737060., 737064., 737068., 737072., 737076., 737080., 737084.,\n",
       "        737088., 737091.]), <a list of 9 Text xticklabel objects>)"
      ]
     },
     "execution_count": 275,
     "metadata": {},
     "output_type": "execute_result"
    },
    {
     "data": {
      "image/png": "[encoded data removed]",
      "text/plain": [
       "<Figure size 432x288 with 1 Axes>"
      ]
     },
     "metadata": {
      "needs_background": "light"
     },
     "output_type": "display_data"
    }
   ],
   "source": [
    "plt.hist(stid40581['create_time'],bins=24);\n",
    "plt.xticks(rotation=30)"
   ]
  },
  {
   "cell_type": "code",
   "execution_count": 287,
   "metadata": {},
   "outputs": [
    {
     "name": "stderr",
     "output_type": "stream",
     "text": [
      "D:\\software\\Anaconda-InstallFiles\\lib\\site-packages\\IPython\\core\\interactiveshell.py:3049: DtypeWarning: Columns (2,4) have mixed types. Specify dtype option on import or set low_memory=False.\n",
      "  interactivity=interactivity, compiler=compiler, result=result)\n"
     ]
    }
   ],
   "source": [
    "df0103 = pd.read_csv('D:/Work-Files/Data/qs_charge_order/correct0103.csv',encoding='utf-8',sep='\\t')"
   ]
  },
  {
   "cell_type": "code",
   "execution_count": 292,
   "metadata": {},
   "outputs": [
    {
     "data": {
      "text/html": [
       "<div>\n",
       "<style scoped>\n",
       "    .dataframe tbody tr th:only-of-type {\n",
       "        vertical-align: middle;\n",
       "    }\n",
       "\n",
       "    .dataframe tbody tr th {\n",
       "        vertical-align: top;\n",
       "    }\n",
       "\n",
       "    .dataframe thead th {\n",
       "        text-align: right;\n",
       "    }\n",
       "</style>\n",
       "<table border=\"1\" class=\"dataframe\">\n",
       "  <thead>\n",
       "    <tr style=\"text-align: right;\">\n",
       "      <th></th>\n",
       "      <th>owner_id</th>\n",
       "      <th>station_id</th>\n",
       "      <th>pile_id</th>\n",
       "      <th>charge_energy</th>\n",
       "      <th>charge_total_fee</th>\n",
       "      <th>create_time</th>\n",
       "      <th>update_time</th>\n",
       "    </tr>\n",
       "  </thead>\n",
       "  <tbody>\n",
       "    <tr>\n",
       "      <th>3</th>\n",
       "      <td>343</td>\n",
       "      <td>2728106030463940581</td>\n",
       "      <td>13013720746</td>\n",
       "      <td>28.13</td>\n",
       "      <td>33.75</td>\n",
       "      <td>1970-01-01 00:00:00.000000010</td>\n",
       "      <td>2019-01-05 10:42:30</td>\n",
       "    </tr>\n",
       "    <tr>\n",
       "      <th>4</th>\n",
       "      <td>343</td>\n",
       "      <td>2728106030463940581</td>\n",
       "      <td>13004304680</td>\n",
       "      <td>19.27</td>\n",
       "      <td>23.10</td>\n",
       "      <td>1970-01-01 00:00:00.000000006</td>\n",
       "      <td>2019-01-21 06:45:41</td>\n",
       "    </tr>\n",
       "  </tbody>\n",
       "</table>\n",
       "</div>"
      ],
      "text/plain": [
       "   owner_id           station_id      pile_id  charge_energy  \\\n",
       "3       343  2728106030463940581  13013720746          28.13   \n",
       "4       343  2728106030463940581  13004304680          19.27   \n",
       "\n",
       "   charge_total_fee                   create_time         update_time  \n",
       "3             33.75 1970-01-01 00:00:00.000000010 2019-01-05 10:42:30  \n",
       "4             23.10 1970-01-01 00:00:00.000000006 2019-01-21 06:45:41  "
      ]
     },
     "execution_count": 292,
     "metadata": {},
     "output_type": "execute_result"
    }
   ],
   "source": [
    "stid40581.head(2)"
   ]
  },
  {
   "cell_type": "code",
   "execution_count": 296,
   "metadata": {},
   "outputs": [],
   "source": [
    "stid40581 = stid40581.drop('create_time',axis=1)"
   ]
  },
  {
   "cell_type": "code",
   "execution_count": 298,
   "metadata": {},
   "outputs": [
    {
     "data": {
      "text/plain": [
       "owner_id            13183\n",
       "station_id          13183\n",
       "pile_id             13183\n",
       "charge_energy       13183\n",
       "charge_total_fee    13183\n",
       "update_time         13183\n",
       "dtype: int64"
      ]
     },
     "execution_count": 298,
     "metadata": {},
     "output_type": "execute_result"
    }
   ],
   "source": [
    "stid40581.count()"
   ]
  },
  {
   "cell_type": "code",
   "execution_count": 299,
   "metadata": {},
   "outputs": [
    {
     "data": {
      "text/html": [
       "<div>\n",
       "<style scoped>\n",
       "    .dataframe tbody tr th:only-of-type {\n",
       "        vertical-align: middle;\n",
       "    }\n",
       "\n",
       "    .dataframe tbody tr th {\n",
       "        vertical-align: top;\n",
       "    }\n",
       "\n",
       "    .dataframe thead th {\n",
       "        text-align: right;\n",
       "    }\n",
       "</style>\n",
       "<table border=\"1\" class=\"dataframe\">\n",
       "  <thead>\n",
       "    <tr style=\"text-align: right;\">\n",
       "      <th></th>\n",
       "      <th>owner_id</th>\n",
       "      <th>station_id</th>\n",
       "      <th>pile_id</th>\n",
       "      <th>charge_energy</th>\n",
       "      <th>charge_total_fee</th>\n",
       "      <th>update_time</th>\n",
       "    </tr>\n",
       "  </thead>\n",
       "  <tbody>\n",
       "    <tr>\n",
       "      <th>3</th>\n",
       "      <td>343</td>\n",
       "      <td>2728106030463940581</td>\n",
       "      <td>13013720746</td>\n",
       "      <td>28.13</td>\n",
       "      <td>33.75</td>\n",
       "      <td>2019-01-05 10:42:30</td>\n",
       "    </tr>\n",
       "    <tr>\n",
       "      <th>4</th>\n",
       "      <td>343</td>\n",
       "      <td>2728106030463940581</td>\n",
       "      <td>13004304680</td>\n",
       "      <td>19.27</td>\n",
       "      <td>23.10</td>\n",
       "      <td>2019-01-21 06:45:41</td>\n",
       "    </tr>\n",
       "  </tbody>\n",
       "</table>\n",
       "</div>"
      ],
      "text/plain": [
       "   owner_id           station_id      pile_id  charge_energy  \\\n",
       "3       343  2728106030463940581  13013720746          28.13   \n",
       "4       343  2728106030463940581  13004304680          19.27   \n",
       "\n",
       "   charge_total_fee         update_time  \n",
       "3             33.75 2019-01-05 10:42:30  \n",
       "4             23.10 2019-01-21 06:45:41  "
      ]
     },
     "execution_count": 299,
     "metadata": {},
     "output_type": "execute_result"
    }
   ],
   "source": [
    "stid40581.head(2)"
   ]
  },
  {
   "cell_type": "code",
   "execution_count": 300,
   "metadata": {},
   "outputs": [],
   "source": [
    "stid40581['update_time_h'] = pd.to_datetime(stid40581['update_time'])\n",
    "stid40581['update_time_h'] = stid40581['update_time_h'].dt.time"
   ]
  },
  {
   "cell_type": "code",
   "execution_count": 301,
   "metadata": {},
   "outputs": [
    {
     "data": {
      "text/html": [
       "<div>\n",
       "<style scoped>\n",
       "    .dataframe tbody tr th:only-of-type {\n",
       "        vertical-align: middle;\n",
       "    }\n",
       "\n",
       "    .dataframe tbody tr th {\n",
       "        vertical-align: top;\n",
       "    }\n",
       "\n",
       "    .dataframe thead th {\n",
       "        text-align: right;\n",
       "    }\n",
       "</style>\n",
       "<table border=\"1\" class=\"dataframe\">\n",
       "  <thead>\n",
       "    <tr style=\"text-align: right;\">\n",
       "      <th></th>\n",
       "      <th>owner_id</th>\n",
       "      <th>station_id</th>\n",
       "      <th>pile_id</th>\n",
       "      <th>charge_energy</th>\n",
       "      <th>charge_total_fee</th>\n",
       "      <th>update_time</th>\n",
       "      <th>update_time_h</th>\n",
       "    </tr>\n",
       "  </thead>\n",
       "  <tbody>\n",
       "    <tr>\n",
       "      <th>3</th>\n",
       "      <td>343</td>\n",
       "      <td>2728106030463940581</td>\n",
       "      <td>13013720746</td>\n",
       "      <td>28.13</td>\n",
       "      <td>33.75</td>\n",
       "      <td>2019-01-05 10:42:30</td>\n",
       "      <td>10:42:30</td>\n",
       "    </tr>\n",
       "    <tr>\n",
       "      <th>4</th>\n",
       "      <td>343</td>\n",
       "      <td>2728106030463940581</td>\n",
       "      <td>13004304680</td>\n",
       "      <td>19.27</td>\n",
       "      <td>23.10</td>\n",
       "      <td>2019-01-21 06:45:41</td>\n",
       "      <td>06:45:41</td>\n",
       "    </tr>\n",
       "  </tbody>\n",
       "</table>\n",
       "</div>"
      ],
      "text/plain": [
       "   owner_id           station_id      pile_id  charge_energy  \\\n",
       "3       343  2728106030463940581  13013720746          28.13   \n",
       "4       343  2728106030463940581  13004304680          19.27   \n",
       "\n",
       "   charge_total_fee         update_time update_time_h  \n",
       "3             33.75 2019-01-05 10:42:30      10:42:30  \n",
       "4             23.10 2019-01-21 06:45:41      06:45:41  "
      ]
     },
     "execution_count": 301,
     "metadata": {},
     "output_type": "execute_result"
    }
   ],
   "source": [
    "stid40581.head(2)"
   ]
  },
  {
   "cell_type": "code",
   "execution_count": 302,
   "metadata": {},
   "outputs": [],
   "source": [
    "stid40581.to_csv('D:/stid40581.csv',encoding='utf-8')"
   ]
  },
  {
   "cell_type": "code",
   "execution_count": 310,
   "metadata": {},
   "outputs": [
    {
     "data": {
      "text/plain": [
       "7649"
      ]
     },
     "execution_count": 310,
     "metadata": {},
     "output_type": "execute_result"
    }
   ],
   "source": [
    "stid2636 = df9108[df9108['station_id']==6413716962386352636]\n",
    "stid2636 = stid2636[stid2636['charge_total_fee']>1]\n",
    "stid2636['pile_id'].count()"
   ]
  },
  {
   "cell_type": "code",
   "execution_count": 311,
   "metadata": {},
   "outputs": [],
   "source": [
    "stid2636['update_time_h'] = pd.to_datetime(stid2636['update_time'])\n",
    "stid2636['update_time_h'] = stid2636['update_time_h'].dt.time\n",
    "stid2636.to_csv('D:/stid2636.csv',encoding='utf-8')"
   ]
  },
  {
   "cell_type": "code",
   "execution_count": 330,
   "metadata": {},
   "outputs": [
    {
     "name": "stdout",
     "output_type": "stream",
     "text": [
      "6625\n",
      "3\n"
     ]
    }
   ],
   "source": [
    "df348 = pd.read_excel('D:/order/ownerid348_201901.xls',encoding='utf-8')\n",
    "std348 = df348['station_id'].drop_duplicates()\n",
    "print(df348['pile_id'].count())\n",
    "print(std348.count())"
   ]
  },
  {
   "cell_type": "code",
   "execution_count": 316,
   "metadata": {},
   "outputs": [
    {
     "data": {
      "text/plain": [
       "0       6536906877249684486\n",
       "209     6821001255323104375\n",
       "6508    1134209819042827168\n",
       "Name: station_id, dtype: int64"
      ]
     },
     "execution_count": 316,
     "metadata": {},
     "output_type": "execute_result"
    }
   ],
   "source": [
    "std348"
   ]
  },
  {
   "cell_type": "code",
   "execution_count": 318,
   "metadata": {},
   "outputs": [
    {
     "name": "stdout",
     "output_type": "stream",
     "text": [
      "owner_id            5398\n",
      "station_id          5398\n",
      "pile_id             5398\n",
      "charge_energy       5398\n",
      "charge_total_fee    5398\n",
      "create_time         5398\n",
      "update_time         5398\n",
      "dtype: int64\n",
      "owner_id            1159\n",
      "station_id          1159\n",
      "pile_id             1159\n",
      "charge_energy       1159\n",
      "charge_total_fee    1159\n",
      "create_time         1159\n",
      "update_time         1159\n",
      "dtype: int64\n",
      "owner_id            68\n",
      "station_id          68\n",
      "pile_id             68\n",
      "charge_energy       68\n",
      "charge_total_fee    68\n",
      "create_time         68\n",
      "update_time         68\n",
      "dtype: int64\n"
     ]
    }
   ],
   "source": [
    "print(df348[df348['station_id']==6536906877249684486].count())\n",
    "print(df348[df348['station_id']==6821001255323104375].count())\n",
    "print(df348[df348['station_id']==1134209819042827168].count())"
   ]
  },
  {
   "cell_type": "code",
   "execution_count": 319,
   "metadata": {},
   "outputs": [
    {
     "data": {
      "text/plain": [
       "5044"
      ]
     },
     "execution_count": 319,
     "metadata": {},
     "output_type": "execute_result"
    }
   ],
   "source": [
    "stid4486 = df348[df348['station_id']==6536906877249684486]\n",
    "stid4486 = stid4486[stid4486['charge_total_fee']>1]     \n",
    "stid4486['pile_id'].count()       "
   ]
  },
  {
   "cell_type": "code",
   "execution_count": 323,
   "metadata": {},
   "outputs": [],
   "source": [
    "stid4486['update_time_h'] = pd.to_datetime(stid4486['update_time'])\n",
    "stid4486['update_time_h'] = stid4486['update_time_h'].dt.time\n",
    "stid4486['create_time_h'] = pd.to_datetime(stid4486['create_time'])\n",
    "stid4486['create_time_h'] = stid4486['create_time_h'].dt.time\n",
    "stid4486['time_use']  = (pd.to_datetime(stid4486['update_time_h'], format='%H:%M:%S')-pd.to_datetime(stid4486['create_time_h'], format='%H:%M:%S')).dt.total_seconds()/60\n",
    "stid4486.to_csv('D:/stid4486.csv',encoding='utf-8')"
   ]
  },
  {
   "cell_type": "code",
   "execution_count": null,
   "metadata": {},
   "outputs": [],
   "source": [
    "df348 = pd.read_excel('D:/order/ownerid348_201901.xls',encoding='utf-8')\n",
    "std348 = df348['station_id'].drop_duplicates()\n",
    "print(df348['pile_id'].count())\n",
    "print(std348.count())"
   ]
  },
  {
   "cell_type": "code",
   "execution_count": 35,
   "metadata": {},
   "outputs": [
    {
     "name": "stdout",
     "output_type": "stream",
     "text": [
      "文件名 ownerid15146_201902.xls\n",
      "订单数量： 1006\n",
      "station_id数量： 3\n",
      "station_id: 6265226620180852524\n",
      "station_order_num 629\n",
      "station_id: 4788295829146598227\n",
      "station_order_num 271\n",
      "station_id: 4503885187447447905\n",
      "station_order_num 106\n",
      "文件名 ownerid15146_201903.xls\n",
      "订单数量： 2949\n",
      "station_id数量： 3\n",
      "station_id: 4788295829146598227\n",
      "station_order_num 308\n",
      "station_id: 6265226620180852524\n",
      "station_order_num 1930\n",
      "station_id: 4503885187447447905\n",
      "station_order_num 711\n",
      "文件名 ownerid15146_201904.xls\n",
      "订单数量： 2342\n",
      "station_id数量： 4\n",
      "station_id: 6265226620180852524\n",
      "station_order_num 1302\n",
      "station_id: 4482637417278779975\n",
      "station_order_num 354\n",
      "station_id: 4503885187447447905\n",
      "station_order_num 492\n",
      "station_id: 4788295829146598227\n",
      "station_order_num 194\n",
      "文件名 ownerid16377_201902.xls\n",
      "订单数量： 11\n",
      "station_id数量： 1\n",
      "station_id: 7086015265924676437\n",
      "station_order_num 11\n",
      "文件名 ownerid16377_201903.xls\n",
      "订单数量： 115\n",
      "station_id数量： 1\n",
      "station_id: 7086015265924676437\n",
      "station_order_num 115\n",
      "文件名 ownerid16377_201904.xls\n",
      "订单数量： 473\n",
      "station_id数量： 1\n",
      "station_id: 7086015265924676437\n",
      "station_order_num 473\n",
      "文件名 ownerid1786_201901.xls\n",
      "订单数量： 840\n",
      "station_id数量： 1\n",
      "station_id: 5722090941085498170\n",
      "station_order_num 840\n",
      "文件名 ownerid1786_201902.xls\n",
      "订单数量： 491\n",
      "station_id数量： 1\n",
      "station_id: 5722090941085498170\n",
      "station_order_num 491\n",
      "文件名 ownerid1786_201903.xls\n",
      "订单数量： 891\n",
      "station_id数量： 2\n",
      "station_id: 5722090941085498170\n",
      "station_order_num 778\n",
      "station_id: 3115573526969898612\n",
      "station_order_num 113\n",
      "文件名 ownerid1786_201904.xls\n",
      "订单数量： 1396\n",
      "station_id数量： 2\n",
      "station_id: 5722090941085498170\n",
      "station_order_num 579\n",
      "station_id: 3115573526969898612\n",
      "station_order_num 817\n",
      "文件名 ownerid2150_201901.xls\n",
      "订单数量： 1673\n",
      "station_id数量： 3\n",
      "station_id: 6328414258133346396\n",
      "station_order_num 1566\n",
      "station_id: 1280099740678114354\n",
      "station_order_num 103\n",
      "station_id: 2240435052185242789\n",
      "station_order_num 4\n",
      "文件名 ownerid2150_201902.xls\n",
      "订单数量： 1012\n",
      "station_id数量： 1\n",
      "station_id: 6328414258133346396\n",
      "station_order_num 1012\n",
      "文件名 ownerid2150_201903.xls\n",
      "订单数量： 6110\n",
      "station_id数量： 3\n",
      "station_id: 1280099740678114354\n",
      "station_order_num 13\n",
      "station_id: 6328414258133346396\n",
      "station_order_num 1447\n",
      "station_id: 8966964537641010185\n",
      "station_order_num 4650\n",
      "文件名 ownerid2150_201904.xls\n",
      "订单数量： 6695\n",
      "station_id数量： 4\n",
      "station_id: 8966964537641010185\n",
      "station_order_num 5552\n",
      "station_id: 2240435052185242789\n",
      "station_order_num 2\n",
      "station_id: 6328414258133346396\n",
      "station_order_num 1094\n",
      "station_id: 1280099740678114354\n",
      "station_order_num 47\n",
      "文件名 ownerid2460_201901.xls\n",
      "订单数量： 4750\n",
      "station_id数量： 1\n",
      "station_id: 3795028514422817409\n",
      "station_order_num 4750\n",
      "文件名 ownerid2460_201902.xls\n",
      "订单数量： 4136\n",
      "station_id数量： 1\n",
      "station_id: 3795028514422817409\n",
      "station_order_num 4136\n",
      "文件名 ownerid2460_201903.xls\n",
      "订单数量： 4046\n",
      "station_id数量： 1\n",
      "station_id: 3795028514422817409\n",
      "station_order_num 4046\n",
      "文件名 ownerid2460_201904.xls\n",
      "订单数量： 2625\n",
      "station_id数量： 1\n",
      "station_id: 3795028514422817409\n",
      "station_order_num 2625\n",
      "文件名 ownerid2582_201901.xls\n",
      "订单数量： 2301\n",
      "station_id数量： 1\n",
      "station_id: 8862475813102986892\n",
      "station_order_num 2301\n",
      "文件名 ownerid2582_201902.xls\n",
      "订单数量： 2229\n",
      "station_id数量： 1\n",
      "station_id: 8862475813102986892\n",
      "station_order_num 2229\n",
      "文件名 ownerid2582_201903.xls\n",
      "订单数量： 3029\n",
      "station_id数量： 1\n",
      "station_id: 8862475813102986892\n",
      "station_order_num 3029\n",
      "文件名 ownerid2582_201904.xls\n",
      "订单数量： 2056\n",
      "station_id数量： 1\n",
      "station_id: 8862475813102986892\n",
      "station_order_num 2056\n",
      "文件名 ownerid343_201902.xls\n",
      "订单数量： 12618\n",
      "station_id数量： 3\n",
      "station_id: 9607411478166586232\n",
      "station_order_num 544\n",
      "station_id: 2728106030463940581\n",
      "station_order_num 11649\n",
      "station_id: 3627600775366493743\n",
      "station_order_num 425\n",
      "文件名 ownerid343_201903.xls\n",
      "订单数量： 15797\n",
      "station_id数量： 4\n",
      "station_id: 9607411478166586232\n",
      "station_order_num 840\n",
      "station_id: 9295110594524779790\n",
      "station_order_num 522\n",
      "station_id: 2728106030463940581\n",
      "station_order_num 13770\n",
      "station_id: 3627600775366493743\n",
      "station_order_num 665\n",
      "文件名 ownerid343_201904.xls\n",
      "订单数量： 12060\n",
      "station_id数量： 4\n",
      "station_id: 2728106030463940581\n",
      "station_order_num 10213\n",
      "station_id: 9607411478166586232\n",
      "station_order_num 578\n",
      "station_id: 3627600775366493743\n",
      "station_order_num 563\n",
      "station_id: 9295110594524779790\n",
      "station_order_num 706\n",
      "文件名 ownerid344_201901.xls\n",
      "订单数量： 8980\n",
      "station_id数量： 47\n",
      "station_id: 8526317433170656495\n",
      "station_order_num 26\n",
      "station_id: 3310085196125768460\n",
      "station_order_num 192\n",
      "station_id: 4056442268676691096\n",
      "station_order_num 471\n",
      "station_id: 2275170803853612275\n",
      "station_order_num 60\n",
      "station_id: 6081562360858849611\n",
      "station_order_num 580\n",
      "station_id: 3172405730699773629\n",
      "station_order_num 466\n",
      "station_id: 5558022172611222346\n",
      "station_order_num 1464\n",
      "station_id: 1240456049796529230\n",
      "station_order_num 731\n",
      "station_id: 4256451114722390906\n",
      "station_order_num 168\n",
      "station_id: 7930142327295591190\n",
      "station_order_num 499\n",
      "station_id: 1730853711591315008\n",
      "station_order_num 44\n",
      "station_id: 4051779343769192811\n",
      "station_order_num 659\n",
      "station_id: 3235015432136823835\n",
      "station_order_num 27\n",
      "station_id: 9530502070831134557\n",
      "station_order_num 38\n",
      "station_id: 2131318580351476062\n",
      "station_order_num 42\n",
      "station_id: 2796402219326059713\n",
      "station_order_num 63\n",
      "station_id: 3753480781091229028\n",
      "station_order_num 17\n",
      "station_id: 9337944428648647820\n",
      "station_order_num 126\n",
      "station_id: 1580250241520297763\n",
      "station_order_num 61\n",
      "station_id: 7621356526337329670\n",
      "station_order_num 64\n",
      "station_id: 1462426125289393531\n",
      "station_order_num 936\n",
      "station_id: 3305383417013741903\n",
      "station_order_num 4\n",
      "station_id: 6110099534095477522\n",
      "station_order_num 12\n",
      "station_id: 1415726862723687139\n",
      "station_order_num 21\n",
      "station_id: 2842384070488283621\n",
      "station_order_num 137\n",
      "station_id: 6823704807558873308\n",
      "station_order_num 154\n",
      "station_id: 3779418235498696860\n",
      "station_order_num 336\n",
      "station_id: 7396533032286905454\n",
      "station_order_num 18\n",
      "station_id: 4120883742482531045\n",
      "station_order_num 207\n",
      "station_id: 580685293944617743\n",
      "station_order_num 67\n",
      "station_id: 9348266379811717545\n",
      "station_order_num 68\n",
      "station_id: 1083013262709344735\n",
      "station_order_num 39\n",
      "station_id: 7575242825921025057\n",
      "station_order_num 296\n",
      "station_id: 5487029316138408804\n",
      "station_order_num 167\n",
      "station_id: 9341987960347883674\n",
      "station_order_num 57\n",
      "station_id: 1514597384815440301\n",
      "station_order_num 1\n",
      "station_id: 6211314963999908143\n",
      "station_order_num 69\n",
      "station_id: 5565644432349316932\n",
      "station_order_num 4\n",
      "station_id: 4074153593317540191\n",
      "station_order_num 93\n",
      "station_id: 8865594360731828430\n",
      "station_order_num 212\n",
      "station_id: 5424807060794075323\n",
      "station_order_num 1\n",
      "station_id: 2438083169107175900\n",
      "station_order_num 29\n",
      "station_id: 916865802845921232\n",
      "station_order_num 27\n",
      "station_id: 1234852850672194412\n",
      "station_order_num 1\n",
      "station_id: 7022561791556797823\n",
      "station_order_num 2\n",
      "station_id: 114705900910300310\n",
      "station_order_num 1\n",
      "station_id: 8665974593818460857\n",
      "station_order_num 223\n",
      "文件名 ownerid344_201902.xls\n",
      "订单数量： 7402\n",
      "station_id数量： 45\n",
      "station_id: 2275170803853612275\n",
      "station_order_num 78\n",
      "station_id: 3310085196125768460\n",
      "station_order_num 272\n",
      "station_id: 6081562360858849611\n",
      "station_order_num 457\n",
      "station_id: 3172405730699773629\n",
      "station_order_num 446\n",
      "station_id: 5558022172611222346\n",
      "station_order_num 1179\n",
      "station_id: 1240456049796529230\n",
      "station_order_num 605\n",
      "station_id: 4256451114722390906\n",
      "station_order_num 137\n",
      "station_id: 7930142327295591190\n",
      "station_order_num 365\n",
      "station_id: 1730853711591315008\n",
      "station_order_num 5\n",
      "station_id: 3235015432136823835\n",
      "station_order_num 22\n",
      "station_id: 1415726862723687139\n",
      "station_order_num 402\n",
      "station_id: 9926297357062334444\n",
      "station_order_num 2\n",
      "station_id: 9530502070831134557\n",
      "station_order_num 28\n",
      "station_id: 2131318580351476062\n",
      "station_order_num 36\n",
      "station_id: 2796402219326059713\n",
      "station_order_num 71\n",
      "station_id: 4056442268676691096\n",
      "station_order_num 267\n",
      "station_id: 3753480781091229028\n",
      "station_order_num 4\n",
      "station_id: 1580250241520297763\n",
      "station_order_num 21\n",
      "station_id: 1462426125289393531\n",
      "station_order_num 899\n",
      "station_id: 9337944428648647820\n",
      "station_order_num 233\n",
      "station_id: 8526317433170656495\n",
      "station_order_num 1\n",
      "station_id: 6110099534095477522\n",
      "station_order_num 8\n",
      "station_id: 7396533032286905454\n",
      "station_order_num 47\n",
      "station_id: 5487029316138408804\n",
      "station_order_num 113\n",
      "station_id: 3048016033518155673\n",
      "station_order_num 3\n",
      "station_id: 3779418235498696860\n",
      "station_order_num 223\n",
      "station_id: 4051779343769192811\n",
      "station_order_num 393\n",
      "station_id: 6823704807558873308\n",
      "station_order_num 90\n",
      "station_id: 1083013262709344735\n",
      "station_order_num 21\n",
      "station_id: 8865594360731828430\n",
      "station_order_num 164\n",
      "station_id: 9348266379811717545\n",
      "station_order_num 32\n",
      "station_id: 5424807060794075323\n",
      "station_order_num 5\n",
      "station_id: 5565644432349316932\n",
      "station_order_num 13\n",
      "station_id: 6211314963999908143\n",
      "station_order_num 18\n",
      "station_id: 2842384070488283621\n",
      "station_order_num 31\n",
      "station_id: 4074153593317540191\n",
      "station_order_num 44\n",
      "station_id: 7621356526337329670\n",
      "station_order_num 18\n",
      "station_id: 3305383417013741903\n",
      "station_order_num 2\n",
      "station_id: 7575242825921025057\n",
      "station_order_num 195\n",
      "station_id: 580685293944617743\n",
      "station_order_num 10\n",
      "station_id: 4120883742482531045\n",
      "station_order_num 99\n",
      "station_id: 9341987960347883674\n",
      "station_order_num 85\n",
      "station_id: 916865802845921232\n",
      "station_order_num 42\n",
      "station_id: 2438083169107175900\n",
      "station_order_num 16\n",
      "station_id: 8665974593818460857\n",
      "station_order_num 200\n"
     ]
    },
    {
     "name": "stdout",
     "output_type": "stream",
     "text": [
      "文件名 ownerid344_201903.xls\n",
      "订单数量： 10682\n",
      "station_id数量： 48\n",
      "station_id: 3235015432136823835\n",
      "station_order_num 38\n",
      "station_id: 4056442268676691096\n",
      "station_order_num 307\n",
      "station_id: 3310085196125768460\n",
      "station_order_num 538\n",
      "station_id: 9926297357062334444\n",
      "station_order_num 1\n",
      "station_id: 6081562360858849611\n",
      "station_order_num 562\n",
      "station_id: 5558022172611222346\n",
      "station_order_num 1112\n",
      "station_id: 3172405730699773629\n",
      "station_order_num 376\n",
      "station_id: 1240456049796529230\n",
      "station_order_num 727\n",
      "station_id: 4256451114722390906\n",
      "station_order_num 171\n",
      "station_id: 7930142327295591190\n",
      "station_order_num 254\n",
      "station_id: 1730853711591315008\n",
      "station_order_num 57\n",
      "station_id: 1415726862723687139\n",
      "station_order_num 1466\n",
      "station_id: 3980052097571257559\n",
      "station_order_num 570\n",
      "station_id: 2131318580351476062\n",
      "station_order_num 65\n",
      "station_id: 2796402219326059713\n",
      "station_order_num 41\n",
      "station_id: 4051779343769192811\n",
      "station_order_num 519\n",
      "station_id: 9530502070831134557\n",
      "station_order_num 10\n",
      "station_id: 1580250241520297763\n",
      "station_order_num 24\n",
      "station_id: 9341987960347883674\n",
      "station_order_num 36\n",
      "station_id: 9337944428648647820\n",
      "station_order_num 524\n",
      "station_id: 5487029316138408804\n",
      "station_order_num 118\n",
      "station_id: 2275170803853612275\n",
      "station_order_num 88\n",
      "station_id: 1926878371228707566\n",
      "station_order_num 96\n",
      "station_id: 6110099534095477522\n",
      "station_order_num 25\n",
      "station_id: 6823704807558873308\n",
      "station_order_num 146\n",
      "station_id: 6211314963999908143\n",
      "station_order_num 44\n",
      "station_id: 8526317433170656495\n",
      "station_order_num 13\n",
      "station_id: 3779418235498696860\n",
      "station_order_num 268\n",
      "station_id: 4074153593317540191\n",
      "station_order_num 88\n",
      "station_id: 8865594360731828430\n",
      "station_order_num 170\n",
      "station_id: 1083013262709344735\n",
      "station_order_num 45\n",
      "station_id: 4120883742482531045\n",
      "station_order_num 126\n",
      "station_id: 1462426125289393531\n",
      "station_order_num 1129\n",
      "station_id: 9348266379811717545\n",
      "station_order_num 36\n",
      "station_id: 580685293944617743\n",
      "station_order_num 11\n",
      "station_id: 2842384070488283621\n",
      "station_order_num 137\n",
      "station_id: 1514597384815440301\n",
      "station_order_num 15\n",
      "station_id: 1234852850672194412\n",
      "station_order_num 51\n",
      "station_id: 7621356526337329670\n",
      "station_order_num 21\n",
      "station_id: 7396533032286905454\n",
      "station_order_num 23\n",
      "station_id: 3305383417013741903\n",
      "station_order_num 5\n",
      "station_id: 5565644432349316932\n",
      "station_order_num 25\n",
      "station_id: 7575242825921025057\n",
      "station_order_num 213\n",
      "station_id: 916865802845921232\n",
      "station_order_num 32\n",
      "station_id: 5424807060794075323\n",
      "station_order_num 9\n",
      "station_id: 2438083169107175900\n",
      "station_order_num 82\n",
      "station_id: 4024774099062828090\n",
      "station_order_num 1\n",
      "station_id: 8665974593818460857\n",
      "station_order_num 267\n",
      "文件名 ownerid344_201904.xls\n",
      "订单数量： 7973\n",
      "station_id数量： 46\n",
      "station_id: 3310085196125768460\n",
      "station_order_num 450\n",
      "station_id: 580685293944617743\n",
      "station_order_num 14\n",
      "station_id: 9337944428648647820\n",
      "station_order_num 324\n",
      "station_id: 6823704807558873308\n",
      "station_order_num 81\n",
      "station_id: 2275170803853612275\n",
      "station_order_num 44\n",
      "station_id: 6081562360858849611\n",
      "station_order_num 378\n",
      "station_id: 3172405730699773629\n",
      "station_order_num 351\n",
      "station_id: 5558022172611222346\n",
      "station_order_num 763\n",
      "station_id: 1240456049796529230\n",
      "station_order_num 553\n",
      "station_id: 4256451114722390906\n",
      "station_order_num 133\n",
      "station_id: 7930142327295591190\n",
      "station_order_num 346\n",
      "station_id: 1415726862723687139\n",
      "station_order_num 1143\n",
      "station_id: 3235015432136823835\n",
      "station_order_num 20\n",
      "station_id: 3980052097571257559\n",
      "station_order_num 775\n",
      "station_id: 2131318580351476062\n",
      "station_order_num 45\n",
      "station_id: 2796402219326059713\n",
      "station_order_num 17\n",
      "station_id: 3753480781091229028\n",
      "station_order_num 5\n",
      "station_id: 4056442268676691096\n",
      "station_order_num 125\n",
      "station_id: 1580250241520297763\n",
      "station_order_num 31\n",
      "station_id: 8865594360731828430\n",
      "station_order_num 101\n",
      "station_id: 6110099534095477522\n",
      "station_order_num 41\n",
      "station_id: 4051779343769192811\n",
      "station_order_num 270\n",
      "station_id: 9348266379811717545\n",
      "station_order_num 27\n",
      "station_id: 1462426125289393531\n",
      "station_order_num 848\n",
      "station_id: 4074153593317540191\n",
      "station_order_num 29\n",
      "station_id: 1083013262709344735\n",
      "station_order_num 20\n",
      "station_id: 4120883742482531045\n",
      "station_order_num 114\n",
      "station_id: 5487029316138408804\n",
      "station_order_num 87\n",
      "station_id: 3779418235498696860\n",
      "station_order_num 128\n",
      "station_id: 1514597384815440301\n",
      "station_order_num 10\n",
      "station_id: 1234852850672194412\n",
      "station_order_num 5\n",
      "station_id: 3305383417013741903\n",
      "station_order_num 2\n",
      "station_id: 1926878371228707566\n",
      "station_order_num 55\n",
      "station_id: 6211314963999908143\n",
      "station_order_num 30\n",
      "station_id: 5565644432349316932\n",
      "station_order_num 9\n",
      "station_id: 2842384070488283621\n",
      "station_order_num 64\n",
      "station_id: 8841455721229977913\n",
      "station_order_num 3\n",
      "station_id: 1730853711591315008\n",
      "station_order_num 52\n",
      "station_id: 916865802845921232\n",
      "station_order_num 25\n",
      "station_id: 9341987960347883674\n",
      "station_order_num 33\n",
      "station_id: 7575242825921025057\n",
      "station_order_num 180\n",
      "station_id: 5424807060794075323\n",
      "station_order_num 16\n",
      "station_id: 7621356526337329670\n",
      "station_order_num 12\n",
      "station_id: 7396533032286905454\n",
      "station_order_num 5\n",
      "station_id: 2438083169107175900\n",
      "station_order_num 38\n",
      "station_id: 8665974593818460857\n",
      "station_order_num 171\n",
      "文件名 ownerid348_201901.xls\n",
      "订单数量： 6625\n",
      "station_id数量： 3\n",
      "station_id: 6536906877249684486\n",
      "station_order_num 5398\n",
      "station_id: 6821001255323104375\n",
      "station_order_num 1159\n",
      "station_id: 1134209819042827168\n",
      "station_order_num 68\n",
      "文件名 ownerid348_201902.xls\n",
      "订单数量： 5431\n",
      "station_id数量： 3\n",
      "station_id: 6821001255323104375\n",
      "station_order_num 2029\n",
      "station_id: 6536906877249684486\n",
      "station_order_num 3325\n",
      "station_id: 1134209819042827168\n",
      "station_order_num 77\n",
      "文件名 ownerid348_201903.xls\n",
      "订单数量： 6208\n",
      "station_id数量： 3\n",
      "station_id: 6821001255323104375\n",
      "station_order_num 2606\n",
      "station_id: 6536906877249684486\n",
      "station_order_num 3584\n",
      "station_id: 1134209819042827168\n",
      "station_order_num 18\n",
      "文件名 ownerid348_201904.xls\n",
      "订单数量： 4431\n",
      "station_id数量： 2\n",
      "station_id: 6821001255323104375\n",
      "station_order_num 1662\n",
      "station_id: 6536906877249684486\n",
      "station_order_num 2769\n",
      "文件名 ownerid351_201901.xls\n",
      "订单数量： 1574\n",
      "station_id数量： 1\n",
      "station_id: 7682898868007360812\n",
      "station_order_num 1574\n",
      "文件名 ownerid351_201902.xls\n",
      "订单数量： 1268\n",
      "station_id数量： 1\n",
      "station_id: 7682898868007360812\n",
      "station_order_num 1268\n",
      "文件名 ownerid351_201903.xls\n",
      "订单数量： 1705\n",
      "station_id数量： 1\n",
      "station_id: 7682898868007360812\n",
      "station_order_num 1705\n",
      "文件名 ownerid351_201904.xls\n",
      "订单数量： 1292\n",
      "station_id数量： 1\n",
      "station_id: 7682898868007360812\n",
      "station_order_num 1292\n",
      "文件名 ownerid353-201902.xls\n",
      "订单数量： 952\n",
      "station_id数量： 3\n",
      "station_id: 5841111759881146957\n",
      "station_order_num 512\n",
      "station_id: 5110594524779790294\n",
      "station_order_num 17\n",
      "station_id: 5740629669130838660\n",
      "station_order_num 423\n",
      "文件名 ownerid353_201901.xls\n",
      "订单数量： 1798\n",
      "station_id数量： 3\n",
      "station_id: 5740629669130838660\n",
      "station_order_num 663\n",
      "station_id: 5841111759881146957\n",
      "station_order_num 686\n",
      "station_id: 5110594524779790294\n",
      "station_order_num 449\n",
      "文件名 ownerid353_201903.xls\n",
      "订单数量： 1693\n",
      "station_id数量： 3\n",
      "station_id: 5740629669130838660\n",
      "station_order_num 500\n",
      "station_id: 5841111759881146957\n",
      "station_order_num 937\n",
      "station_id: 5110594524779790294\n",
      "station_order_num 256\n",
      "文件名 ownerid353_201904.xls\n",
      "订单数量： 1166\n",
      "station_id数量： 3\n",
      "station_id: 5110594524779790294\n",
      "station_order_num 367\n",
      "station_id: 5841111759881146957\n",
      "station_order_num 464\n",
      "station_id: 5740629669130838660\n",
      "station_order_num 335\n",
      "文件名 ownerid574-201904.xls\n",
      "订单数量： 2146\n",
      "station_id数量： 2\n",
      "station_id: 7110683086335879291\n",
      "station_order_num 1699\n",
      "station_id: 5854145841195308056\n",
      "station_order_num 447\n",
      "文件名 ownerid574_201901.xls\n",
      "订单数量： 2975\n",
      "station_id数量： 2\n",
      "station_id: 5854145841195308056\n",
      "station_order_num 642\n",
      "station_id: 7110683086335879291\n",
      "station_order_num 2333\n",
      "文件名 ownerid574_201902.xls\n",
      "订单数量： 2525\n",
      "station_id数量： 2\n",
      "station_id: 5854145841195308056\n",
      "station_order_num 532\n",
      "station_id: 7110683086335879291\n",
      "station_order_num 1993\n",
      "文件名 ownerid574_201903.xls\n",
      "订单数量： 2936\n",
      "station_id数量： 2\n",
      "station_id: 7110683086335879291\n",
      "station_order_num 2330\n",
      "station_id: 5854145841195308056\n",
      "station_order_num 606\n",
      "文件名 ownerid5790_201901.xls\n",
      "订单数量： 344\n",
      "station_id数量： 1\n",
      "station_id: 7135617706601976474\n",
      "station_order_num 344\n",
      "文件名 ownerid5790_201902.xls\n",
      "订单数量： 244\n",
      "station_id数量： 1\n",
      "station_id: 7135617706601976474\n",
      "station_order_num 244\n",
      "文件名 ownerid5790_201903.xls\n",
      "订单数量： 4255\n",
      "station_id数量： 1\n",
      "station_id: 7135617706601976474\n",
      "station_order_num 4255\n",
      "文件名 ownerid5790_201904.xls\n",
      "订单数量： 1704\n",
      "station_id数量： 1\n",
      "station_id: 7135617706601976474\n",
      "station_order_num 1704\n"
     ]
    },
    {
     "name": "stdout",
     "output_type": "stream",
     "text": [
      "文件名 ownerid9108_201901.xls\n",
      "订单数量： 10401\n",
      "station_id数量： 5\n",
      "station_id: 6413716962386352636\n",
      "station_order_num 8272\n",
      "station_id: 3891890486485025595\n",
      "station_order_num 348\n",
      "station_id: 6349784463413039465\n",
      "station_order_num 816\n",
      "station_id: 7754854145841195308\n",
      "station_order_num 38\n",
      "station_id: 4615784263195227216\n",
      "station_order_num 927\n",
      "文件名 ownerid9108_201902.xls\n",
      "订单数量： 9325\n",
      "station_id数量： 5\n",
      "station_id: 6413716962386352636\n",
      "station_order_num 7088\n",
      "station_id: 3891890486485025595\n",
      "station_order_num 312\n",
      "station_id: 7754854145841195308\n",
      "station_order_num 154\n",
      "station_id: 6349784463413039465\n",
      "station_order_num 790\n",
      "station_id: 4615784263195227216\n",
      "station_order_num 981\n",
      "文件名 ownerid9108_201904.xls\n",
      "订单数量： 8122\n",
      "station_id数量： 5\n",
      "station_id: 6413716962386352636\n",
      "station_order_num 6303\n",
      "station_id: 3891890486485025595\n",
      "station_order_num 340\n",
      "station_id: 7754854145841195308\n",
      "station_order_num 113\n",
      "station_id: 6349784463413039465\n",
      "station_order_num 729\n",
      "station_id: 4615784263195227216\n",
      "station_order_num 637\n",
      "文件名 ownerid9108_21903.xls\n",
      "订单数量： 10380\n",
      "station_id数量： 5\n",
      "station_id: 6413716962386352636\n",
      "station_order_num 7746\n",
      "station_id: 3891890486485025595\n",
      "station_order_num 517\n",
      "station_id: 7754854145841195308\n",
      "station_order_num 220\n",
      "station_id: 6349784463413039465\n",
      "station_order_num 929\n",
      "station_id: 4615784263195227216\n",
      "station_order_num 968\n"
     ]
    }
   ],
   "source": [
    "import os\n",
    "file_list = os.listdir('D:/order/')\n",
    "for i in range(len(file_list)):\n",
    "    df = pd.read_excel('D:/order/'+file_list[i],encoding='utf-8')\n",
    "    std = df['station_id'].drop_duplicates()\n",
    "    std = pd.DataFrame(std)\n",
    "    std = std.reset_index()\n",
    "    std = std.drop('index',axis=1)\n",
    "    print('文件名',file_list[i])\n",
    "    print('订单数量：',df['pile_id'].count())\n",
    "    print('station_id数量：',std['station_id'].count())\n",
    "    for n in range(len(std['station_id'])):\n",
    "                   print('station_id:',int(std.loc[n]))\n",
    "                   print('station_order_num',df[df['station_id']==int(std.loc[n])]['station_id'].count()) #station_id对应订单数"
   ]
  },
  {
   "cell_type": "code",
   "execution_count": 3,
   "metadata": {},
   "outputs": [
    {
     "name": "stdout",
     "output_type": "stream",
     "text": [
      "3795028514422817409\n",
      "owner_id            4750\n",
      "station_id          4750\n",
      "pile_id             4750\n",
      "charge_energy       4750\n",
      "charge_total_fee    4750\n",
      "create_time         4750\n",
      "update_time         4747\n",
      "dtype: int64\n"
     ]
    }
   ],
   "source": [
    "df2460 = pd.read_excel('D:/order/ownerid2460_201901.xls',encoding='utf-8')\n",
    "std2460 = df2460['station_id'].drop_duplicates()\n",
    "print(std2460)\n",
    "print(df2460.count())"
   ]
  },
  {
   "cell_type": "code",
   "execution_count": 345,
   "metadata": {},
   "outputs": [
    {
     "data": {
      "text/plain": [
       "4581"
      ]
     },
     "execution_count": 345,
     "metadata": {},
     "output_type": "execute_result"
    }
   ],
   "source": [
    "stid2460 = df2460[df2460['station_id']==3795028514422817409]\n",
    "stid2460 = stid2460[stid2460['charge_total_fee']>1]\n",
    "stid2460['pile_id'].count()"
   ]
  },
  {
   "cell_type": "code",
   "execution_count": 348,
   "metadata": {},
   "outputs": [],
   "source": [
    "stid2460['update_time_h'] = pd.to_datetime(stid2460['update_time'])\n",
    "stid2460['update_time_h'] = stid2460['update_time_h'].dt.time\n",
    "stid2460['create_time_h'] = pd.to_datetime(stid2460['create_time'])\n",
    "stid2460['create_time_h'] = stid2460['create_time_h'].dt.time\n",
    "stid2460['time_use']  = (pd.to_datetime(stid2460['update_time_h'], format='%H:%M:%S')-pd.to_datetime(stid2460['create_time_h'], format='%H:%M:%S')).dt.total_seconds()/60\n",
    "stid2460.to_csv('D:/stid2460.csv',encoding='utf-8')"
   ]
  },
  {
   "cell_type": "code",
   "execution_count": 349,
   "metadata": {},
   "outputs": [],
   "source": [
    "stid2636['update_time_h'] = pd.to_datetime(stid2636['update_time'])\n",
    "stid2636['update_time_h'] = stid2636['update_time_h'].dt.time\n",
    "stid2636['create_time_h'] = pd.to_datetime(stid2636['create_time'])\n",
    "stid2636['create_time_h'] = stid2636['create_time_h'].dt.time\n",
    "stid2636['time_use']  = (pd.to_datetime(stid2636['update_time_h'], format='%H:%M:%S')-pd.to_datetime(stid2636['create_time_h'], format='%H:%M:%S')).dt.total_seconds()/60\n",
    "stid2636.to_csv('D:/stid2636.csv',encoding='utf-8')"
   ]
  },
  {
   "cell_type": "code",
   "execution_count": 24,
   "metadata": {},
   "outputs": [
    {
     "name": "stdout",
     "output_type": "stream",
     "text": [
      "            station_id\n",
      "0  9607411478166586232\n",
      "1  9295110594524779790\n",
      "2  2728106030463940581\n",
      "3  3627600775366493743\n",
      "3627600775366493743\n",
      "665\n"
     ]
    }
   ],
   "source": [
    "df343 = pd.read_excel('D:/order/ownerid343_201903.xls',encoding='utf-8')\n",
    "std343 = df343['station_id'].drop_duplicates()\n",
    "\n",
    "std343 = pd.DataFrame(std343)\n",
    "std343 = std343.reset_index()\n",
    "std343 = std343.drop('index',axis=1)\n",
    "print(std343)\n",
    "print(int(std343.loc[3]))\n",
    "print(df343[df343['station_id']==int(std343.loc[3])]['station_id'].count()) #station_id对应订单数"
   ]
  },
  {
   "cell_type": "code",
   "execution_count": 353,
   "metadata": {},
   "outputs": [
    {
     "name": "stdout",
     "output_type": "stream",
     "text": [
      "owner_id            840\n",
      "station_id          840\n",
      "pile_id             840\n",
      "charge_energy       840\n",
      "charge_total_fee    840\n",
      "create_time         840\n",
      "update_time         840\n",
      "dtype: int64\n",
      "owner_id            522\n",
      "station_id          522\n",
      "pile_id             522\n",
      "charge_energy       522\n",
      "charge_total_fee    522\n",
      "create_time         522\n",
      "update_time         522\n",
      "dtype: int64\n",
      "owner_id            13770\n",
      "station_id          13770\n",
      "pile_id             13770\n",
      "charge_energy       13770\n",
      "charge_total_fee    13770\n",
      "create_time         13770\n",
      "update_time         13769\n",
      "dtype: int64\n",
      "owner_id            665\n",
      "station_id          665\n",
      "pile_id             665\n",
      "charge_energy       665\n",
      "charge_total_fee    665\n",
      "create_time         665\n",
      "update_time         665\n",
      "dtype: int64\n"
     ]
    }
   ],
   "source": [
    "print(df343[df343['station_id']==9607411478166586232].count())\n",
    "print(df343[df343['station_id']==9295110594524779790].count())\n",
    "print(df343[df343['station_id']==2728106030463940581].count())\n",
    "print(df343[df343['station_id']==3627600775366493743].count())"
   ]
  },
  {
   "cell_type": "code",
   "execution_count": 354,
   "metadata": {},
   "outputs": [
    {
     "data": {
      "text/plain": [
       "13293"
      ]
     },
     "execution_count": 354,
     "metadata": {},
     "output_type": "execute_result"
    }
   ],
   "source": []
  },
  {
   "cell_type": "code",
   "execution_count": 355,
   "metadata": {},
   "outputs": [],
   "source": [
    "df343 = pd.read_excel('D:/order/ownerid343_201903.xls',encoding='utf-8')\n",
    "stid343 = df343[df343['station_id']==2728106030463940581]\n",
    "stid343 = stid343[stid343['charge_total_fee']>1]\n",
    "print(stid343['pile_id'].count())\n",
    "\n",
    "stid343['update_time_h'] = pd.to_datetime(stid343['update_time'])\n",
    "stid343['update_time_h'] = stid343['update_time_h'].dt.time\n",
    "stid343['create_time_h'] = pd.to_datetime(stid343['create_time'])\n",
    "stid343['create_time_h'] = stid343['create_time_h'].dt.time\n",
    "stid343['time_use']  = (pd.to_datetime(stid343['update_time_h'], format='%H:%M:%S')-pd.to_datetime(stid343['create_time_h'], format='%H:%M:%S')).dt.total_seconds()/60\n",
    "stid343.to_csv('D:/stid343.csv',encoding='utf-8')"
   ]
  },
  {
   "cell_type": "code",
   "execution_count": 36,
   "metadata": {},
   "outputs": [
    {
     "name": "stdout",
     "output_type": "stream",
     "text": [
      "订单数量： 15762\n",
      "station_id数量： 4\n",
      "station_id: 9295110594524779790\n",
      "station_order_num 774\n",
      "station_id: 9607411478166586232\n",
      "station_order_num 922\n",
      "station_id: 2728106030463940581\n",
      "station_order_num 13572\n",
      "station_id: 3627600775366493743\n",
      "station_order_num 494\n"
     ]
    }
   ],
   "source": [
    "\n",
    "df343 = pd.read_excel('D:/ownerid343_201901.xls',encoding='utf-8')\n",
    "std343 = df343['station_id'].drop_duplicates()\n",
    "std343 = pd.DataFrame(std343)\n",
    "std343 = std343.reset_index()\n",
    "std343 = std343.drop('index',axis=1)\n",
    "print('订单数量：',df343['pile_id'].count())\n",
    "print('station_id数量：',std343['station_id'].count())\n",
    "for n in range(len(std343['station_id'])):\n",
    "               print('station_id:',int(std343.loc[n]))\n",
    "               print('station_order_num',df343[df343['station_id']==int(std343.loc[n])]['station_id'].count()) #station_id对应订单数"
   ]
  },
  {
   "cell_type": "code",
   "execution_count": 39,
   "metadata": {},
   "outputs": [
    {
     "name": "stdout",
     "output_type": "stream",
     "text": [
      "3352\n"
     ]
    }
   ],
   "source": [
    "\n",
    "\n",
    "df5790 = pd.read_excel('D:/order/ownerid5790_201903.xls',encoding='utf-8')\n",
    "stid6474 = df5790[df5790['station_id']==7135617706601976474]\n",
    "stid6474 = stid6474[stid6474['charge_total_fee']>1]\n",
    "print(stid6474['pile_id'].count())\n",
    "\n",
    "stid6474['update_time_h'] = pd.to_datetime(stid6474['update_time'])\n",
    "stid6474['update_time_h'] = stid6474['update_time_h'].dt.time\n",
    "stid6474['create_time_h'] = pd.to_datetime(stid6474['create_time'])\n",
    "stid6474['create_time_h'] = stid6474['create_time_h'].dt.time\n",
    "stid6474['time_use']  = (pd.to_datetime(stid6474['update_time_h'], format='%H:%M:%S')-pd.to_datetime(stid6474['create_time_h'], format='%H:%M:%S')).dt.total_seconds()/60\n",
    "stid6474.to_csv('D:/stid6474.csv',encoding='utf-8')\n"
   ]
  },
  {
   "cell_type": "code",
   "execution_count": null,
   "metadata": {},
   "outputs": [],
   "source": []
  }
 ],
 "metadata": {
  "kernelspec": {
   "display_name": "Python 3",
   "language": "python",
   "name": "python3"
  },
  "language_info": {
   "codemirror_mode": {
    "name": "ipython",
    "version": 3
   },
   "file_extension": ".py",
   "mimetype": "text/x-python",
   "name": "python",
   "nbconvert_exporter": "python",
   "pygments_lexer": "ipython3",
   "version": "3.6.8"
  }
 },
 "nbformat": 4,
 "nbformat_minor": 2
}
