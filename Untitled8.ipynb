{
 "cells": [
  {
   "cell_type": "code",
   "execution_count": 1,
   "metadata": {},
   "outputs": [],
   "source": [
    "import pandas as pd\n",
    "import numpy as np"
   ]
  },
  {
   "cell_type": "code",
   "execution_count": 13,
   "metadata": {},
   "outputs": [
    {
     "data": {
      "text/html": [
       "<div>\n",
       "<style scoped>\n",
       "    .dataframe tbody tr th:only-of-type {\n",
       "        vertical-align: middle;\n",
       "    }\n",
       "\n",
       "    .dataframe tbody tr th {\n",
       "        vertical-align: top;\n",
       "    }\n",
       "\n",
       "    .dataframe thead th {\n",
       "        text-align: right;\n",
       "    }\n",
       "</style>\n",
       "<table border=\"1\" class=\"dataframe\">\n",
       "  <thead>\n",
       "    <tr style=\"text-align: right;\">\n",
       "      <th></th>\n",
       "      <th>movie_title</th>\n",
       "      <th>num_voted_users</th>\n",
       "      <th>imdb_score</th>\n",
       "    </tr>\n",
       "  </thead>\n",
       "  <tbody>\n",
       "    <tr>\n",
       "      <th>0</th>\n",
       "      <td>Avatar</td>\n",
       "      <td>886204</td>\n",
       "      <td>7.9</td>\n",
       "    </tr>\n",
       "    <tr>\n",
       "      <th>1</th>\n",
       "      <td>Pirates of the Caribbean: At World's End</td>\n",
       "      <td>471220</td>\n",
       "      <td>7.1</td>\n",
       "    </tr>\n",
       "    <tr>\n",
       "      <th>2</th>\n",
       "      <td>Spectre</td>\n",
       "      <td>275868</td>\n",
       "      <td>6.8</td>\n",
       "    </tr>\n",
       "  </tbody>\n",
       "</table>\n",
       "</div>"
      ],
      "text/plain": [
       "                                 movie_title  num_voted_users  imdb_score\n",
       "0                                    Avatar            886204         7.9\n",
       "1  Pirates of the Caribbean: At World's End            471220         7.1\n",
       "2                                   Spectre            275868         6.8"
      ]
     },
     "execution_count": 13,
     "metadata": {},
     "output_type": "execute_result"
    }
   ],
   "source": [
    "movies = pd.io.parsers.read_csv('D:/Project/data/movie_metadata.csv',encoding='utf-8')\n",
    "movies1 = movies.loc[:,['movie_title','num_voted_users','imdb_score']]\n",
    "movies1.head(3)"
   ]
  },
  {
   "cell_type": "code",
   "execution_count": 22,
   "metadata": {},
   "outputs": [
    {
     "name": "stdout",
     "output_type": "stream",
     "text": [
      "6.442137616498111\n",
      "216562.0\n"
     ]
    },
    {
     "data": {
      "text/html": [
       "<div>\n",
       "<style scoped>\n",
       "    .dataframe tbody tr th:only-of-type {\n",
       "        vertical-align: middle;\n",
       "    }\n",
       "\n",
       "    .dataframe tbody tr th {\n",
       "        vertical-align: top;\n",
       "    }\n",
       "\n",
       "    .dataframe thead th {\n",
       "        text-align: right;\n",
       "    }\n",
       "</style>\n",
       "<table border=\"1\" class=\"dataframe\">\n",
       "  <thead>\n",
       "    <tr style=\"text-align: right;\">\n",
       "      <th></th>\n",
       "      <th>movie_title</th>\n",
       "      <th>num_voted_users</th>\n",
       "      <th>imdb_score</th>\n",
       "      <th>score</th>\n",
       "    </tr>\n",
       "  </thead>\n",
       "  <tbody>\n",
       "    <tr>\n",
       "      <th>1937</th>\n",
       "      <td>The Shawshank Redemption</td>\n",
       "      <td>1689764</td>\n",
       "      <td>9.3</td>\n",
       "      <td>8.975342</td>\n",
       "    </tr>\n",
       "    <tr>\n",
       "      <th>3466</th>\n",
       "      <td>The Godfather</td>\n",
       "      <td>1155770</td>\n",
       "      <td>9.2</td>\n",
       "      <td>8.764793</td>\n",
       "    </tr>\n",
       "    <tr>\n",
       "      <th>66</th>\n",
       "      <td>The Dark Knight</td>\n",
       "      <td>1676169</td>\n",
       "      <td>9.0</td>\n",
       "      <td>8.707335</td>\n",
       "    </tr>\n",
       "    <tr>\n",
       "      <th>3355</th>\n",
       "      <td>Pulp Fiction</td>\n",
       "      <td>1324680</td>\n",
       "      <td>8.9</td>\n",
       "      <td>8.554642</td>\n",
       "    </tr>\n",
       "    <tr>\n",
       "      <th>339</th>\n",
       "      <td>The Lord of the Rings: The Return of the King</td>\n",
       "      <td>1215718</td>\n",
       "      <td>8.9</td>\n",
       "      <td>8.528369</td>\n",
       "    </tr>\n",
       "  </tbody>\n",
       "</table>\n",
       "</div>"
      ],
      "text/plain": [
       "                                         movie_title  num_voted_users  \\\n",
       "1937                       The Shawshank Redemption           1689764   \n",
       "3466                                  The Godfather           1155770   \n",
       "66                                  The Dark Knight           1676169   \n",
       "3355                                   Pulp Fiction           1324680   \n",
       "339   The Lord of the Rings: The Return of the King           1215718   \n",
       "\n",
       "      imdb_score     score  \n",
       "1937         9.3  8.975342  \n",
       "3466         9.2  8.764793  \n",
       "66           9.0  8.707335  \n",
       "3355         8.9  8.554642  \n",
       "339          8.9  8.528369  "
      ]
     },
     "execution_count": 22,
     "metadata": {},
     "output_type": "execute_result"
    }
   ],
   "source": [
    "C = movies1['imdb_score'].mean()\n",
    "print(C)\n",
    "m = movies1['num_voted_users'].quantile(0.9)\n",
    "print(m)\n",
    "q_movies1=movies1.copy().loc[movies1['num_voted_users']>m]\n",
    "def weighted_rating(x,m=m,C=C):\n",
    "    v=x['num_voted_users']\n",
    "    R=x['imdb_score']\n",
    "    return (v/(v+m)*R)+(m/(m+v)*C)\n",
    "q_movies1['score']=q_movies1.apply(weighted_rating,axis=1)\n",
    "q_movies1=q_movies1.sort_values('score',ascending=False)\n",
    "q_movies1.head()"
   ]
  },
  {
   "cell_type": "code",
   "execution_count": 44,
   "metadata": {},
   "outputs": [
    {
     "data": {
      "text/plain": [
       "0    Action|Adventure|Fantasy|Sci-Fi\n",
       "1           Action|Adventure|Fantasy\n",
       "2          Action|Adventure|Thriller\n",
       "Name: genres, dtype: object"
      ]
     },
     "execution_count": 44,
     "metadata": {},
     "output_type": "execute_result"
    }
   ],
   "source": [
    "#基于内容的推荐\n",
    "movies = pd.read_csv('D:/Project/data/movie_metadata.csv',encoding='gbk')\n",
    "movies['genres'].head(3)"
   ]
  },
  {
   "cell_type": "code",
   "execution_count": 27,
   "metadata": {},
   "outputs": [],
   "source": [
    "from sklearn.feature_extraction.text import TfidfVectorizer"
   ]
  },
  {
   "cell_type": "code",
   "execution_count": 51,
   "metadata": {},
   "outputs": [
    {
     "data": {
      "text/plain": [
       "(5043, 29)"
      ]
     },
     "execution_count": 51,
     "metadata": {},
     "output_type": "execute_result"
    }
   ],
   "source": [
    "tfidf = TfidfVectorizer(stop_words='english')\n",
    "movies['genres'] = movies['genres'].fillna('')\n",
    "tfidf_matrix = tfidf.fit_transform(movies['genres'])\n",
    "tfidf_matrix.shape"
   ]
  },
  {
   "cell_type": "code",
   "execution_count": 52,
   "metadata": {},
   "outputs": [
    {
     "data": {
      "text/plain": [
       "15                                        Man of Steel聽\n",
       "39                            The Amazing Spider-Man 2聽\n",
       "236       Star Wars: Episode III - Revenge of the Sith聽\n",
       "237       Star Wars: Episode II - Attack of the Clones聽\n",
       "240          Star Wars: Episode I - The Phantom Menace聽\n",
       "520              The League of Extraordinary Gentlemen聽\n",
       "1536        Star Wars: Episode VI - Return of the Jedi聽\n",
       "2051    Star Wars: Episode V - The Empire Strikes Back聽\n",
       "2687                               Highlander: Endgame聽\n",
       "3024                Star Wars: Episode IV - A New Hope聽\n",
       "Name: movie_title, dtype: object"
      ]
     },
     "execution_count": 52,
     "metadata": {},
     "output_type": "execute_result"
    }
   ],
   "source": [
    "from sklearn.metrics.pairwise import linear_kernel\n",
    "cosine_sim = linear_kernel(tfidf_matrix,tfidf_matrix)\n",
    "indices = pd.Series(movies.index,index=movies['movie_title']).drop_duplicates()\n",
    "\n",
    "def get_recommendation(title,cosine_sim=cosine_sim):\n",
    "    idx = indices[title]\n",
    "    sim_scores = list(enumerate(cosine_sim[idx]))\n",
    "    sim_scores = sorted(sim_scores,key=lambda x:x[1],reverse=True)\n",
    "    sim_scores = sim_scores[1:11]\n",
    "    movies_indices = [i[0] for i in sim_scores]\n",
    "    return movies['movie_title'].iloc[movies_indices]\n",
    "get_recommendation('Avatar聽')"
   ]
  },
  {
   "cell_type": "code",
   "execution_count": 62,
   "metadata": {
    "scrolled": true
   },
   "outputs": [
    {
     "name": "stdout",
     "output_type": "stream",
     "text": [
      "not found\n"
     ]
    }
   ],
   "source": [
    "import re\n",
    "if re.match(r'((^sss&!^(s{4,10}))|^s&(!^ss)|^ns)','s0s0ssom'):\n",
    "    print('find one')\n",
    "else:\n",
    "    print('not found')"
   ]
  },
  {
   "cell_type": "code",
   "execution_count": 55,
   "metadata": {},
   "outputs": [],
   "source": [
    "import lightgbm as lgb\n",
    "import pandas as pd\n",
    "from sklearn.metrics import mean_squared_error\n",
    "from sklearn.model_selection import GridSearchCV\n",
    "from sklearn.datasets import load_iris\n",
    "from sklearn.model_selection import train_test_split\n",
    "from sklearn.datasets import make_classification"
   ]
  },
  {
   "cell_type": "code",
   "execution_count": 42,
   "metadata": {},
   "outputs": [
    {
     "name": "stdout",
     "output_type": "stream",
     "text": [
      "[1]\tvalid_0's l1: 0.600365\tvalid_0's l2: 0.560122\n",
      "Training until validation scores don't improve for 5 rounds.\n",
      "[2]\tvalid_0's l1: 0.5796\tvalid_0's l2: 0.512903\n",
      "[3]\tvalid_0's l1: 0.559874\tvalid_0's l2: 0.470636\n",
      "[4]\tvalid_0's l1: 0.541133\tvalid_0's l2: 0.432821\n",
      "[5]\tvalid_0's l1: 0.522199\tvalid_0's l2: 0.398722\n",
      "[6]\tvalid_0's l1: 0.502436\tvalid_0's l2: 0.364877\n",
      "[7]\tvalid_0's l1: 0.483662\tvalid_0's l2: 0.33454\n",
      "[8]\tvalid_0's l1: 0.465826\tvalid_0's l2: 0.30736\n",
      "[9]\tvalid_0's l1: 0.45027\tvalid_0's l2: 0.285444\n",
      "[10]\tvalid_0's l1: 0.434128\tvalid_0's l2: 0.263513\n",
      "[11]\tvalid_0's l1: 0.420046\tvalid_0's l2: 0.246042\n",
      "[12]\tvalid_0's l1: 0.405437\tvalid_0's l2: 0.228372\n",
      "[13]\tvalid_0's l1: 0.391844\tvalid_0's l2: 0.213332\n",
      "[14]\tvalid_0's l1: 0.379728\tvalid_0's l2: 0.200991\n",
      "[15]\tvalid_0's l1: 0.366352\tvalid_0's l2: 0.187176\n",
      "[16]\tvalid_0's l1: 0.355379\tvalid_0's l2: 0.177426\n",
      "[17]\tvalid_0's l1: 0.343272\tvalid_0's l2: 0.166275\n",
      "[18]\tvalid_0's l1: 0.333334\tvalid_0's l2: 0.158613\n",
      "[19]\tvalid_0's l1: 0.322375\tvalid_0's l2: 0.149628\n",
      "[20]\tvalid_0's l1: 0.313374\tvalid_0's l2: 0.143646\n",
      "Did not meet early stopping. Best iteration is:\n",
      "[20]\tvalid_0's l1: 0.313374\tvalid_0's l2: 0.143646\n",
      "the rmse of prediction is 0.3790071350684046\n",
      "feature importances [0, 0, 24, 16]\n",
      "best parameters found by grid search are: {'learning_rate': 0.1, 'n_estimators': 40}\n"
     ]
    },
    {
     "name": "stderr",
     "output_type": "stream",
     "text": [
      "D:\\software\\Anaconda-InstallFiles\\lib\\site-packages\\sklearn\\model_selection\\_split.py:2053: FutureWarning: You should specify a value for 'cv' instead of relying on the default value. The default value will change from 3 to 5 in version 0.22.\n",
      "  warnings.warn(CV_WARNING, FutureWarning)\n"
     ]
    }
   ],
   "source": [
    "iris = load_iris()\n",
    "data = iris.data\n",
    "target = iris.target\n",
    "X_train,X_test,y_train,y_test = train_test_split(data,target,test_size=0.3)\n",
    "#创建模型，训练模型\n",
    "gbm = lgb.LGBMRegressor(objective='regression',num_leaves=31,learning_rate=0.05,n_estimators=20)\n",
    "gbm.fit(X_train,y_train,eval_set=[(X_test,y_test)],eval_metric='l1',early_stopping_rounds=5)\n",
    "#测试预测机制\n",
    "y_pred = gbm.predict(X_test,num_iteration=gbm.best_iteration_)\n",
    "#模型评估\n",
    "print('the rmse of prediction is',mean_squared_error(y_test,y_pred)**0.5)\n",
    "#特征重要性\n",
    "print('feature importances',list(gbm.feature_importances_))\n",
    "#网格搜索，参数优化\n",
    "estimator = lgb.LGBMRegressor(num_leaves=31)\n",
    "param_grid = {'learning_rate':[0.01,0.1,1],\n",
    "             'n_estimators':[20,40]}\n",
    "\n",
    "gbm = GridSearchCV(estimator,param_grid)\n",
    "gbm.fit(X_train,y_train)\n",
    "print('best parameters found by grid search are:',gbm.best_params_)\n"
   ]
  },
  {
   "cell_type": "code",
   "execution_count": 63,
   "metadata": {},
   "outputs": [],
   "source": [
    "import pandas as pd\n",
    "import numpy as np\n",
    "import matplotlib.pyplot as plt\n",
    "import datetime\n"
   ]
  },
  {
   "cell_type": "code",
   "execution_count": 90,
   "metadata": {},
   "outputs": [],
   "source": [
    "energy = pd.read_csv('D:/chargeorder/1819_energy.txt',encoding='utf-8', index_col='date',parse_dates=['date'])"
   ]
  },
  {
   "cell_type": "code",
   "execution_count": 105,
   "metadata": {},
   "outputs": [
    {
     "name": "stdout",
     "output_type": "stream",
     "text": [
      "<class 'pandas.core.frame.DataFrame'>\n",
      "DatetimeIndex: 504 entries, 2018-01-01 to 2019-05-21\n",
      "Data columns (total 1 columns):\n",
      "charge_energy    504 non-null int64\n",
      "dtypes: int64(1)\n",
      "memory usage: 7.9 KB\n"
     ]
    }
   ],
   "source": [
    "energy.info()"
   ]
  },
  {
   "cell_type": "code",
   "execution_count": 92,
   "metadata": {},
   "outputs": [
    {
     "data": {
      "text/plain": [
       "<matplotlib.axes._subplots.AxesSubplot at 0x208e75533c8>"
      ]
     },
     "execution_count": 92,
     "metadata": {},
     "output_type": "execute_result"
    },
    {
     "data": {
      "image/png": "[encoded data removed]",
      "text/plain": [
       "<Figure size 432x288 with 1 Axes>"
      ]
     },
     "metadata": {
      "needs_background": "light"
     },
     "output_type": "display_data"
    }
   ],
   "source": [
    "energy['charge_energy'].plot()"
   ]
  },
  {
   "cell_type": "code",
   "execution_count": 111,
   "metadata": {},
   "outputs": [],
   "source": [
    "#划分测试集和训练集\n",
    "X = energy.values\n",
    "train,test = X[0:-20],X[-20:]"
   ]
  },
  {
   "cell_type": "code",
   "execution_count": 101,
   "metadata": {},
   "outputs": [
    {
     "name": "stdout",
     "output_type": "stream",
     "text": [
      "rmse:13346.203\n"
     ]
    },
    {
     "data": {
      "image/png": "[encoded data removed]",
      "text/plain": [
       "<Figure size 432x288 with 1 Axes>"
      ]
     },
     "metadata": {
      "needs_background": "light"
     },
     "output_type": "display_data"
    }
   ],
   "source": [
    "from math import sqrt\n",
    "history = [a for a in train]\n",
    "predictions = list()\n",
    "for i in range(len(test)):\n",
    "    predictions.append(history[-1])\n",
    "    history.append(test[i])\n",
    "rmse = sqrt(mean_squared_error(test,predictions))\n",
    "print('rmse:%.3f' %rmse)\n",
    "plt.plot(test);\n",
    "plt.plot(predictions);"
   ]
  },
  {
   "cell_type": "code",
   "execution_count": 98,
   "metadata": {},
   "outputs": [],
   "source": [
    "from sklearn.metrics import mean_squared_error\n",
    "from sklearn.preprocessing import MinMaxScaler\n",
    "from keras.models import Sequential\n",
    "from keras.layers import Dense,LSTM\n"
   ]
  },
  {
   "cell_type": "code",
   "execution_count": 115,
   "metadata": {},
   "outputs": [
    {
     "ename": "KeyError",
     "evalue": "\"None of [Index([  (2908,),   (8409,),  (-6585,),   (5500,),    (680,),   (3174,),\\n        (-1586,),    (508,),    (334,),    (895,),\\n       ...\\n        (-4782,),  (18924,),   (2321,),  (-6225,),  (13662,),  (-5269,),\\n       (-11483,), (-10854,),  (24632,),  (-4130,)],\\n      dtype='object', length=503)] are in the [columns]\"",
     "output_type": "error",
     "traceback": [
      "\u001b[1;31m---------------------------------------------------------------------------\u001b[0m",
      "\u001b[1;31mKeyError\u001b[0m                                  Traceback (most recent call last)",
      "\u001b[1;32m<ipython-input-115-e21afcdadab4>\u001b[0m in \u001b[0;36m<module>\u001b[1;34m\u001b[0m\n\u001b[0;32m     57\u001b[0m \u001b[1;33m\u001b[0m\u001b[0m\n\u001b[0;32m     58\u001b[0m \u001b[0mraw_values\u001b[0m \u001b[1;33m=\u001b[0m \u001b[0mseries\u001b[0m\u001b[1;33m.\u001b[0m\u001b[0mvalues\u001b[0m\u001b[1;33m\u001b[0m\u001b[1;33m\u001b[0m\u001b[0m\n\u001b[1;32m---> 59\u001b[1;33m \u001b[0mdiff_values\u001b[0m \u001b[1;33m=\u001b[0m \u001b[0mdifference\u001b[0m\u001b[1;33m(\u001b[0m\u001b[0mraw_values\u001b[0m\u001b[1;33m,\u001b[0m\u001b[1;36m1\u001b[0m\u001b[1;33m)\u001b[0m\u001b[1;33m\u001b[0m\u001b[1;33m\u001b[0m\u001b[0m\n\u001b[0m\u001b[0;32m     60\u001b[0m \u001b[1;33m\u001b[0m\u001b[0m\n\u001b[0;32m     61\u001b[0m \u001b[0msupervised\u001b[0m \u001b[1;33m=\u001b[0m \u001b[0mtimeseries_to_supervised\u001b[0m\u001b[1;33m(\u001b[0m\u001b[0mdiff_values\u001b[0m\u001b[1;33m,\u001b[0m\u001b[1;36m1\u001b[0m\u001b[1;33m)\u001b[0m\u001b[1;33m\u001b[0m\u001b[1;33m\u001b[0m\u001b[0m\n",
      "\u001b[1;32m<ipython-input-115-e21afcdadab4>\u001b[0m in \u001b[0;36mdifference\u001b[1;34m(dataset, interval)\u001b[0m\n\u001b[0;32m     13\u001b[0m         \u001b[0mvalue\u001b[0m \u001b[1;33m=\u001b[0m \u001b[0mdataset\u001b[0m\u001b[1;33m[\u001b[0m\u001b[0mi\u001b[0m\u001b[1;33m]\u001b[0m \u001b[1;33m-\u001b[0m \u001b[0mdataset\u001b[0m\u001b[1;33m[\u001b[0m\u001b[0mi\u001b[0m\u001b[1;33m-\u001b[0m\u001b[0minterval\u001b[0m\u001b[1;33m]\u001b[0m\u001b[1;33m\u001b[0m\u001b[1;33m\u001b[0m\u001b[0m\n\u001b[0;32m     14\u001b[0m         \u001b[0mdiff\u001b[0m\u001b[1;33m.\u001b[0m\u001b[0mappend\u001b[0m\u001b[1;33m(\u001b[0m\u001b[0mvalue\u001b[0m\u001b[1;33m)\u001b[0m\u001b[1;33m\u001b[0m\u001b[1;33m\u001b[0m\u001b[0m\n\u001b[1;32m---> 15\u001b[1;33m     \u001b[1;32mreturn\u001b[0m \u001b[0mseries\u001b[0m\u001b[1;33m[\u001b[0m\u001b[0mdiff\u001b[0m\u001b[1;33m]\u001b[0m\u001b[1;33m\u001b[0m\u001b[1;33m\u001b[0m\u001b[0m\n\u001b[0m\u001b[0;32m     16\u001b[0m \u001b[1;33m\u001b[0m\u001b[0m\n\u001b[0;32m     17\u001b[0m \u001b[1;31m#invert differenced value\u001b[0m\u001b[1;33m\u001b[0m\u001b[1;33m\u001b[0m\u001b[1;33m\u001b[0m\u001b[0m\n",
      "\u001b[1;32mD:\\software\\Anaconda-InstallFiles\\lib\\site-packages\\pandas\\core\\frame.py\u001b[0m in \u001b[0;36m__getitem__\u001b[1;34m(self, key)\u001b[0m\n\u001b[0;32m   2932\u001b[0m                 \u001b[0mkey\u001b[0m \u001b[1;33m=\u001b[0m \u001b[0mlist\u001b[0m\u001b[1;33m(\u001b[0m\u001b[0mkey\u001b[0m\u001b[1;33m)\u001b[0m\u001b[1;33m\u001b[0m\u001b[1;33m\u001b[0m\u001b[0m\n\u001b[0;32m   2933\u001b[0m             indexer = self.loc._convert_to_indexer(key, axis=1,\n\u001b[1;32m-> 2934\u001b[1;33m                                                    raise_missing=True)\n\u001b[0m\u001b[0;32m   2935\u001b[0m \u001b[1;33m\u001b[0m\u001b[0m\n\u001b[0;32m   2936\u001b[0m         \u001b[1;31m# take() does not accept boolean indexers\u001b[0m\u001b[1;33m\u001b[0m\u001b[1;33m\u001b[0m\u001b[1;33m\u001b[0m\u001b[0m\n",
      "\u001b[1;32mD:\\software\\Anaconda-InstallFiles\\lib\\site-packages\\pandas\\core\\indexing.py\u001b[0m in \u001b[0;36m_convert_to_indexer\u001b[1;34m(self, obj, axis, is_setter, raise_missing)\u001b[0m\n\u001b[0;32m   1352\u001b[0m                 kwargs = {'raise_missing': True if is_setter else\n\u001b[0;32m   1353\u001b[0m                           raise_missing}\n\u001b[1;32m-> 1354\u001b[1;33m                 \u001b[1;32mreturn\u001b[0m \u001b[0mself\u001b[0m\u001b[1;33m.\u001b[0m\u001b[0m_get_listlike_indexer\u001b[0m\u001b[1;33m(\u001b[0m\u001b[0mobj\u001b[0m\u001b[1;33m,\u001b[0m \u001b[0maxis\u001b[0m\u001b[1;33m,\u001b[0m \u001b[1;33m**\u001b[0m\u001b[0mkwargs\u001b[0m\u001b[1;33m)\u001b[0m\u001b[1;33m[\u001b[0m\u001b[1;36m1\u001b[0m\u001b[1;33m]\u001b[0m\u001b[1;33m\u001b[0m\u001b[1;33m\u001b[0m\u001b[0m\n\u001b[0m\u001b[0;32m   1355\u001b[0m         \u001b[1;32melse\u001b[0m\u001b[1;33m:\u001b[0m\u001b[1;33m\u001b[0m\u001b[1;33m\u001b[0m\u001b[0m\n\u001b[0;32m   1356\u001b[0m             \u001b[1;32mtry\u001b[0m\u001b[1;33m:\u001b[0m\u001b[1;33m\u001b[0m\u001b[1;33m\u001b[0m\u001b[0m\n",
      "\u001b[1;32mD:\\software\\Anaconda-InstallFiles\\lib\\site-packages\\pandas\\core\\indexing.py\u001b[0m in \u001b[0;36m_get_listlike_indexer\u001b[1;34m(self, key, axis, raise_missing)\u001b[0m\n\u001b[0;32m   1159\u001b[0m         self._validate_read_indexer(keyarr, indexer,\n\u001b[0;32m   1160\u001b[0m                                     \u001b[0mo\u001b[0m\u001b[1;33m.\u001b[0m\u001b[0m_get_axis_number\u001b[0m\u001b[1;33m(\u001b[0m\u001b[0maxis\u001b[0m\u001b[1;33m)\u001b[0m\u001b[1;33m,\u001b[0m\u001b[1;33m\u001b[0m\u001b[1;33m\u001b[0m\u001b[0m\n\u001b[1;32m-> 1161\u001b[1;33m                                     raise_missing=raise_missing)\n\u001b[0m\u001b[0;32m   1162\u001b[0m         \u001b[1;32mreturn\u001b[0m \u001b[0mkeyarr\u001b[0m\u001b[1;33m,\u001b[0m \u001b[0mindexer\u001b[0m\u001b[1;33m\u001b[0m\u001b[1;33m\u001b[0m\u001b[0m\n\u001b[0;32m   1163\u001b[0m \u001b[1;33m\u001b[0m\u001b[0m\n",
      "\u001b[1;32mD:\\software\\Anaconda-InstallFiles\\lib\\site-packages\\pandas\\core\\indexing.py\u001b[0m in \u001b[0;36m_validate_read_indexer\u001b[1;34m(self, key, indexer, axis, raise_missing)\u001b[0m\n\u001b[0;32m   1244\u001b[0m                 raise KeyError(\n\u001b[0;32m   1245\u001b[0m                     u\"None of [{key}] are in the [{axis}]\".format(\n\u001b[1;32m-> 1246\u001b[1;33m                         key=key, axis=self.obj._get_axis_name(axis)))\n\u001b[0m\u001b[0;32m   1247\u001b[0m \u001b[1;33m\u001b[0m\u001b[0m\n\u001b[0;32m   1248\u001b[0m             \u001b[1;31m# We (temporarily) allow for some missing keys with .loc, except in\u001b[0m\u001b[1;33m\u001b[0m\u001b[1;33m\u001b[0m\u001b[1;33m\u001b[0m\u001b[0m\n",
      "\u001b[1;31mKeyError\u001b[0m: \"None of [Index([  (2908,),   (8409,),  (-6585,),   (5500,),    (680,),   (3174,),\\n        (-1586,),    (508,),    (334,),    (895,),\\n       ...\\n        (-4782,),  (18924,),   (2321,),  (-6225,),  (13662,),  (-5269,),\\n       (-11483,), (-10854,),  (24632,),  (-4130,)],\\n      dtype='object', length=503)] are in the [columns]\""
     ]
    }
   ],
   "source": [
    "def timeseries_to_supervised(data,lag=1):\n",
    "    df = pd.DataFrame(data)\n",
    "    columns = [df.shift(i) for i in range(1,lag+1)]\n",
    "    columns.append(df)\n",
    "    df = pd.concat(columns,axis=1)\n",
    "    df.fillna(0,inplace=True)\n",
    "    return df\n",
    "\n",
    "#创建series\n",
    "def difference(dataset,interval=1):\n",
    "    diff = list()\n",
    "    for i in range(interval,len(dataset)):\n",
    "        value = dataset[i] - dataset[i-interval]\n",
    "        diff.append(value)\n",
    "    return series[diff]\n",
    "\n",
    "#invert differenced value\n",
    "def inverse_difference(history,yhat,interval=1):\n",
    "    return yhat + history[-interval]\n",
    "\n",
    "def scale(train,test):\n",
    "    #fit scaler\n",
    "    scaler = MinMaxScaler(feature_range=(-1,1))\n",
    "    scaler = scaler.fit(train)\n",
    "    #transform train\n",
    "    train = train.reshape(train.shape[0],train.shape[1])\n",
    "    train_scaled = scaler.transform(train)\n",
    "    #trainform test\n",
    "    test = test.reshape(test.shape[0],test.shape[1])\n",
    "    test_scaled = scaler.transform(test)\n",
    "    return scaler,train_scaled,test_scaled\n",
    "\n",
    "def invert_scale(scaler,X,value):\n",
    "    new_row = [x for x in X] + [yhat]\n",
    "    array = np.array(new_row)\n",
    "    array = array.reshape(1,len(array))\n",
    "    inverted = scaler.inverse_transform(array)\n",
    "    return inverted[0,-1]\n",
    "\n",
    "def fit_lstm(train,batch_size,nb_epoch,neurons):\n",
    "    X,y =train[:,0:-10],train[:,-10:]\n",
    "    X = X.reshape(X.shape[0],1,X.shape[1])\n",
    "    model = Sequential()\n",
    "    model.add(LSTM(neurons,batch_input_shape=(batch_size,X.shape[1],X.shape[2]),stateful=True))\n",
    "    model.add(Dense(1))\n",
    "    model.compile(loss='mean_squared_error',optimizer='adam')\n",
    "    for i in range(nb_epoch):\n",
    "        model.fit(X,y,epochs=1,batch_size=batch_size,verbose=0,shuffle=False)\n",
    "        model.reset_states()\n",
    "    return model\n",
    "def forecast_lstm(model,batch_size,X):\n",
    "    X = X.reshape(1,1,len(X))\n",
    "    yhat = model.predict(X,batch_size=batch_size)\n",
    "    return yhat[0,0]\n",
    "\n",
    "series = pd.read_csv('D:/chargeorder/1819_energy.txt',encoding='utf-8',header=0, index_col='date',parse_dates=['date'])\n",
    "\n",
    "raw_values = series.values\n",
    "diff_values = difference(raw_values,1)\n",
    "\n",
    "supervised = timeseries_to_supervised(diff_values,1)\n",
    "supervised_values = supervised.values\n",
    "\n",
    "train,test = supervised_values[0:-20],supervised_values[-20:]\n",
    "\n",
    "scaler,train_scaled,test_scaled = scale(train,test)\n",
    "lstm_model = fit_lstm(train_scaled,1,3000,4)\n",
    "train_reshaped = train_scaled[:0].reshape(len(train_scaled),1,1)\n",
    "lstm_model.predict(train_reshaped,batch_size=1)\n",
    "\n",
    "predictions = list()\n",
    "for i in range(len(test_scaled)):\n",
    "    x,y = test_scaled[i,0:-10],test_scaled[i,-10:]\n",
    "    yhat = forecast_lstm(lstm_model,1,X)\n",
    "    yhat= inverse_difference(row_values,yhat,len(test_scaled)+1-i)\n",
    "    predictions.append(yhat)\n",
    "    expected = raw_values[len(train)-i+1]\n",
    "    print('month=%dp ,redicted=%f, expected=%f'%(i+1,yhat,expected))\n",
    "\n",
    "rmse = sqrt(mean_squared_error(raw_values[-20:],predictions))\n",
    "print('rmse:%.3f'%rmse)\n"
   ]
  },
  {
   "cell_type": "code",
   "execution_count": 1,
   "metadata": {},
   "outputs": [],
   "source": [
    "#爬虫\n",
    "import urllib.request\n",
    "from bs4 import BeautifulSoup\n",
    "import os\n",
    "\n",
    "def Download(url,picAlt,name):\n",
    "    path = 'D:\\\\pythonDemo01\\\\'+picAlt+'\\\\'\n",
    "    if not os.path.exists(path):#判断系统是否存在该路径，不存在则创建\n",
    "        os.makedirs(path)\n",
    "    urllib.request.urlretrieve( url, '{0}{1}.jpg'.format(path, name))  # ，下载图片保存在本地\n",
    " \n",
    "header = {\n",
    "    \"User-Agent\":'Mozilla/5.0 (X11; Linux x86_64) AppleWebKit/537.36 (KHTML, like Gecko) Chrome/48.0.2564.116 Safari/537.36',\n",
    " \n",
    "    'Accept': '*/*',\n",
    "    'Accept-Language': 'en-US,en;q=0.8',\n",
    "    'Cache-Control': 'max-age=0',\n",
    "    'Connection': 'keep-alive'\n",
    "}\n",
    "def run(targetUrl, beginNUM ,endNUM):\n",
    "    req = urllib.request.Request(url=targetUrl,headers=header)\n",
    "    response = urllib.request.urlopen(req)#这里的req可看成一种更为高级的URL\n",
    "    html = response.read().decode('gb2312','ignore')#解码 得到这个网页的html源代码：这个网站的编码使用的是GB2312格式，更常见的网站编码格式应该是UTF-8了吧\n",
    "    soup = BeautifulSoup(html, 'html.parser')#将得到的HTML代码使用python自带的解析器（也可以使用lxml解析器，性能会更好，本代码从简\n",
    "    Divs = soup.find_all('div',attrs={'id':'big-pic' })#使得条件唯一，找到我们想要下载的目标。这里语法是bs，主流的解析搜索方式有：bs，xpath和正则 ，小白还是用bs吧\n",
    "    nowpage = soup.find('span',attrs={'class':'nowpage'}).get_text()#获取当前页码\n",
    "    totalpage= soup.find('span',attrs={'class':'totalpage'}).get_text()#获取所有页\n",
    "    if beginNUM ==endNUM :#跳出条件\n",
    "        return\n",
    "    for div in Divs:#遍历所有大图所在的div,其实只有一个元素。因为前面使用的是find_all()方法得到的是集合，所以这要遍历了。有点不太实用 因为与照顾到语法使用全面的意思\n",
    "        beginNUM = beginNUM+1\n",
    " \n",
    "        if div.find(\"a\") is None :#如果这张图片没有下一张图片的链接\n",
    "            print(\"没有下一张了\")\n",
    "            return\n",
    "        elif div.find(\"a\")['href'] is None or div.find(\"a\")['href']==\"\":#有链接，但是是 空链接\n",
    "            print(\"没有下一张了None\")\n",
    "            return\n",
    "        print(\"=====================================================下载信息：总进度：\",beginNUM,\"/\",endNUM,\" ，正在下载套图：(\",nowpage,\"/\",totalpage,\")====================================\")\n",
    " \n",
    "        if int(nowpage)<int(totalpage):#nowpage，totalpage是str类型；（如果不转换成int来比较的话，totalPage是字符串“12”无法与‘1’‘2’这些单个字符的字符串比较）\n",
    "            nextPageLink =\"http://www.mmonly.cc/mmtp/qcmn/\" +(div.find('a')['href'])\n",
    "        elif int(nowpage)==int(totalpage):\n",
    "            nextPageLink = (div.find('a')['href'])\n",
    " \n",
    "        picLink = (div.find('a').find('img')['src'])#本网站大图的SRC属性是下一张图片的链接\n",
    "        picAlt = (div.find('a').find('img'))['alt']#图片的名字alt属性\n",
    "        print('下载的图片链接:',picLink)\n",
    "        print('套图名：[ ', picAlt , ' ] ')\n",
    "        print('开始下载...........')\n",
    "        Download(picLink,picAlt, nowpage)\n",
    "        print(\"下载成功！\")\n",
    "        print('下一页链接:',nextPageLink)\n",
    "        run(nextPageLink,beginNUM ,endNUM)#递归\n",
    "        return\n",
    " \n",
    "\n",
    "if __name__ == '__main__':\n",
    "    #可以是这个网站（http://www.mmonly.cc/mmtp/qcmn/）下的任意一个网址（如下）开始爬取，means爬取的起点（）\n",
    "    targetUrl =\"http://www.mmonly.cc/mmtp/qcmn/258345.html\"\n",
    "#     targetUrl =\"http://www.mmonly.cc/mmtp/qcmn/259676.html\"\n",
    "#     targetUrl =\"http://www.mmonly.cc/mmtp/qcmn/237269.html\"\n",
    "    run(targetUrl,beginNUM=0,endNUM=60)#设置下载图片数量：endNUM-beginNUM 数字相减为总数量\n",
    "    print(\"【【【【       OVER！        】】】】】\")\n",
    "\n"
   ]
  },
  {
   "cell_type": "code",
   "execution_count": 1,
   "metadata": {},
   "outputs": [],
   "source": [
    "import pandas as pd\n",
    "import numpy as np\n",
    "import matplotlib.pyplot as plt"
   ]
  },
  {
   "cell_type": "code",
   "execution_count": 19,
   "metadata": {},
   "outputs": [
    {
     "name": "stderr",
     "output_type": "stream",
     "text": [
      "D:\\software\\Anaconda-InstallFiles\\lib\\site-packages\\sklearn\\model_selection\\_split.py:2179: FutureWarning: From version 0.21, test_size will always complement train_size unless both are specified.\n",
      "  FutureWarning)\n"
     ]
    },
    {
     "data": {
      "text/plain": [
       "0.9619047619047619"
      ]
     },
     "execution_count": 19,
     "metadata": {},
     "output_type": "execute_result"
    }
   ],
   "source": [
    "from sklearn.datasets import load_iris\n",
    "iris = load_iris()\n",
    "X = iris.data\n",
    "y = iris.target\n",
    "from sklearn.model_selection import train_test_split\n",
    "from sklearn.neighbors import KNeighborsClassifier\n",
    "from sklearn.metrics import accuracy_score\n",
    "model = KNeighborsClassifier(n_neighbors=1)\n",
    "X_train,X_test,y_train,y_test = train_test_split(X,y,random_state=2019,train_size=0.3)\n",
    "model.fit(X_train,y_train)\n",
    "y_model = model.predict(X_test)\n",
    "accuracy_score(y_test,y_model)"
   ]
  },
  {
   "cell_type": "code",
   "execution_count": 20,
   "metadata": {},
   "outputs": [
    {
     "data": {
      "text/plain": [
       "(0.8888888888888888, 0.9619047619047619)"
      ]
     },
     "execution_count": 20,
     "metadata": {},
     "output_type": "execute_result"
    }
   ],
   "source": [
    "#手动实现交叉验证\n",
    "y_test_model = model.fit(X_train,y_train).predict(X_test)\n",
    "y_train_model = model.fit(X_test,y_test).predict(X_train)\n",
    "accuracy_score(y_train,y_train_model),accuracy_score(y_test,y_test_model)"
   ]
  },
  {
   "cell_type": "code",
   "execution_count": 21,
   "metadata": {},
   "outputs": [
    {
     "data": {
      "text/plain": [
       "array([0.96666667, 0.96666667, 0.93333333, 0.93333333, 1.        ])"
      ]
     },
     "execution_count": 21,
     "metadata": {},
     "output_type": "execute_result"
    }
   ],
   "source": [
    "#使用sklearn的交叉验证，cross_val_score\n",
    "\n",
    "from sklearn.model_selection import cross_val_score\n",
    "cross_val_score(model,X,y,cv=5) #cv=5表示做5轮交叉验证\n"
   ]
  },
  {
   "cell_type": "code",
   "execution_count": 34,
   "metadata": {},
   "outputs": [],
   "source": [
    "data = [\n",
    "{'price': 850000, 'rooms': 4, 'neighborhood': 'Queen Anne'},\n",
    "{'price': 700000, 'rooms': 3, 'neighborhood': 'Fremont'},\n",
    "{'price': 650000, 'rooms': 3, 'neighborhood': 'Wallingford'},\n",
    "{'price': 600000, 'rooms': 2, 'neighborhood': 'Fremont'}\n",
    "]"
   ]
  },
  {
   "cell_type": "code",
   "execution_count": 36,
   "metadata": {},
   "outputs": [
    {
     "data": {
      "text/plain": [
       "array([[     0,      1,      0, 850000,      4],\n",
       "       [     1,      0,      0, 700000,      3],\n",
       "       [     0,      0,      1, 650000,      3],\n",
       "       [     1,      0,      0, 600000,      2]], dtype=int32)"
      ]
     },
     "execution_count": 36,
     "metadata": {},
     "output_type": "execute_result"
    }
   ],
   "source": [
    "from sklearn.feature_extraction import DictVectorizer\n",
    "vec = DictVectorizer(sparse=False,dtype=int)\n",
    "vec.fit_transform(data)"
   ]
  },
  {
   "cell_type": "code",
   "execution_count": 37,
   "metadata": {},
   "outputs": [
    {
     "data": {
      "text/plain": [
       "['neighborhood=Fremont',\n",
       " 'neighborhood=Queen Anne',\n",
       " 'neighborhood=Wallingford',\n",
       " 'price',\n",
       " 'rooms']"
      ]
     },
     "execution_count": 37,
     "metadata": {},
     "output_type": "execute_result"
    }
   ],
   "source": [
    "vec.get_feature_names()"
   ]
  },
  {
   "cell_type": "code",
   "execution_count": 40,
   "metadata": {},
   "outputs": [
    {
     "name": "stdout",
     "output_type": "stream",
     "text": [
      "  (0, 1)\t1\n",
      "  (0, 3)\t850000\n",
      "  (0, 4)\t4\n",
      "  (1, 0)\t1\n",
      "  (1, 3)\t700000\n",
      "  (1, 4)\t3\n",
      "  (2, 2)\t1\n",
      "  (2, 3)\t650000\n",
      "  (2, 4)\t3\n",
      "  (3, 0)\t1\n",
      "  (3, 3)\t600000\n",
      "  (3, 4)\t2\n"
     ]
    }
   ],
   "source": [
    "vec = DictVectorizer(sparse=True,dtype=int)\n",
    "res = vec.fit_transform(data)\n",
    "print(res)"
   ]
  },
  {
   "cell_type": "code",
   "execution_count": 18,
   "metadata": {},
   "outputs": [],
   "source": [
    "from pyecharts import Map,Geo\n",
    "citys = ['北京','广东','上海','江苏','山东','浙江','河北','天津','安徽','湖北','黑龙江','吉林','辽宁','山西','内蒙古','新疆','青海','宁夏','甘肃','陕西','西藏','四川','重庆','云南','广西','海南','福建','江西','湖南','河南','贵州']\n",
    "values=[51188,45217,47772,40656,29343,21576,17791,14695,13992,12897,2055,894,5410,9116,1685,323,721,421,2837,12623,17,9987,10104,2383,2063,2158,12619,4185,7023,10520,1904]\n",
    "pieces = [{'max':50,'min':10,'label':'10-50台'},{'max':1000,'min':300,'label':'300-1000台'},{'max':2500,'min':1500,'label':'1500-2500台'},{'max':4500,'min':2500,'label':'2500-4500台'},{'max':10000,'min':5000,'label':'5000-10000台'},{'max':13000,'min':10000,'label':'10000-13000台'},{'max':20000,'min':13000,'label':'13000-20000台'},{'max':30000,'min':20000,'label':'20000-30000台'},{'max':52000,'min':40000,'label':'40000-52000台'}]\n",
    "map0 = Map('充电站数量分布图',width=1200,height=600)\n",
    "map0.add('各省市充电站数量分布图',citys,values,visual_range=[10,52000],maptype='china',is_visualmap=True,visual_text_color='#00ff',pieces=pieces,is_piecewise=True,)\n",
    "map0.render(path='D:/chongdianz.html')\n"
   ]
  },
  {
   "cell_type": "code",
   "execution_count": 2,
   "metadata": {},
   "outputs": [],
   "source": [
    "movies = pd.read_csv('D:/Project/data/ml-latest-small/movies.csv',encoding='utf-8')\n",
    "ratings = pd.read_csv('D:/Project/data/ml-latest-small/ratings.csv',encoding='utf-8')\n",
    "data = pd.merge(movies,ratings,on='movieId') #通过movieID进行合并\n",
    "data[['userId','rating','movieId','title']].sort_values('userId').to_csv('D:/Project/data/ml-latest-small/data.csv',index='False')"
   ]
  },
  {
   "cell_type": "code",
   "execution_count": 19,
   "metadata": {},
   "outputs": [],
   "source": [
    "file01 = open('D:/Project/data/ml-latest-small/data.csv','r',encoding='utf-8')"
   ]
  },
  {
   "cell_type": "code",
   "execution_count": 25,
   "metadata": {},
   "outputs": [],
   "source": [
    "data = {} #存放每位用户评论的电影和评分\n",
    "for line in file01.readlines()[1:100]:\n",
    "    line = line.strip().split(',')\n",
    "    #如果字典中没有某位用户，则使用用户的ID来创建这位用户\n",
    "    if not line[0] in data.keys():\n",
    "        data[line[0]] = {line[3]:line[1]}\n",
    "    else:\n",
    "        data[line[0]][line[3]] = line[1]\n"
   ]
  },
  {
   "cell_type": "code",
   "execution_count": null,
   "metadata": {},
   "outputs": [],
   "source": []
  },
  {
   "cell_type": "code",
   "execution_count": 3,
   "metadata": {},
   "outputs": [],
   "source": [
    "from sklearn import preprocessing\n",
    "X_train = np.array([[1., -1., 2.], [2., 0., 0.], [0., 1., -1.]])\n",
    "min_max_scaler = preprocessing.MinMaxScaler()\n",
    "x_train_minmax = min_max_scaler.fit_transform(X_train)"
   ]
  },
  {
   "cell_type": "code",
   "execution_count": 15,
   "metadata": {},
   "outputs": [
    {
     "data": {
      "text/plain": [
       "OneHotEncoder(categorical_features=None, categories=None,\n",
       "       dtype=<class 'numpy.float64'>, handle_unknown='error',\n",
       "       n_values=[2, 3, 4], sparse=True)"
      ]
     },
     "execution_count": 15,
     "metadata": {},
     "output_type": "execute_result"
    }
   ],
   "source": [
    "enc = preprocessing.OneHotEncoder(n_values=[2,3,4])\n",
    "enc.fit([[0, 0, 3], [1, 1, 0], [0, 2, 1], [1, 0, 2]])"
   ]
  },
  {
   "cell_type": "code",
   "execution_count": 2,
   "metadata": {},
   "outputs": [],
   "source": [
    "from grpc._cython import cygrpc as cyg"
   ]
  },
  {
   "cell_type": "code",
   "execution_count": 13,
   "metadata": {},
   "outputs": [
    {
     "data": {
      "text/html": [
       "<div>\n",
       "<style scoped>\n",
       "    .dataframe tbody tr th:only-of-type {\n",
       "        vertical-align: middle;\n",
       "    }\n",
       "\n",
       "    .dataframe tbody tr th {\n",
       "        vertical-align: top;\n",
       "    }\n",
       "\n",
       "    .dataframe thead th {\n",
       "        text-align: right;\n",
       "    }\n",
       "</style>\n",
       "<table border=\"1\" class=\"dataframe\">\n",
       "  <thead>\n",
       "    <tr style=\"text-align: right;\">\n",
       "      <th></th>\n",
       "      <th>PassengerId</th>\n",
       "      <th>Survived</th>\n",
       "      <th>Pclass</th>\n",
       "      <th>Age</th>\n",
       "      <th>SibSp</th>\n",
       "      <th>Parch</th>\n",
       "      <th>Fare</th>\n",
       "    </tr>\n",
       "  </thead>\n",
       "  <tbody>\n",
       "    <tr>\n",
       "      <th>count</th>\n",
       "      <td>891.000000</td>\n",
       "      <td>891.000000</td>\n",
       "      <td>891.000000</td>\n",
       "      <td>714.000000</td>\n",
       "      <td>891.000000</td>\n",
       "      <td>891.000000</td>\n",
       "      <td>891.000000</td>\n",
       "    </tr>\n",
       "    <tr>\n",
       "      <th>mean</th>\n",
       "      <td>446.000000</td>\n",
       "      <td>0.383838</td>\n",
       "      <td>2.308642</td>\n",
       "      <td>29.699118</td>\n",
       "      <td>0.523008</td>\n",
       "      <td>0.381594</td>\n",
       "      <td>32.204208</td>\n",
       "    </tr>\n",
       "    <tr>\n",
       "      <th>std</th>\n",
       "      <td>257.353842</td>\n",
       "      <td>0.486592</td>\n",
       "      <td>0.836071</td>\n",
       "      <td>14.526497</td>\n",
       "      <td>1.102743</td>\n",
       "      <td>0.806057</td>\n",
       "      <td>49.693429</td>\n",
       "    </tr>\n",
       "    <tr>\n",
       "      <th>min</th>\n",
       "      <td>1.000000</td>\n",
       "      <td>0.000000</td>\n",
       "      <td>1.000000</td>\n",
       "      <td>0.420000</td>\n",
       "      <td>0.000000</td>\n",
       "      <td>0.000000</td>\n",
       "      <td>0.000000</td>\n",
       "    </tr>\n",
       "    <tr>\n",
       "      <th>25%</th>\n",
       "      <td>223.500000</td>\n",
       "      <td>0.000000</td>\n",
       "      <td>2.000000</td>\n",
       "      <td>20.125000</td>\n",
       "      <td>0.000000</td>\n",
       "      <td>0.000000</td>\n",
       "      <td>7.910400</td>\n",
       "    </tr>\n",
       "    <tr>\n",
       "      <th>50%</th>\n",
       "      <td>446.000000</td>\n",
       "      <td>0.000000</td>\n",
       "      <td>3.000000</td>\n",
       "      <td>28.000000</td>\n",
       "      <td>0.000000</td>\n",
       "      <td>0.000000</td>\n",
       "      <td>14.454200</td>\n",
       "    </tr>\n",
       "    <tr>\n",
       "      <th>75%</th>\n",
       "      <td>668.500000</td>\n",
       "      <td>1.000000</td>\n",
       "      <td>3.000000</td>\n",
       "      <td>38.000000</td>\n",
       "      <td>1.000000</td>\n",
       "      <td>0.000000</td>\n",
       "      <td>31.000000</td>\n",
       "    </tr>\n",
       "    <tr>\n",
       "      <th>max</th>\n",
       "      <td>891.000000</td>\n",
       "      <td>1.000000</td>\n",
       "      <td>3.000000</td>\n",
       "      <td>80.000000</td>\n",
       "      <td>8.000000</td>\n",
       "      <td>6.000000</td>\n",
       "      <td>512.329200</td>\n",
       "    </tr>\n",
       "  </tbody>\n",
       "</table>\n",
       "</div>"
      ],
      "text/plain": [
       "       PassengerId    Survived      Pclass         Age       SibSp  \\\n",
       "count   891.000000  891.000000  891.000000  714.000000  891.000000   \n",
       "mean    446.000000    0.383838    2.308642   29.699118    0.523008   \n",
       "std     257.353842    0.486592    0.836071   14.526497    1.102743   \n",
       "min       1.000000    0.000000    1.000000    0.420000    0.000000   \n",
       "25%     223.500000    0.000000    2.000000   20.125000    0.000000   \n",
       "50%     446.000000    0.000000    3.000000   28.000000    0.000000   \n",
       "75%     668.500000    1.000000    3.000000   38.000000    1.000000   \n",
       "max     891.000000    1.000000    3.000000   80.000000    8.000000   \n",
       "\n",
       "            Parch        Fare  \n",
       "count  891.000000  891.000000  \n",
       "mean     0.381594   32.204208  \n",
       "std      0.806057   49.693429  \n",
       "min      0.000000    0.000000  \n",
       "25%      0.000000    7.910400  \n",
       "50%      0.000000   14.454200  \n",
       "75%      0.000000   31.000000  \n",
       "max      6.000000  512.329200  "
      ]
     },
     "execution_count": 13,
     "metadata": {},
     "output_type": "execute_result"
    }
   ],
   "source": [
    "titanic = pd.read_csv('D:/Project/data/Titanic-dataset/train.csv',encoding='utf-8')\n",
    "titanic.describe()"
   ]
  },
  {
   "cell_type": "code",
   "execution_count": 14,
   "metadata": {},
   "outputs": [
    {
     "data": {
      "text/plain": [
       "PassengerId    891\n",
       "Survived       891\n",
       "Pclass         891\n",
       "Name           891\n",
       "Sex            891\n",
       "Age            714\n",
       "SibSp          891\n",
       "Parch          891\n",
       "Ticket         891\n",
       "Fare           891\n",
       "Cabin          204\n",
       "Embarked       889\n",
       "dtype: int64"
      ]
     },
     "execution_count": 14,
     "metadata": {},
     "output_type": "execute_result"
    }
   ],
   "source": [
    "titanic.count()"
   ]
  },
  {
   "cell_type": "code",
   "execution_count": 32,
   "metadata": {},
   "outputs": [],
   "source": [
    "titanic['Age'] = titanic['Age'].fillna(titanic['Age'].median())\n",
    "titanic.loc[titanic['Sex'] == 'male','Sex'] = 0\n",
    "titanic.loc[titanic['Sex'] == 'female','Sex'] = 1"
   ]
  },
  {
   "cell_type": "code",
   "execution_count": 31,
   "metadata": {},
   "outputs": [
    {
     "name": "stdout",
     "output_type": "stream",
     "text": [
      "[0 1 2 nan]\n"
     ]
    },
    {
     "name": "stderr",
     "output_type": "stream",
     "text": [
      "D:\\software\\Anaconda-InstallFiles\\lib\\site-packages\\pandas\\core\\ops.py:1649: FutureWarning: elementwise comparison failed; returning scalar instead, but in the future will perform elementwise comparison\n",
      "  result = method(y)\n"
     ]
    }
   ],
   "source": [
    "print(titanic['Embarked'].unique())\n",
    "titanic['Embarked'] = titanic['Embarked'].fillna('S')\n",
    "titanic.loc[titanic['Embarked'] == 'S','Embarked'] = 0\n",
    "titanic.loc[titanic['Embarked'] == 'C','Embarked'] = 1\n",
    "titanic.loc[titanic['Embarked'] == 'Q','Embarked'] = 2"
   ]
  },
  {
   "cell_type": "code",
   "execution_count": 43,
   "metadata": {},
   "outputs": [],
   "source": [
    "from sklearn.linear_model import LinearRegression\n",
    "from sklearn.model_selection import KFold"
   ]
  },
  {
   "cell_type": "code",
   "execution_count": null,
   "metadata": {},
   "outputs": [],
   "source": []
  },
  {
   "cell_type": "code",
   "execution_count": 10,
   "metadata": {},
   "outputs": [],
   "source": [
    "sample = ['problem of evil',\n",
    "'evil queen',\n",
    "'horizon problem']"
   ]
  },
  {
   "cell_type": "code",
   "execution_count": 15,
   "metadata": {},
   "outputs": [
    {
     "data": {
      "text/html": [
       "<div>\n",
       "<style scoped>\n",
       "    .dataframe tbody tr th:only-of-type {\n",
       "        vertical-align: middle;\n",
       "    }\n",
       "\n",
       "    .dataframe tbody tr th {\n",
       "        vertical-align: top;\n",
       "    }\n",
       "\n",
       "    .dataframe thead th {\n",
       "        text-align: right;\n",
       "    }\n",
       "</style>\n",
       "<table border=\"1\" class=\"dataframe\">\n",
       "  <thead>\n",
       "    <tr style=\"text-align: right;\">\n",
       "      <th></th>\n",
       "      <th>evil</th>\n",
       "      <th>horizon</th>\n",
       "      <th>of</th>\n",
       "      <th>problem</th>\n",
       "      <th>queen</th>\n",
       "    </tr>\n",
       "  </thead>\n",
       "  <tbody>\n",
       "    <tr>\n",
       "      <th>0</th>\n",
       "      <td>0.517856</td>\n",
       "      <td>0.000000</td>\n",
       "      <td>0.680919</td>\n",
       "      <td>0.517856</td>\n",
       "      <td>0.000000</td>\n",
       "    </tr>\n",
       "    <tr>\n",
       "      <th>1</th>\n",
       "      <td>0.605349</td>\n",
       "      <td>0.000000</td>\n",
       "      <td>0.000000</td>\n",
       "      <td>0.000000</td>\n",
       "      <td>0.795961</td>\n",
       "    </tr>\n",
       "    <tr>\n",
       "      <th>2</th>\n",
       "      <td>0.000000</td>\n",
       "      <td>0.795961</td>\n",
       "      <td>0.000000</td>\n",
       "      <td>0.605349</td>\n",
       "      <td>0.000000</td>\n",
       "    </tr>\n",
       "  </tbody>\n",
       "</table>\n",
       "</div>"
      ],
      "text/plain": [
       "       evil   horizon        of   problem     queen\n",
       "0  0.517856  0.000000  0.680919  0.517856  0.000000\n",
       "1  0.605349  0.000000  0.000000  0.000000  0.795961\n",
       "2  0.000000  0.795961  0.000000  0.605349  0.000000"
      ]
     },
     "execution_count": 15,
     "metadata": {},
     "output_type": "execute_result"
    }
   ],
   "source": [
    "from sklearn.feature_extraction.text import TfidfVectorizer\n",
    "vec = TfidfVectorizer()\n",
    "x = vec.fit_transform(sample)\n",
    "pd.DataFrame(x.toarray(),columns=vec.get_feature_names())"
   ]
  },
  {
   "cell_type": "code",
   "execution_count": 16,
   "metadata": {},
   "outputs": [
    {
     "data": {
      "image/png": "[encoded data removed]",
      "text/plain": [
       "<Figure size 432x288 with 1 Axes>"
      ]
     },
     "metadata": {
      "needs_background": "light"
     },
     "output_type": "display_data"
    }
   ],
   "source": [
    "%matplotlib inline\n",
    "import numpy as np\n",
    "import matplotlib.pyplot as plt\n",
    "x = np.array([1, 2, 3, 4, 5])\n",
    "y = np.array([4, 2, 1, 3, 7])\n",
    "plt.scatter(x, y);"
   ]
  },
  {
   "cell_type": "code",
   "execution_count": 17,
   "metadata": {},
   "outputs": [
    {
     "data": {
      "text/plain": [
       "[<matplotlib.lines.Line2D at 0x240eeb22358>]"
      ]
     },
     "execution_count": 17,
     "metadata": {},
     "output_type": "execute_result"
    },
    {
     "data": {
      "image/png": "[encoded data removed]",
      "text/plain": [
       "<Figure size 432x288 with 1 Axes>"
      ]
     },
     "metadata": {
      "needs_background": "light"
     },
     "output_type": "display_data"
    }
   ],
   "source": [
    "from sklearn.linear_model import LinearRegression\n",
    "X = x[:,np.newaxis]\n",
    "model = LinearRegression().fit(X,y)\n",
    "yfit = model.predict(X)\n",
    "plt.scatter(x,y)\n",
    "plt.plot(x,yfit)"
   ]
  },
  {
   "cell_type": "code",
   "execution_count": 26,
   "metadata": {},
   "outputs": [
    {
     "name": "stdout",
     "output_type": "stream",
     "text": [
      "[[  1.   1.   1.   1.]\n",
      " [  2.   4.   8.  16.]\n",
      " [  3.   9.  27.  81.]\n",
      " [  4.  16.  64. 256.]\n",
      " [  5.  25. 125. 625.]]\n"
     ]
    }
   ],
   "source": [
    "from sklearn.preprocessing import PolynomialFeatures\n",
    "poly = PolynomialFeatures(degree=4,include_bias=False)\n",
    "X2 = poly.fit_transform(X)\n",
    "print(X2)\n"
   ]
  },
  {
   "cell_type": "code",
   "execution_count": 27,
   "metadata": {},
   "outputs": [
    {
     "data": {
      "text/plain": [
       "[<matplotlib.lines.Line2D at 0x240ef14b5f8>]"
      ]
     },
     "execution_count": 27,
     "metadata": {},
     "output_type": "execute_result"
    },
    {
     "data": {
      "image/png": "[encoded data removed]",
      "text/plain": [
       "<Figure size 432x288 with 1 Axes>"
      ]
     },
     "metadata": {
      "needs_background": "light"
     },
     "output_type": "display_data"
    }
   ],
   "source": [
    "model = LinearRegression().fit(X2,y)\n",
    "yfit = model.predict(X2)\n",
    "plt.scatter(x,y)\n",
    "plt.plot(x,yfit)"
   ]
  },
  {
   "cell_type": "code",
   "execution_count": 32,
   "metadata": {},
   "outputs": [
    {
     "data": {
      "image/png": "[encoded data removed]",
      "text/plain": [
       "<Figure size 432x288 with 1 Axes>"
      ]
     },
     "metadata": {
      "needs_background": "light"
     },
     "output_type": "display_data"
    }
   ],
   "source": [
    "from sklearn.datasets import make_blobs\n",
    "X,y = make_blobs(100,2,centers=2,random_state=2,cluster_std=1.5)\n",
    "plt.scatter(X[:,0],X[:,1],c=y,s=50,cmap='RdBu');"
   ]
  },
  {
   "cell_type": "code",
   "execution_count": 38,
   "metadata": {},
   "outputs": [
    {
     "data": {
      "image/png": "[encoded data removed]",
      "text/plain": [
       "<Figure size 432x288 with 1 Axes>"
      ]
     },
     "metadata": {
      "needs_background": "light"
     },
     "output_type": "display_data"
    }
   ],
   "source": [
    "from sklearn.naive_bayes import GaussianNB\n",
    "model = GaussianNB()\n",
    "model.fit(X,y)\n",
    "rng = np.random.RandomState(0)\n",
    "Xnew = [-6,-14] + [14,18]*rng.rand(2000,2)\n",
    "ynew = model.predict(Xnew)\n",
    "plt.scatter(X[:,0],X[:,1],c=y,s=50,cmap='RdBu')\n",
    "lim = plt.axis()\n",
    "plt.scatter(Xnew[:,0],Xnew[:,1],c=ynew,cmap='RdBu')\n",
    "plt.axis(lim);"
   ]
  },
  {
   "cell_type": "code",
   "execution_count": 3,
   "metadata": {},
   "outputs": [
    {
     "data": {
      "image/png": "[encoded data removed]",
      "text/plain": [
       "<Figure size 432x288 with 1 Axes>"
      ]
     },
     "metadata": {
      "needs_background": "light"
     },
     "output_type": "display_data"
    }
   ],
   "source": [
    "import matplotlib.pyplot as plt\n",
    "rng = np.random.RandomState(1)\n",
    "x = 10*rng.rand(50)\n",
    "y = 2*x -5 + rng.randn(50)\n",
    "plt.scatter(x,y);"
   ]
  }
 ],
 "metadata": {
  "kernelspec": {
   "display_name": "Python 3",
   "language": "python",
   "name": "python3"
  },
  "language_info": {
   "codemirror_mode": {
    "name": "ipython",
    "version": 3
   },
   "file_extension": ".py",
   "mimetype": "text/x-python",
   "name": "python",
   "nbconvert_exporter": "python",
   "pygments_lexer": "ipython3",
   "version": "3.6.8"
  }
 },
 "nbformat": 4,
 "nbformat_minor": 2
}
