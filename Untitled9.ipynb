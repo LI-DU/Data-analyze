{
 "cells": [
  {
   "cell_type": "code",
   "execution_count": 1,
   "metadata": {},
   "outputs": [],
   "source": [
    "import os\n",
    "import numpy as np\n",
    "import pandas as pd\n",
    "import datetime\n",
    "import seaborn as sns\n",
    "import matplotlib.pyplot as plt"
   ]
  },
  {
   "cell_type": "code",
   "execution_count": 82,
   "metadata": {},
   "outputs": [
    {
     "ename": "AttributeError",
     "evalue": "'str' object has no attribute 'loc'",
     "output_type": "error",
     "traceback": [
      "\u001b[1;31m---------------------------------------------------------------------------\u001b[0m",
      "\u001b[1;31mAttributeError\u001b[0m                            Traceback (most recent call last)",
      "\u001b[1;32m<ipython-input-82-1bb3c233f5f2>\u001b[0m in \u001b[0;36m<module>\u001b[1;34m\u001b[0m\n\u001b[0;32m      7\u001b[0m     \u001b[1;32mfor\u001b[0m \u001b[0mi\u001b[0m \u001b[1;32min\u001b[0m \u001b[0mrange\u001b[0m \u001b[1;33m(\u001b[0m\u001b[1;36m0\u001b[0m\u001b[1;33m,\u001b[0m\u001b[0mlen\u001b[0m\u001b[1;33m(\u001b[0m\u001b[0mfile_list\u001b[0m\u001b[1;33m[\u001b[0m\u001b[0mf\u001b[0m\u001b[1;33m]\u001b[0m\u001b[1;33m)\u001b[0m\u001b[1;33m)\u001b[0m\u001b[1;33m:\u001b[0m\u001b[1;33m\u001b[0m\u001b[1;33m\u001b[0m\u001b[0m\n\u001b[0;32m      8\u001b[0m         \u001b[1;32mfor\u001b[0m \u001b[0mj\u001b[0m \u001b[1;32min\u001b[0m \u001b[0mrange\u001b[0m \u001b[1;33m(\u001b[0m\u001b[1;36m1\u001b[0m\u001b[1;33m,\u001b[0m\u001b[0mlen\u001b[0m\u001b[1;33m(\u001b[0m\u001b[0mfile_list\u001b[0m\u001b[1;33m[\u001b[0m\u001b[0mf\u001b[0m\u001b[1;33m+\u001b[0m\u001b[1;36m1\u001b[0m\u001b[1;33m]\u001b[0m\u001b[1;33m)\u001b[0m\u001b[1;33m)\u001b[0m\u001b[1;33m:\u001b[0m\u001b[1;33m\u001b[0m\u001b[1;33m\u001b[0m\u001b[0m\n\u001b[1;32m----> 9\u001b[1;33m             \u001b[1;32mif\u001b[0m \u001b[0mint\u001b[0m\u001b[1;33m(\u001b[0m\u001b[0mfile_list\u001b[0m\u001b[1;33m[\u001b[0m\u001b[0mf\u001b[0m\u001b[1;33m]\u001b[0m\u001b[1;33m.\u001b[0m\u001b[0mloc\u001b[0m\u001b[1;33m[\u001b[0m\u001b[0mi\u001b[0m\u001b[1;33m]\u001b[0m\u001b[1;33m)\u001b[0m \u001b[1;33m==\u001b[0m \u001b[0mint\u001b[0m\u001b[1;33m(\u001b[0m\u001b[0mfile_list\u001b[0m\u001b[1;33m[\u001b[0m\u001b[0mf\u001b[0m\u001b[1;33m+\u001b[0m\u001b[1;36m1\u001b[0m\u001b[1;33m]\u001b[0m\u001b[1;33m.\u001b[0m\u001b[0mloc\u001b[0m\u001b[1;33m[\u001b[0m\u001b[0mj\u001b[0m\u001b[1;33m]\u001b[0m\u001b[1;33m)\u001b[0m\u001b[1;33m:\u001b[0m\u001b[1;33m\u001b[0m\u001b[1;33m\u001b[0m\u001b[0m\n\u001b[0m\u001b[0;32m     10\u001b[0m                 \u001b[1;32mwith\u001b[0m \u001b[0mopen\u001b[0m\u001b[1;33m(\u001b[0m\u001b[1;34m'D:/file_list[%d].txt'\u001b[0m\u001b[1;33m%\u001b[0m\u001b[0mf\u001b[0m\u001b[1;33m,\u001b[0m\u001b[0mmode\u001b[0m\u001b[1;33m=\u001b[0m\u001b[1;34m'a'\u001b[0m\u001b[1;33m)\u001b[0m \u001b[1;32mas\u001b[0m \u001b[0mf\u001b[0m\u001b[1;33m:\u001b[0m\u001b[1;33m\u001b[0m\u001b[1;33m\u001b[0m\u001b[0m\n\u001b[0;32m     11\u001b[0m                     \u001b[0mf\u001b[0m\u001b[1;33m.\u001b[0m\u001b[0mwritelines\u001b[0m\u001b[1;33m(\u001b[0m\u001b[0mstr\u001b[0m\u001b[1;33m(\u001b[0m\u001b[0mint\u001b[0m\u001b[1;33m(\u001b[0m\u001b[0mfile_list\u001b[0m\u001b[1;33m[\u001b[0m\u001b[0mf\u001b[0m\u001b[1;33m+\u001b[0m\u001b[1;36m1\u001b[0m\u001b[1;33m]\u001b[0m\u001b[1;33m.\u001b[0m\u001b[0mloc\u001b[0m\u001b[1;33m[\u001b[0m\u001b[0mj\u001b[0m\u001b[1;33m]\u001b[0m\u001b[1;33m)\u001b[0m\u001b[1;33m)\u001b[0m \u001b[1;33m+\u001b[0m \u001b[1;34m'\\n'\u001b[0m\u001b[1;33m)\u001b[0m\u001b[1;33m\u001b[0m\u001b[1;33m\u001b[0m\u001b[0m\n",
      "\u001b[1;31mAttributeError\u001b[0m: 'str' object has no attribute 'loc'"
     ]
    }
   ],
   "source": [
    "file_list = os.listdir('D:/szmobile')\n",
    "for f in range(len(file_list)):\n",
    "#     print(file_list[f][3:13])\n",
    "#     print(file_list[f])\n",
    "    res_f = 'D:/szmobile/'+file_list[f]\n",
    "    file_list[f] = pd.read_csv(res_f,encoding='utf-8',sep='\\t',names=['mobile'])\n",
    "    for i in range (0,len(file_list[f])):\n",
    "        for j in range (1,len(file_list[f+1])):\n",
    "            if int(file_list[f].loc[i]) == int(file_list[f+1].loc[j]):\n",
    "                with open('D:/file_list[%d].txt'%f,mode='a') as f:\n",
    "                    f.writelines(str(int(file_list[f+1].loc[j])) + '\\n')\n",
    "                \n",
    "print('ok')"
   ]
  },
  {
   "cell_type": "code",
   "execution_count": 88,
   "metadata": {},
   "outputs": [
    {
     "name": "stdout",
     "output_type": "stream",
     "text": [
      "0701_mobile_num: 338\n",
      "13026600321\n",
      "0705_mobile_num: 365\n",
      "0706_mobile_num: 311\n",
      "0707_mobile_num: 268\n",
      "0708_mobile_num: 294\n",
      "0709_mobile_num: 290\n"
     ]
    }
   ],
   "source": [
    "sz0705 = pd.read_csv('D:/szmobile/sz_mobile0705.txt',encoding='utf-8',sep='\\t',names=['mobile'])\n",
    "print('0705_mobile_num:',len(sz0705))\n",
    "\n",
    "sz0706 = pd.read_csv('D:/szmobile/sz_mobile0706.txt',encoding='utf-8',sep='\\t',names=['mobile'])\n",
    "print('0706_mobile_num:',len(sz0706))\n",
    "\n",
    "sz0709 = pd.read_csv('D:/szmobile/sz_mobile0709.txt',encoding='utf-8',sep='\\t',names=['mobile'])\n",
    "print('0709_mobile_num:',len(sz0709))"
   ]
  },
  {
   "cell_type": "code",
   "execution_count": 15,
   "metadata": {},
   "outputs": [
    {
     "name": "stdout",
     "output_type": "stream",
     "text": [
      "station_id0: 107\n",
      "station_id1: 287\n",
      "station_id01: 58\n",
      "2321791842384070488\n"
     ]
    }
   ],
   "source": [
    "station_id0 = pd.read_csv('D:/pile0.txt',encoding='utf-8',sep='\\t')\n",
    "print('station_id0:',len(station_id0))\n",
    "\n",
    "station_id1 = pd.read_csv('D:/pile1.txt',encoding='utf-8',sep='\\t')\n",
    "print('station_id1:',len(station_id1))\n",
    "station_id01 = pd.read_csv('D:/std01.txt',encoding='utf-8',sep='\\t')\n",
    "print('station_id01:',len(station_id01))\n",
    "print(int(station_id01.loc[0]))"
   ]
  },
  {
   "cell_type": "code",
   "execution_count": 35,
   "metadata": {},
   "outputs": [
    {
     "name": "stdout",
     "output_type": "stream",
     "text": [
      "ok\n"
     ]
    }
   ],
   "source": [
    "for i in range (0,len(station_id1)):\n",
    "    for j in range (0,len(station_id01)):\n",
    "        if int(station_id01.loc[j]) ==  int(station_id1.loc[i]):\n",
    "            with open('D:/std1.txt',mode='a') as f:\n",
    "                f.writelines(str(int(station_id1.loc[i])) + '\\n')\n",
    "                \n",
    "print('ok')\n"
   ]
  },
  {
   "cell_type": "code",
   "execution_count": 108,
   "metadata": {},
   "outputs": [],
   "source": [
    "sz0629 = pd.read_csv('D:/sz-20190629.txt',encoding='utf-8',sep='\\t')\n",
    "sz0629 = sz0629.drop(index=0)\n",
    "sz0629_mobile = sz0629['mobile_phone']"
   ]
  },
  {
   "cell_type": "code",
   "execution_count": 26,
   "metadata": {},
   "outputs": [
    {
     "name": "stdout",
     "output_type": "stream",
     "text": [
      "171\n"
     ]
    },
    {
     "data": {
      "text/plain": [
       "ID    True\n",
       "Name: 1, dtype: bool"
      ]
     },
     "execution_count": 26,
     "metadata": {},
     "output_type": "execute_result"
    }
   ],
   "source": [
    "\n",
    "print(len(std))\n",
    "std.loc[1]==9607411478166586232"
   ]
  },
  {
   "cell_type": "code",
   "execution_count": 40,
   "metadata": {
    "scrolled": true
   },
   "outputs": [
    {
     "name": "stdout",
     "output_type": "stream",
     "text": [
      "result: (('0114705900910300310', Decimal('0.00')),)\n",
      "result: (('0448295279107571811', Decimal('13779.99')),)\n",
      "result: (('0580685293944617743', Decimal('1427.13')),)\n"
     ]
    }
   ],
   "source": [
    "import pymysql\n",
    "\n",
    "station = pd.read_csv('D:/station_id.txt',encoding='utf-8',sep='\\t')\n",
    "\n",
    "# 创建和数据库服务器的连接 ,三代平台数据库\n",
    "db = pymysql.connect(host='106.15.223.235', port=3306, user='readonly', \n",
    "                     password='abc123$%',database='renwochong', charset='utf8')\n",
    "\n",
    "cursor = db.cursor()\n",
    "\n",
    "for i in range(3):\n",
    "\n",
    "    sql = \"\"\"select station_id ,sum(charge_energy) from qs_charge_order where \n",
    "    station_id = %d and \n",
    "    charge_end_time >= 20190101 and charge_end_time < 20190201;\"\"\"%(station.loc[i])\n",
    "\n",
    "    try:\n",
    "        #执行sql语句\n",
    "        cursor.execute(sql)\n",
    "        res = cursor.fetchall()\n",
    "        print('result:',res)\n",
    "    #         with open('D:/1_energy.txt'%i,encoding='utf-8',mode='a+') as res_que:\n",
    "    #             res_que.write(str(res) +  '\\n')\n",
    "\n",
    "    except:\n",
    "          db.rollback()\n",
    "\n",
    "\n",
    "#关闭游标和连接\n",
    "cursor.close()\n",
    "db.close()"
   ]
  },
  {
   "cell_type": "code",
   "execution_count": 58,
   "metadata": {},
   "outputs": [
    {
     "name": "stdout",
     "output_type": "stream",
     "text": [
      "201907026 ((225,),)\n",
      "201907027 ((288,),)\n",
      "201907028 ((384,),)\n",
      "201907029 ((457,),)\n",
      "201907030 ((422,),)\n"
     ]
    }
   ],
   "source": [
    "import pymysql\n",
    "# 创建和数据库服务器的连接 \n",
    "db = pymysql.connect(host='47.101.24.108', port=3306, user='duli', \n",
    "                     password='Duli@2019',database='d_charger', charset='utf8')\n",
    "\n",
    "cursor = db.cursor()\n",
    "\n",
    "for i in range(26,31):\n",
    "\n",
    "    sql = \"\"\"select count(order_electricity) from t_charger_order where \n",
    "    (station_id=1116260613269925889 or station_id=20190620758035403755788743) \n",
    "    and create_time >= 201906%d and create_time < 201906%d and order_price >0 and service_price= 0;\"\"\"%(i,i+1)\n",
    "    try:\n",
    "        cursor.execute(sql)\n",
    "        res = cursor.fetchall()\n",
    "        print('2019070%d'%i,res)\n",
    "#         with open('D:/stdid6396_06.txt',encoding='utf-8',mode='a+') as res_que:\n",
    "#             res_que.write('201906%d'%i +str(res) +  '\\n')\n",
    "\n",
    "    except:\n",
    "          db.rollback()\n",
    "\n",
    "#关闭游标和连接\n",
    "cursor.close()\n",
    "db.close()\n"
   ]
  },
  {
   "cell_type": "code",
   "execution_count": 2,
   "metadata": {},
   "outputs": [
    {
     "data": {
      "text/html": [
       "<div>\n",
       "<style scoped>\n",
       "    .dataframe tbody tr th:only-of-type {\n",
       "        vertical-align: middle;\n",
       "    }\n",
       "\n",
       "    .dataframe tbody tr th {\n",
       "        vertical-align: top;\n",
       "    }\n",
       "\n",
       "    .dataframe thead th {\n",
       "        text-align: right;\n",
       "    }\n",
       "</style>\n",
       "<table border=\"1\" class=\"dataframe\">\n",
       "  <thead>\n",
       "    <tr style=\"text-align: right;\">\n",
       "      <th></th>\n",
       "      <th>charge_energy</th>\n",
       "    </tr>\n",
       "    <tr>\n",
       "      <th>date</th>\n",
       "      <th></th>\n",
       "    </tr>\n",
       "  </thead>\n",
       "  <tbody>\n",
       "    <tr>\n",
       "      <th>2018-01-01</th>\n",
       "      <td>10783</td>\n",
       "    </tr>\n",
       "    <tr>\n",
       "      <th>2018-01-02</th>\n",
       "      <td>13691</td>\n",
       "    </tr>\n",
       "  </tbody>\n",
       "</table>\n",
       "</div>"
      ],
      "text/plain": [
       "            charge_energy\n",
       "date                     \n",
       "2018-01-01          10783\n",
       "2018-01-02          13691"
      ]
     },
     "execution_count": 2,
     "metadata": {},
     "output_type": "execute_result"
    }
   ],
   "source": [
    "order = pd.read_csv('D:/1819_energy.txt',encoding='utf-8',header=0,parse_dates=[0],index_col=0)\n",
    "order.head(2)"
   ]
  },
  {
   "cell_type": "code",
   "execution_count": 3,
   "metadata": {},
   "outputs": [
    {
     "name": "stderr",
     "output_type": "stream",
     "text": [
      "D:\\software\\Anaconda-InstallFiles\\lib\\site-packages\\matplotlib\\figure.py:445: UserWarning: Matplotlib is currently using module://ipykernel.pylab.backend_inline, which is a non-GUI backend, so cannot show the figure.\n",
      "  % get_backend())\n"
     ]
    },
    {
     "data": {
      "image/png": "[encoded data removed]",
      "text/plain": [
       "<Figure size 432x288 with 1 Axes>"
      ]
     },
     "metadata": {
      "needs_background": "light"
     },
     "output_type": "display_data"
    }
   ],
   "source": [
    "from statsmodels.graphics.tsaplots import plot_acf\n",
    "plot_acf(order[:50]).show()"
   ]
  },
  {
   "cell_type": "code",
   "execution_count": 4,
   "metadata": {},
   "outputs": [
    {
     "name": "stdout",
     "output_type": "stream",
     "text": [
      "原始序列adf检验结果为： (-0.42812252314599714, 0.9052963778074274, 16, 487, {'1%': -3.443849184997939, '5%': -2.8674931065091105, '10%': -2.569940776113236}, 10687.044823563268)\n"
     ]
    }
   ],
   "source": [
    "from statsmodels.tsa.stattools import adfuller as adf\n",
    "print('原始序列adf检验结果为：',adf(order['charge_energy']))"
   ]
  },
  {
   "cell_type": "code",
   "execution_count": 5,
   "metadata": {},
   "outputs": [],
   "source": [
    "diff_order = order.diff().dropna()\n",
    "diff_order.columns= ['diff_charge_energy']"
   ]
  },
  {
   "cell_type": "code",
   "execution_count": 6,
   "metadata": {},
   "outputs": [
    {
     "data": {
      "text/plain": [
       "<matplotlib.axes._subplots.AxesSubplot at 0x1afcc3dbac8>"
      ]
     },
     "execution_count": 6,
     "metadata": {},
     "output_type": "execute_result"
    },
    {
     "data": {
      "image/png": "[encoded data removed]",
      "text/plain": [
       "<Figure size 432x288 with 1 Axes>"
      ]
     },
     "metadata": {
      "needs_background": "light"
     },
     "output_type": "display_data"
    }
   ],
   "source": [
    "diff_order.plot()"
   ]
  },
  {
   "cell_type": "code",
   "execution_count": 7,
   "metadata": {},
   "outputs": [
    {
     "data": {
      "image/png": "[encoded data removed]",
      "text/plain": [
       "<Figure size 432x288 with 1 Axes>"
      ]
     },
     "execution_count": 7,
     "metadata": {},
     "output_type": "execute_result"
    },
    {
     "data": {
      "image/png": "[encoded data removed]",
      "text/plain": [
       "<Figure size 432x288 with 1 Axes>"
      ]
     },
     "metadata": {
      "needs_background": "light"
     },
     "output_type": "display_data"
    }
   ],
   "source": [
    "plot_acf(diff_order)"
   ]
  },
  {
   "cell_type": "code",
   "execution_count": 8,
   "metadata": {},
   "outputs": [
    {
     "name": "stderr",
     "output_type": "stream",
     "text": [
      "D:\\software\\Anaconda-InstallFiles\\lib\\site-packages\\statsmodels\\regression\\linear_model.py:1283: RuntimeWarning: invalid value encountered in sqrt\n",
      "  return rho, np.sqrt(sigmasq)\n"
     ]
    },
    {
     "data": {
      "image/png": "[encoded data removed]",
      "text/plain": [
       "<Figure size 432x288 with 1 Axes>"
      ]
     },
     "execution_count": 8,
     "metadata": {},
     "output_type": "execute_result"
    },
    {
     "data": {
      "image/png": "[encoded data removed]",
      "text/plain": [
       "<Figure size 432x288 with 1 Axes>"
      ]
     },
     "metadata": {
      "needs_background": "light"
     },
     "output_type": "display_data"
    }
   ],
   "source": [
    "from statsmodels.graphics.tsaplots import plot_pacf\n",
    "plot_pacf(diff_order)"
   ]
  },
  {
   "cell_type": "code",
   "execution_count": 10,
   "metadata": {},
   "outputs": [
    {
     "name": "stdout",
     "output_type": "stream",
     "text": [
      "差分后的sdf检验结果： (-7.839975292094017, 5.973122938906084e-12, 18, 484, {'1%': -3.4439333076538854, '5%': -2.8675301216074414, '10%': -2.56996050355167}, 10663.662431532228)\n"
     ]
    }
   ],
   "source": [
    "print('差分后的sdf检验结果：',adf(diff_order['diff_charge_energy']))"
   ]
  },
  {
   "cell_type": "code",
   "execution_count": 11,
   "metadata": {},
   "outputs": [
    {
     "name": "stdout",
     "output_type": "stream",
     "text": [
      "差分序列白噪声检验结果： (array([0.00300844]), array([0.95625858]))\n"
     ]
    }
   ],
   "source": [
    "from statsmodels.stats.diagnostic import acorr_ljungbox\n",
    "print('差分序列白噪声检验结果：',acorr_ljungbox(diff_order,lags=1))"
   ]
  },
  {
   "cell_type": "code",
   "execution_count": 115,
   "metadata": {
    "scrolled": true
   },
   "outputs": [
    {
     "data": {
      "text/html": [
       "<div>\n",
       "<style scoped>\n",
       "    .dataframe tbody tr th:only-of-type {\n",
       "        vertical-align: middle;\n",
       "    }\n",
       "\n",
       "    .dataframe tbody tr th {\n",
       "        vertical-align: top;\n",
       "    }\n",
       "\n",
       "    .dataframe thead th {\n",
       "        text-align: right;\n",
       "    }\n",
       "</style>\n",
       "<table border=\"1\" class=\"dataframe\">\n",
       "  <thead>\n",
       "    <tr style=\"text-align: right;\">\n",
       "      <th></th>\n",
       "      <th>charge_mode</th>\n",
       "      <th>charge_limit</th>\n",
       "      <th>charge_start_time</th>\n",
       "      <th>charge_end_time</th>\n",
       "      <th>charge_energy</th>\n",
       "      <th>charge_total_fee</th>\n",
       "      <th>begin_soc</th>\n",
       "      <th>last_soc</th>\n",
       "      <th>VINCode</th>\n",
       "    </tr>\n",
       "  </thead>\n",
       "  <tbody>\n",
       "    <tr>\n",
       "      <th>0</th>\n",
       "      <td>0</td>\n",
       "      <td>0.0</td>\n",
       "      <td>5/7/2019 03:42:51</td>\n",
       "      <td>5/7/2019 04:15:47</td>\n",
       "      <td>28.99</td>\n",
       "      <td>20.0</td>\n",
       "      <td>57.0</td>\n",
       "      <td>95.0</td>\n",
       "      <td>4C47584345364442374A30313530343135</td>\n",
       "    </tr>\n",
       "    <tr>\n",
       "      <th>1</th>\n",
       "      <td>0</td>\n",
       "      <td>0.0</td>\n",
       "      <td>16/6/2019 06:37:29</td>\n",
       "      <td>16/6/2019 07:23:59</td>\n",
       "      <td>39.64</td>\n",
       "      <td>50.0</td>\n",
       "      <td>12.0</td>\n",
       "      <td>83.0</td>\n",
       "      <td>4C47584345364442334A30323437323338</td>\n",
       "    </tr>\n",
       "    <tr>\n",
       "      <th>2</th>\n",
       "      <td>1</td>\n",
       "      <td>30.0</td>\n",
       "      <td>5/6/2019 16:43:43</td>\n",
       "      <td>5/6/2019 17:30:46</td>\n",
       "      <td>20.33</td>\n",
       "      <td>30.0</td>\n",
       "      <td>30.0</td>\n",
       "      <td>86.0</td>\n",
       "      <td>FFFFFFFFFFFFFFFFFFFFFFFFFFFFFFFFFF</td>\n",
       "    </tr>\n",
       "  </tbody>\n",
       "</table>\n",
       "</div>"
      ],
      "text/plain": [
       "   charge_mode  charge_limit   charge_start_time     charge_end_time  \\\n",
       "0            0           0.0   5/7/2019 03:42:51   5/7/2019 04:15:47   \n",
       "1            0           0.0  16/6/2019 06:37:29  16/6/2019 07:23:59   \n",
       "2            1          30.0   5/6/2019 16:43:43   5/6/2019 17:30:46   \n",
       "\n",
       "   charge_energy  charge_total_fee  begin_soc  last_soc  \\\n",
       "0          28.99              20.0       57.0      95.0   \n",
       "1          39.64              50.0       12.0      83.0   \n",
       "2          20.33              30.0       30.0      86.0   \n",
       "\n",
       "                              VINCode  \n",
       "0  4C47584345364442374A30313530343135  \n",
       "1  4C47584345364442334A30323437323338  \n",
       "2  FFFFFFFFFFFFFFFFFFFFFFFFFFFFFFFFFF  "
      ]
     },
     "execution_count": 115,
     "metadata": {},
     "output_type": "execute_result"
    }
   ],
   "source": [
    "gz = pd.read_csv('D:/guangzhou.csv',encoding='utf-8')\n",
    "gz.head(3)"
   ]
  },
  {
   "cell_type": "code",
   "execution_count": 116,
   "metadata": {},
   "outputs": [],
   "source": [
    "gz['start_time01'] = pd.to_datetime(gz['charge_start_time'],dayfirst=True)\n",
    "gz['start_time01'] = pd.to_datetime(gz['start_time01']).dt.date"
   ]
  },
  {
   "cell_type": "code",
   "execution_count": 117,
   "metadata": {},
   "outputs": [
    {
     "name": "stderr",
     "output_type": "stream",
     "text": [
      "D:\\software\\Anaconda-InstallFiles\\lib\\site-packages\\ipykernel_launcher.py:2: SettingWithCopyWarning: \n",
      "A value is trying to be set on a copy of a slice from a DataFrame\n",
      "\n",
      "See the caveats in the documentation: http://pandas.pydata.org/pandas-docs/stable/indexing.html#indexing-view-versus-copy\n",
      "  \n"
     ]
    }
   ],
   "source": [
    "for i in range(10):\n",
    "    gz['start_time01'][i] = gz['start_time01'][i].strftime('%Y-%m-%d')"
   ]
  },
  {
   "cell_type": "code",
   "execution_count": 118,
   "metadata": {},
   "outputs": [
    {
     "data": {
      "text/plain": [
       "True"
      ]
     },
     "execution_count": 118,
     "metadata": {},
     "output_type": "execute_result"
    }
   ],
   "source": [
    "gz['start_time01'][0]=='2019-07-05'"
   ]
  },
  {
   "cell_type": "code",
   "execution_count": 32,
   "metadata": {},
   "outputs": [],
   "source": [
    "sz = pd.read_csv('D:/shenz.txt',sep='\\t')"
   ]
  },
  {
   "cell_type": "code",
   "execution_count": 4,
   "metadata": {},
   "outputs": [],
   "source": [
    "import pandas as pd\n",
    "import jieba\n",
    "\n",
    "def word_cut(cars):\n",
    "    return [jieba.lcut(car) for car in cars]\n",
    "\n",
    "if __name__ == \"__main__\":\n",
    "    with open('D:/Project/Code/cars_count/201904.txt', 'r', encoding='utf-8') as fr:\n",
    "        content = fr.read()\n",
    "\n",
    "    list_content = [w.strip() for w in content.split('\\t\\n') if len(w.strip()) != 0]\n",
    "    tmp = list_content[0].split('\\n\\n')\n",
    "    title = tmp[:-1]\n",
    "    cars = list_content[1:]\n",
    "    cars[0:0] = [tmp[-1]]\n",
    "    car_type = set([w.strip() for w in open('D:/Project/Code/cars_count/car_type.txt',encoding='UTF-8-sig').readlines()])\n",
    "    car_info = set([w.strip() for w in open('D:/Project/Code/cars_count/car_info.txt',encoding='UTF-8-sig').readlines()])\n",
    "    jieba.load_userdict('D:/Project/Code/cars_count/car_info.txt')\n",
    "    jieba.load_userdict('D:/Project/Code/cars_count/car_type.txt')\n",
    "    cars_cut = word_cut([car.split('\\n')[0].strip() for car in cars])\n",
    "    type_index = [index for index,car_cut in enumerate(cars_cut) if not set(car_cut).isdisjoint(car_type)]\n",
    "\n",
    "    cars_type = pd.Series(cars).iloc[type_index]\n",
    "    cars_type_sentences = [i.split('\\n') for i in cars_type]\n",
    "    cars_type_info = []\n",
    "    for car_type_sentences in cars_type_sentences:\n",
    "        car_type_sentences_cut = word_cut(car_type_sentences[2:])\n",
    "        car_type_info = [car_type_sentences[0],car_type_sentences[1]]\n",
    "        for index,sentence in enumerate(car_type_sentences_cut):\n",
    "            if not set(sentence).isdisjoint(car_info):\n",
    "                car_type_info.append(car_type_sentences[index + 2])\n",
    "        cars_type_info.append(car_type_info)\n",
    "\n",
    "    with open('D:/Project/Code/cars_count/201904bk.txt','w',encoding='utf-8') as fw:\n",
    "        txt = '\\n\\n'.join(title)\n",
    "        fw.write(txt)\n",
    "        fw.write('\\n\\n')\n",
    "        for i in cars_type_info:\n",
    "            txt = '\\n'.join(i)\n",
    "            fw.write(txt)\n",
    "            fw.write('\\n\\n\\n\\t\\n')"
   ]
  },
  {
   "cell_type": "code",
   "execution_count": 28,
   "metadata": {},
   "outputs": [
    {
     "name": "stdout",
     "output_type": "stream",
     "text": [
      "2019-07-06 06:04:26\n"
     ]
    },
    {
     "ename": "AttributeError",
     "evalue": "'int' object has no attribute 'timetuple'",
     "output_type": "error",
     "traceback": [
      "\u001b[1;31m---------------------------------------------------------------------------\u001b[0m",
      "\u001b[1;31mAttributeError\u001b[0m                            Traceback (most recent call last)",
      "\u001b[1;32m<ipython-input-28-1de700c77f1e>\u001b[0m in \u001b[0;36m<module>\u001b[1;34m\u001b[0m\n\u001b[0;32m      4\u001b[0m \u001b[0mprint\u001b[0m\u001b[1;33m(\u001b[0m\u001b[0mt\u001b[0m\u001b[1;33m)\u001b[0m\u001b[1;33m\u001b[0m\u001b[1;33m\u001b[0m\u001b[0m\n\u001b[0;32m      5\u001b[0m \u001b[0mnow\u001b[0m \u001b[1;33m=\u001b[0m \u001b[1;36m20190706142020\u001b[0m\u001b[1;33m\u001b[0m\u001b[1;33m\u001b[0m\u001b[0m\n\u001b[1;32m----> 6\u001b[1;33m \u001b[0ms1\u001b[0m \u001b[1;33m=\u001b[0m \u001b[0mnow\u001b[0m\u001b[1;33m.\u001b[0m\u001b[0mtimetuple\u001b[0m\u001b[1;33m(\u001b[0m\u001b[1;33m)\u001b[0m\u001b[1;33m\u001b[0m\u001b[1;33m\u001b[0m\u001b[0m\n\u001b[0m\u001b[0;32m      7\u001b[0m \u001b[0ms\u001b[0m \u001b[1;33m=\u001b[0m \u001b[0mtime\u001b[0m\u001b[1;33m.\u001b[0m\u001b[0mmktime\u001b[0m\u001b[1;33m(\u001b[0m\u001b[0ms1\u001b[0m\u001b[1;33m)\u001b[0m\u001b[1;33m\u001b[0m\u001b[1;33m\u001b[0m\u001b[0m\n\u001b[0;32m      8\u001b[0m \u001b[0mprint\u001b[0m\u001b[1;33m(\u001b[0m\u001b[0ms\u001b[0m\u001b[1;33m)\u001b[0m\u001b[1;33m\u001b[0m\u001b[1;33m\u001b[0m\u001b[0m\n",
      "\u001b[1;31mAttributeError\u001b[0m: 'int' object has no attribute 'timetuple'"
     ]
    }
   ],
   "source": [
    "import time\n",
    "import datetime\n",
    "t = datetime.datetime.fromtimestamp(1562364266)\n",
    "print(t)\n",
    "now = 20190706142020\n",
    "s1 = now.timetuple()\n",
    "s = time.mktime(s1)\n",
    "print(s)\n"
   ]
  },
  {
   "cell_type": "code",
   "execution_count": 43,
   "metadata": {
    "scrolled": true
   },
   "outputs": [
    {
     "name": "stdout",
     "output_type": "stream",
     "text": [
      "      data1\n",
      "key1       \n",
      "a         2\n",
      "b         2\n",
      "c         1\n",
      "('a',   key1     data1\n",
      "0    a  1.859189\n",
      "4    a -0.735210)\n",
      "('b',   key1     data1\n",
      "2    b -0.766142\n",
      "3    b  2.121208)\n",
      "('c',   key1     data1\n",
      "1    c  0.837926)\n"
     ]
    }
   ],
   "source": [
    "import pandas as pd\n",
    "import numpy as np\n",
    "df = pd.DataFrame({'key1' : ['a', 'c', 'b', 'b', 'a'],'data1' : np.random.randn(5)})\n",
    "res = df.groupby(\"key1\")\n",
    "print(res.count())\n",
    "for gp in res:\n",
    "    print(gp)"
   ]
  },
  {
   "cell_type": "code",
   "execution_count": 229,
   "metadata": {
    "scrolled": false
   },
   "outputs": [
    {
     "data": {
      "text/html": [
       "<div>\n",
       "<style scoped>\n",
       "    .dataframe tbody tr th:only-of-type {\n",
       "        vertical-align: middle;\n",
       "    }\n",
       "\n",
       "    .dataframe tbody tr th {\n",
       "        vertical-align: top;\n",
       "    }\n",
       "\n",
       "    .dataframe thead th {\n",
       "        text-align: right;\n",
       "    }\n",
       "</style>\n",
       "<table border=\"1\" class=\"dataframe\">\n",
       "  <thead>\n",
       "    <tr style=\"text-align: right;\">\n",
       "      <th></th>\n",
       "      <th>station_id</th>\n",
       "      <th>pile_id</th>\n",
       "      <th>sum(charge_energy)</th>\n",
       "      <th>sum(charge_total_fee)</th>\n",
       "      <th>months</th>\n",
       "    </tr>\n",
       "  </thead>\n",
       "  <tbody>\n",
       "    <tr>\n",
       "      <th>0</th>\n",
       "      <td></td>\n",
       "      <td>07041830000</td>\n",
       "      <td>521.19</td>\n",
       "      <td>624.13</td>\n",
       "      <td>201901</td>\n",
       "    </tr>\n",
       "    <tr>\n",
       "      <th>1</th>\n",
       "      <td></td>\n",
       "      <td>07041830000</td>\n",
       "      <td>7211.29</td>\n",
       "      <td>8640.60</td>\n",
       "      <td>201902</td>\n",
       "    </tr>\n",
       "    <tr>\n",
       "      <th>2</th>\n",
       "      <td></td>\n",
       "      <td>07041830000</td>\n",
       "      <td>2924.91</td>\n",
       "      <td>3503.85</td>\n",
       "      <td>201903</td>\n",
       "    </tr>\n",
       "  </tbody>\n",
       "</table>\n",
       "</div>"
      ],
      "text/plain": [
       "  station_id      pile_id  sum(charge_energy)  sum(charge_total_fee)  months\n",
       "0             07041830000              521.19                 624.13  201901\n",
       "1             07041830000             7211.29                8640.60  201902\n",
       "2             07041830000             2924.91                3503.85  201903"
      ]
     },
     "execution_count": 229,
     "metadata": {},
     "output_type": "execute_result"
    }
   ],
   "source": [
    "energy_m = pd.read_csv('D:/201901-06按月取.txt',encoding='utf-8',sep='\\t')\n",
    "energy_m.head(3)"
   ]
  },
  {
   "cell_type": "code",
   "execution_count": 230,
   "metadata": {},
   "outputs": [
    {
     "data": {
      "text/plain": [
       "71022239.05"
      ]
     },
     "execution_count": 230,
     "metadata": {},
     "output_type": "execute_result"
    }
   ],
   "source": [
    "energy_m['sum(charge_energy)'].sum()"
   ]
  },
  {
   "cell_type": "code",
   "execution_count": 231,
   "metadata": {},
   "outputs": [
    {
     "data": {
      "text/html": [
       "<div>\n",
       "<style scoped>\n",
       "    .dataframe tbody tr th:only-of-type {\n",
       "        vertical-align: middle;\n",
       "    }\n",
       "\n",
       "    .dataframe tbody tr th {\n",
       "        vertical-align: top;\n",
       "    }\n",
       "\n",
       "    .dataframe thead th {\n",
       "        text-align: right;\n",
       "    }\n",
       "</style>\n",
       "<table border=\"1\" class=\"dataframe\">\n",
       "  <thead>\n",
       "    <tr style=\"text-align: right;\">\n",
       "      <th></th>\n",
       "      <th>station_id</th>\n",
       "      <th>pile_id</th>\n",
       "      <th>sum(charge_energy)</th>\n",
       "      <th>sum(charge_total_fee)</th>\n",
       "      <th>months</th>\n",
       "    </tr>\n",
       "  </thead>\n",
       "  <tbody>\n",
       "    <tr>\n",
       "      <th>13016</th>\n",
       "      <td>9973240318022905599</td>\n",
       "      <td>18081160000</td>\n",
       "      <td>2827.34</td>\n",
       "      <td>2297.02</td>\n",
       "      <td>201901</td>\n",
       "    </tr>\n",
       "    <tr>\n",
       "      <th>13017</th>\n",
       "      <td>9973240318022905599</td>\n",
       "      <td>18081160000</td>\n",
       "      <td>2207.30</td>\n",
       "      <td>1854.69</td>\n",
       "      <td>201902</td>\n",
       "    </tr>\n",
       "  </tbody>\n",
       "</table>\n",
       "</div>"
      ],
      "text/plain": [
       "                station_id      pile_id  sum(charge_energy)  \\\n",
       "13016  9973240318022905599  18081160000             2827.34   \n",
       "13017  9973240318022905599  18081160000             2207.30   \n",
       "\n",
       "       sum(charge_total_fee)  months  \n",
       "13016                2297.02  201901  \n",
       "13017                1854.69  201902  "
      ]
     },
     "execution_count": 231,
     "metadata": {},
     "output_type": "execute_result"
    }
   ],
   "source": [
    "energy_m[energy_m['station_id']=='9973240318022905599'].head(2)"
   ]
  },
  {
   "cell_type": "code",
   "execution_count": 232,
   "metadata": {},
   "outputs": [
    {
     "data": {
      "text/html": [
       "<div>\n",
       "<style scoped>\n",
       "    .dataframe tbody tr th:only-of-type {\n",
       "        vertical-align: middle;\n",
       "    }\n",
       "\n",
       "    .dataframe tbody tr th {\n",
       "        vertical-align: top;\n",
       "    }\n",
       "\n",
       "    .dataframe thead th {\n",
       "        text-align: right;\n",
       "    }\n",
       "</style>\n",
       "<table border=\"1\" class=\"dataframe\">\n",
       "  <thead>\n",
       "    <tr style=\"text-align: right;\">\n",
       "      <th></th>\n",
       "      <th>sum(charge_energy)</th>\n",
       "      <th>sum(charge_total_fee)</th>\n",
       "      <th>months</th>\n",
       "    </tr>\n",
       "  </thead>\n",
       "  <tbody>\n",
       "    <tr>\n",
       "      <th>count</th>\n",
       "      <td>13088.000000</td>\n",
       "      <td>1.308800e+04</td>\n",
       "      <td>13088.000000</td>\n",
       "    </tr>\n",
       "    <tr>\n",
       "      <th>mean</th>\n",
       "      <td>5426.515820</td>\n",
       "      <td>5.719603e+03</td>\n",
       "      <td>201903.610712</td>\n",
       "    </tr>\n",
       "    <tr>\n",
       "      <th>std</th>\n",
       "      <td>15998.419508</td>\n",
       "      <td>2.077721e+04</td>\n",
       "      <td>1.726452</td>\n",
       "    </tr>\n",
       "    <tr>\n",
       "      <th>min</th>\n",
       "      <td>0.010000</td>\n",
       "      <td>0.000000e+00</td>\n",
       "      <td>201901.000000</td>\n",
       "    </tr>\n",
       "    <tr>\n",
       "      <th>25%</th>\n",
       "      <td>44.000000</td>\n",
       "      <td>4.764250e+01</td>\n",
       "      <td>201902.000000</td>\n",
       "    </tr>\n",
       "    <tr>\n",
       "      <th>50%</th>\n",
       "      <td>1681.460000</td>\n",
       "      <td>1.707875e+03</td>\n",
       "      <td>201904.000000</td>\n",
       "    </tr>\n",
       "    <tr>\n",
       "      <th>75%</th>\n",
       "      <td>7074.297500</td>\n",
       "      <td>7.186315e+03</td>\n",
       "      <td>201905.000000</td>\n",
       "    </tr>\n",
       "    <tr>\n",
       "      <th>max</th>\n",
       "      <td>796997.350000</td>\n",
       "      <td>1.133560e+06</td>\n",
       "      <td>201906.000000</td>\n",
       "    </tr>\n",
       "  </tbody>\n",
       "</table>\n",
       "</div>"
      ],
      "text/plain": [
       "       sum(charge_energy)  sum(charge_total_fee)         months\n",
       "count        13088.000000           1.308800e+04   13088.000000\n",
       "mean          5426.515820           5.719603e+03  201903.610712\n",
       "std          15998.419508           2.077721e+04       1.726452\n",
       "min              0.010000           0.000000e+00  201901.000000\n",
       "25%             44.000000           4.764250e+01  201902.000000\n",
       "50%           1681.460000           1.707875e+03  201904.000000\n",
       "75%           7074.297500           7.186315e+03  201905.000000\n",
       "max         796997.350000           1.133560e+06  201906.000000"
      ]
     },
     "execution_count": 232,
     "metadata": {},
     "output_type": "execute_result"
    }
   ],
   "source": [
    "energy_m.describe()"
   ]
  },
  {
   "cell_type": "code",
   "execution_count": 233,
   "metadata": {},
   "outputs": [
    {
     "data": {
      "text/plain": [
       "station_id               252\n",
       "pile_id                  252\n",
       "sum(charge_energy)       252\n",
       "sum(charge_total_fee)    252\n",
       "months                   252\n",
       "dtype: int64"
      ]
     },
     "execution_count": 233,
     "metadata": {},
     "output_type": "execute_result"
    }
   ],
   "source": [
    "energy_m[energy_m['sum(charge_energy)'] > 30000].count()"
   ]
  },
  {
   "cell_type": "code",
   "execution_count": 234,
   "metadata": {},
   "outputs": [
    {
     "data": {
      "text/plain": [
       "Int64Index([   93,    94,    95,    96,    97,    98,   193,   194,   195,\n",
       "              196,\n",
       "            ...\n",
       "            12135, 12136, 12137, 12139, 12140, 12141, 12544, 12545, 12546,\n",
       "            12547],\n",
       "           dtype='int64', length=252)"
      ]
     },
     "execution_count": 234,
     "metadata": {},
     "output_type": "execute_result"
    }
   ],
   "source": [
    "energy_m[energy_m['sum(charge_energy)'] > 30000].index"
   ]
  },
  {
   "cell_type": "code",
   "execution_count": 237,
   "metadata": {},
   "outputs": [
    {
     "data": {
      "text/plain": [
       "Int64Index([1330], dtype='int64')"
      ]
     },
     "execution_count": 237,
     "metadata": {},
     "output_type": "execute_result"
    }
   ],
   "source": [
    "energy_m[energy_m['sum(charge_energy)'] == energy_m['sum(charge_energy)'].max()].index"
   ]
  },
  {
   "cell_type": "code",
   "execution_count": 239,
   "metadata": {},
   "outputs": [
    {
     "data": {
      "text/html": [
       "<div>\n",
       "<style scoped>\n",
       "    .dataframe tbody tr th:only-of-type {\n",
       "        vertical-align: middle;\n",
       "    }\n",
       "\n",
       "    .dataframe tbody tr th {\n",
       "        vertical-align: top;\n",
       "    }\n",
       "\n",
       "    .dataframe thead th {\n",
       "        text-align: right;\n",
       "    }\n",
       "</style>\n",
       "<table border=\"1\" class=\"dataframe\">\n",
       "  <thead>\n",
       "    <tr style=\"text-align: right;\">\n",
       "      <th></th>\n",
       "      <th>station_id</th>\n",
       "      <th>pile_id</th>\n",
       "      <th>sum(charge_energy)</th>\n",
       "      <th>sum(charge_total_fee)</th>\n",
       "      <th>months</th>\n",
       "    </tr>\n",
       "  </thead>\n",
       "  <tbody>\n",
       "    <tr>\n",
       "      <th>1330</th>\n",
       "      <td></td>\n",
       "      <td>25001935737</td>\n",
       "      <td>796997.35</td>\n",
       "      <td>1133560.50</td>\n",
       "      <td>201901</td>\n",
       "    </tr>\n",
       "    <tr>\n",
       "      <th>1331</th>\n",
       "      <td></td>\n",
       "      <td>25001935737</td>\n",
       "      <td>663612.09</td>\n",
       "      <td>921882.92</td>\n",
       "      <td>201902</td>\n",
       "    </tr>\n",
       "    <tr>\n",
       "      <th>1332</th>\n",
       "      <td></td>\n",
       "      <td>25001935737</td>\n",
       "      <td>519026.57</td>\n",
       "      <td>711752.77</td>\n",
       "      <td>201903</td>\n",
       "    </tr>\n",
       "    <tr>\n",
       "      <th>1333</th>\n",
       "      <td></td>\n",
       "      <td>25001935737</td>\n",
       "      <td>427.36</td>\n",
       "      <td>488.86</td>\n",
       "      <td>201904</td>\n",
       "    </tr>\n",
       "    <tr>\n",
       "      <th>1334</th>\n",
       "      <td></td>\n",
       "      <td>25001935737</td>\n",
       "      <td>470.28</td>\n",
       "      <td>552.96</td>\n",
       "      <td>201905</td>\n",
       "    </tr>\n",
       "    <tr>\n",
       "      <th>1335</th>\n",
       "      <td></td>\n",
       "      <td>25001935737</td>\n",
       "      <td>396457.56</td>\n",
       "      <td>540701.82</td>\n",
       "      <td>201906</td>\n",
       "    </tr>\n",
       "  </tbody>\n",
       "</table>\n",
       "</div>"
      ],
      "text/plain": [
       "     station_id      pile_id  sum(charge_energy)  sum(charge_total_fee)  \\\n",
       "1330             25001935737           796997.35             1133560.50   \n",
       "1331             25001935737           663612.09              921882.92   \n",
       "1332             25001935737           519026.57              711752.77   \n",
       "1333             25001935737              427.36                 488.86   \n",
       "1334             25001935737              470.28                 552.96   \n",
       "1335             25001935737           396457.56              540701.82   \n",
       "\n",
       "      months  \n",
       "1330  201901  \n",
       "1331  201902  \n",
       "1332  201903  \n",
       "1333  201904  \n",
       "1334  201905  \n",
       "1335  201906  "
      ]
     },
     "execution_count": 239,
     "metadata": {},
     "output_type": "execute_result"
    }
   ],
   "source": [
    "energy_m.loc[1330:1335]"
   ]
  },
  {
   "cell_type": "code",
   "execution_count": 271,
   "metadata": {},
   "outputs": [
    {
     "data": {
      "text/plain": [
       "36421.63"
      ]
     },
     "execution_count": 271,
     "metadata": {},
     "output_type": "execute_result"
    }
   ],
   "source": [
    "order01 = energy_m[energy_m['months']==201901]\n",
    "order01[order01['station_id']=='9973240318022905599']['sum(charge_energy)'].sum()"
   ]
  },
  {
   "cell_type": "code",
   "execution_count": 273,
   "metadata": {},
   "outputs": [
    {
     "data": {
      "text/html": [
       "<div>\n",
       "<style scoped>\n",
       "    .dataframe tbody tr th:only-of-type {\n",
       "        vertical-align: middle;\n",
       "    }\n",
       "\n",
       "    .dataframe tbody tr th {\n",
       "        vertical-align: top;\n",
       "    }\n",
       "\n",
       "    .dataframe thead th {\n",
       "        text-align: right;\n",
       "    }\n",
       "</style>\n",
       "<table border=\"1\" class=\"dataframe\">\n",
       "  <thead>\n",
       "    <tr style=\"text-align: right;\">\n",
       "      <th></th>\n",
       "      <th>station_id</th>\n",
       "      <th>sum(charge_energy)</th>\n",
       "      <th>months</th>\n",
       "    </tr>\n",
       "  </thead>\n",
       "  <tbody>\n",
       "    <tr>\n",
       "      <th>0</th>\n",
       "      <td></td>\n",
       "      <td>1140817.34</td>\n",
       "      <td>201901</td>\n",
       "    </tr>\n",
       "    <tr>\n",
       "      <th>1</th>\n",
       "      <td></td>\n",
       "      <td>501196.63</td>\n",
       "      <td>201901</td>\n",
       "    </tr>\n",
       "  </tbody>\n",
       "</table>\n",
       "</div>"
      ],
      "text/plain": [
       "  station_id  sum(charge_energy)  months\n",
       "0                     1140817.34  201901\n",
       "1                      501196.63  201901"
      ]
     },
     "execution_count": 273,
     "metadata": {},
     "output_type": "execute_result"
    }
   ],
   "source": [
    "months = pd.read_csv('D:/按月201901-06.txt',sep='\\t')\n",
    "months.head(2)"
   ]
  },
  {
   "cell_type": "code",
   "execution_count": 291,
   "metadata": {},
   "outputs": [
    {
     "data": {
      "text/plain": [
       "station_id            51\n",
       "sum(charge_energy)    51\n",
       "months                51\n",
       "dtype: int64"
      ]
     },
     "execution_count": 291,
     "metadata": {},
     "output_type": "execute_result"
    }
   ],
   "source": [
    "month01 = months[months['months']==201901]\n",
    "month01[month01['sum(charge_energy)'] > 50000].count()"
   ]
  },
  {
   "cell_type": "code",
   "execution_count": 297,
   "metadata": {},
   "outputs": [
    {
     "name": "stdout",
     "output_type": "stream",
     "text": [
      "station_id            165\n",
      "sum(charge_energy)    165\n",
      "months                165\n",
      "dtype: int64\n",
      "station_id            125\n",
      "sum(charge_energy)    125\n",
      "months                125\n",
      "dtype: int64\n",
      "station_id            108\n",
      "sum(charge_energy)    108\n",
      "months                108\n",
      "dtype: int64\n",
      "station_id            86\n",
      "sum(charge_energy)    86\n",
      "months                86\n",
      "dtype: int64\n"
     ]
    }
   ],
   "source": [
    "print(month01[month01['sum(charge_energy)'] <= 30000].count())\n",
    "print(month01[month01['sum(charge_energy)'] <= 10000].count())\n",
    "print(month01[month01['sum(charge_energy)'] <= 5000].count())\n",
    "print(month01[month01['sum(charge_energy)'] <= 2000].count())"
   ]
  },
  {
   "cell_type": "code",
   "execution_count": 3,
   "metadata": {},
   "outputs": [
    {
     "name": "stdout",
     "output_type": "stream",
     "text": [
      "pile0总充电量 222677.73\n",
      "pile1总充电量 62346599.870000005\n"
     ]
    },
    {
     "data": {
      "text/html": [
       "<div>\n",
       "<style scoped>\n",
       "    .dataframe tbody tr th:only-of-type {\n",
       "        vertical-align: middle;\n",
       "    }\n",
       "\n",
       "    .dataframe tbody tr th {\n",
       "        vertical-align: top;\n",
       "    }\n",
       "\n",
       "    .dataframe thead th {\n",
       "        text-align: right;\n",
       "    }\n",
       "</style>\n",
       "<table border=\"1\" class=\"dataframe\">\n",
       "  <thead>\n",
       "    <tr style=\"text-align: right;\">\n",
       "      <th></th>\n",
       "      <th>station_id</th>\n",
       "      <th>pile_id</th>\n",
       "      <th>sum(charge_energy)</th>\n",
       "      <th>sum(charge_total_fee)</th>\n",
       "      <th>months</th>\n",
       "      <th>device_id</th>\n",
       "    </tr>\n",
       "  </thead>\n",
       "  <tbody>\n",
       "    <tr>\n",
       "      <th>0</th>\n",
       "      <td>9351230731467768675</td>\n",
       "      <td>13013744187</td>\n",
       "      <td>0.39</td>\n",
       "      <td>0.73</td>\n",
       "      <td>201903</td>\n",
       "      <td>13013744187</td>\n",
       "    </tr>\n",
       "    <tr>\n",
       "      <th>1</th>\n",
       "      <td>4024774099062828090</td>\n",
       "      <td>14752974226</td>\n",
       "      <td>12.50</td>\n",
       "      <td>15.00</td>\n",
       "      <td>201901</td>\n",
       "      <td>14752974226</td>\n",
       "    </tr>\n",
       "  </tbody>\n",
       "</table>\n",
       "</div>"
      ],
      "text/plain": [
       "            station_id      pile_id  sum(charge_energy)  \\\n",
       "0  9351230731467768675  13013744187                0.39   \n",
       "1  4024774099062828090  14752974226               12.50   \n",
       "\n",
       "   sum(charge_total_fee)  months    device_id  \n",
       "0                   0.73  201903  13013744187  \n",
       "1                  15.00  201901  14752974226  "
      ]
     },
     "execution_count": 3,
     "metadata": {},
     "output_type": "execute_result"
    }
   ],
   "source": [
    "pile0 = pd.read_csv('D:/201901-06 pile0充电量.txt',sep='\\t')\n",
    "pile1 = pd.read_csv('D:/201901-06 pile1充电量.txt',sep='\\t')\n",
    "print('pile0总充电量',pile0['sum(charge_energy)'].sum())\n",
    "print('pile1总充电量',pile1['sum(charge_energy)'].sum())\n",
    "pile0.head(2)"
   ]
  },
  {
   "cell_type": "code",
   "execution_count": 4,
   "metadata": {},
   "outputs": [
    {
     "name": "stdout",
     "output_type": "stream",
     "text": [
      "pile0充电量： 222038.69\n",
      "pile1充电量： 62280526.67\n"
     ]
    }
   ],
   "source": [
    "#删除months=201907的行\n",
    "for i in pile1[pile1['months']==201907].index:\n",
    "    pile1.drop(index=i,inplace=True)\n",
    "\n",
    "for i in pile0[pile0['months']==201907].index:\n",
    "    pile0.drop(index=i,inplace=True)\n",
    "    \n",
    "#删除201907数据后\n",
    "print('pile0充电量：',pile0['sum(charge_energy)'].sum())\n",
    "print('pile1充电量：',pile1['sum(charge_energy)'].sum())"
   ]
  },
  {
   "cell_type": "code",
   "execution_count": 5,
   "metadata": {},
   "outputs": [
    {
     "name": "stdout",
     "output_type": "stream",
     "text": [
      "pile1 201901: 22108.84\n",
      "pile1 201902: 14635.97\n",
      "pile1 201903: 23184.829999999998\n",
      "pile1 201904: 42243.450000000004\n",
      "pile1 201905: 50317.19\n",
      "pile1 201906: 69547.82999999999\n"
     ]
    }
   ],
   "source": [
    "print('pile1 201901:',pile0[pile0['months']==201901]['sum(charge_energy)'].sum())\n",
    "print('pile1 201902:',pile0[pile0['months']==201902]['sum(charge_energy)'].sum())\n",
    "print('pile1 201903:',pile0[pile0['months']==201903]['sum(charge_energy)'].sum())\n",
    "print('pile1 201904:',pile0[pile0['months']==201904]['sum(charge_energy)'].sum())\n",
    "print('pile1 201905:',pile0[pile0['months']==201905]['sum(charge_energy)'].sum())\n",
    "print('pile1 201906:',pile0[pile0['months']==201906]['sum(charge_energy)'].sum())"
   ]
  },
  {
   "cell_type": "code",
   "execution_count": 6,
   "metadata": {},
   "outputs": [
    {
     "name": "stdout",
     "output_type": "stream",
     "text": [
      "pile0删除前pile_id数量： 1899\n",
      "pile0删除重复值后pile_id数量： 734\n",
      "pile1删除前pile_id数量： 8808\n",
      "pile1删除重复值后pile_id数量： 1828\n"
     ]
    }
   ],
   "source": [
    "print('pile0删除前pile_id数量：',pile0['pile_id'].count())\n",
    "#删除pile_id列中重复的pile_id\n",
    "pileid0 = pile0.drop_duplicates(['pile_id'])\n",
    "print('pile0删除重复值后pile_id数量：',pileid0['pile_id'].count())\n",
    "\n",
    "print('pile1删除前pile_id数量：',pile1['pile_id'].count())\n",
    "#删除pile_id列中重复的pile_id\n",
    "pileid1 = pile1.drop_duplicates(['pile_id'])\n",
    "print('pile1删除重复值后pile_id数量：',pileid1['pile_id'].count())"
   ]
  },
  {
   "cell_type": "code",
   "execution_count": 7,
   "metadata": {},
   "outputs": [
    {
     "name": "stdout",
     "output_type": "stream",
     "text": [
      "pile0每月桩数量： 275\n"
     ]
    }
   ],
   "source": [
    "print('pile0每月桩数量：',pile0[pile0['months']==201901]['pile_id'].count())"
   ]
  },
  {
   "cell_type": "code",
   "execution_count": 25,
   "metadata": {
    "scrolled": true
   },
   "outputs": [
    {
     "name": "stdout",
     "output_type": "stream",
     "text": [
      "6月份直流桩数量： 402\n",
      "6月份直流桩大于780度数量 station_id               18\n",
      "pile_id                  18\n",
      "sum(charge_energy)       18\n",
      "sum(charge_total_fee)    18\n",
      "months                   18\n",
      "device_id                18\n",
      "dtype: int64\n"
     ]
    }
   ],
   "source": [
    "pile0_6 = pile0[pile0['months']==201906]\n",
    "# pile0_6[pile0_6['sum(charge_energy)'] > 300].drop_duplicates(['station_id'])\n",
    "print('6月份直流桩数量：',pile0_6['sum(charge_energy)'].count())\n",
    "print('6月份直流桩大于780度数量',pile0_6[pile0_6['sum(charge_energy)'] >780].count())\n",
    "# print('6月份直流桩充电量总量:',pile1[pile1['months']==201906]['sum(charge_energy)'].sum())"
   ]
  },
  {
   "cell_type": "code",
   "execution_count": 12,
   "metadata": {
    "scrolled": true
   },
   "outputs": [
    {
     "data": {
      "text/html": [
       "<div>\n",
       "<style scoped>\n",
       "    .dataframe tbody tr th:only-of-type {\n",
       "        vertical-align: middle;\n",
       "    }\n",
       "\n",
       "    .dataframe tbody tr th {\n",
       "        vertical-align: top;\n",
       "    }\n",
       "\n",
       "    .dataframe thead th {\n",
       "        text-align: right;\n",
       "    }\n",
       "</style>\n",
       "<table border=\"1\" class=\"dataframe\">\n",
       "  <thead>\n",
       "    <tr style=\"text-align: right;\">\n",
       "      <th></th>\n",
       "      <th>station_id</th>\n",
       "      <th>pile_id</th>\n",
       "      <th>sum(charge_energy)</th>\n",
       "      <th>sum(charge_total_fee)</th>\n",
       "      <th>months</th>\n",
       "      <th>device_id</th>\n",
       "    </tr>\n",
       "  </thead>\n",
       "  <tbody>\n",
       "    <tr>\n",
       "      <th>659</th>\n",
       "      <td>1580250241520297763</td>\n",
       "      <td>18761260547</td>\n",
       "      <td>0.84</td>\n",
       "      <td>1.34</td>\n",
       "      <td>201906</td>\n",
       "      <td>18761260547</td>\n",
       "    </tr>\n",
       "    <tr>\n",
       "      <th>2149</th>\n",
       "      <td>1797141332929251125</td>\n",
       "      <td>11223344559</td>\n",
       "      <td>0.86</td>\n",
       "      <td>1.72</td>\n",
       "      <td>201906</td>\n",
       "      <td>11223344559</td>\n",
       "    </tr>\n",
       "    <tr>\n",
       "      <th>4962</th>\n",
       "      <td>7135617706601976474</td>\n",
       "      <td>18061640000</td>\n",
       "      <td>0.14</td>\n",
       "      <td>0.22</td>\n",
       "      <td>201906</td>\n",
       "      <td>18061640000</td>\n",
       "    </tr>\n",
       "    <tr>\n",
       "      <th>6867</th>\n",
       "      <td>8983518640135560799</td>\n",
       "      <td>18080240000</td>\n",
       "      <td>0.80</td>\n",
       "      <td>1.21</td>\n",
       "      <td>201906</td>\n",
       "      <td>18080240000</td>\n",
       "    </tr>\n",
       "    <tr>\n",
       "      <th>7389</th>\n",
       "      <td>7850536017815303394</td>\n",
       "      <td>18100250000</td>\n",
       "      <td>0.05</td>\n",
       "      <td>0.08</td>\n",
       "      <td>201906</td>\n",
       "      <td>18100250000</td>\n",
       "    </tr>\n",
       "    <tr>\n",
       "      <th>7801</th>\n",
       "      <td></td>\n",
       "      <td>18122970000</td>\n",
       "      <td>0.32</td>\n",
       "      <td>0.64</td>\n",
       "      <td>201906</td>\n",
       "      <td>18122970000</td>\n",
       "    </tr>\n",
       "    <tr>\n",
       "      <th>7808</th>\n",
       "      <td>6940371278808632260</td>\n",
       "      <td>18030150000</td>\n",
       "      <td>0.11</td>\n",
       "      <td>0.16</td>\n",
       "      <td>201906</td>\n",
       "      <td>18030150000</td>\n",
       "    </tr>\n",
       "    <tr>\n",
       "      <th>8838</th>\n",
       "      <td>8677025893302858422</td>\n",
       "      <td>18110250000</td>\n",
       "      <td>0.35</td>\n",
       "      <td>0.56</td>\n",
       "      <td>201906</td>\n",
       "      <td>18110250000</td>\n",
       "    </tr>\n",
       "  </tbody>\n",
       "</table>\n",
       "</div>"
      ],
      "text/plain": [
       "               station_id      pile_id  sum(charge_energy)  \\\n",
       "659   1580250241520297763  18761260547                0.84   \n",
       "2149  1797141332929251125  11223344559                0.86   \n",
       "4962  7135617706601976474  18061640000                0.14   \n",
       "6867  8983518640135560799  18080240000                0.80   \n",
       "7389  7850536017815303394  18100250000                0.05   \n",
       "7801                       18122970000                0.32   \n",
       "7808  6940371278808632260  18030150000                0.11   \n",
       "8838  8677025893302858422  18110250000                0.35   \n",
       "\n",
       "      sum(charge_total_fee)  months    device_id  \n",
       "659                    1.34  201906  18761260547  \n",
       "2149                   1.72  201906  11223344559  \n",
       "4962                   0.22  201906  18061640000  \n",
       "6867                   1.21  201906  18080240000  \n",
       "7389                   0.08  201906  18100250000  \n",
       "7801                   0.64  201906  18122970000  \n",
       "7808                   0.16  201906  18030150000  \n",
       "8838                   0.56  201906  18110250000  "
      ]
     },
     "execution_count": 12,
     "metadata": {},
     "output_type": "execute_result"
    }
   ],
   "source": [
    "pile1_6 = pile1[pile1['months']==201906]\n",
    "# pile1_6[pile1_6['sum(charge_energy)'] <300].drop_duplicates(['station_id']).count()\n",
    "pile1_6[pile1_6['sum(charge_energy)'] <1].drop_duplicates(['station_id'])"
   ]
  },
  {
   "cell_type": "code",
   "execution_count": 85,
   "metadata": {
    "scrolled": true
   },
   "outputs": [
    {
     "name": "stdout",
     "output_type": "stream",
     "text": [
      "306\n"
     ]
    },
    {
     "data": {
      "text/plain": [
       "station_id            58\n",
       "sum(charge_energy)    58\n",
       "months                58\n",
       "dtype: int64"
      ]
     },
     "execution_count": 85,
     "metadata": {},
     "output_type": "execute_result"
    }
   ],
   "source": [
    "months = pd.read_csv('D:/按月201901-06.txt',sep='\\t')\n",
    "months_6 = months[months['months']==201906]\n",
    "print(months_6['station_id'].count())\n",
    "months_6[months_6['sum(charge_energy)'] < 300].drop_duplicates(['station_id']).count()"
   ]
  },
  {
   "cell_type": "code",
   "execution_count": 22,
   "metadata": {},
   "outputs": [
    {
     "name": "stdout",
     "output_type": "stream",
     "text": [
      "1-6月份订单数量 1899\n"
     ]
    },
    {
     "data": {
      "text/plain": [
       "station_id               47\n",
       "pile_id                  47\n",
       "sum(charge_energy)       47\n",
       "sum(charge_total_fee)    47\n",
       "months                   47\n",
       "device_id                47\n",
       "dtype: int64"
      ]
     },
     "execution_count": 22,
     "metadata": {},
     "output_type": "execute_result"
    }
   ],
   "source": [
    "print('1-6月份订单数量',pile0['sum(charge_energy)'].count())\n",
    "pile0[pile0['sum(charge_energy)'] >= 780].count()"
   ]
  },
  {
   "cell_type": "code",
   "execution_count": 13,
   "metadata": {},
   "outputs": [
    {
     "name": "stdout",
     "output_type": "stream",
     "text": [
      "2019-07-04 02:48:48\n"
     ]
    }
   ],
   "source": [
    "import time\n",
    "import datetime\n",
    "\n",
    "dt = datetime.datetime.fromtimestamp(1562179728)\n",
    "print(dt)\n",
    "dat = datetime.datetime.fromtimestamp()"
   ]
  },
  {
   "cell_type": "code",
   "execution_count": 16,
   "metadata": {},
   "outputs": [
    {
     "data": {
      "text/plain": [
       "1563934310.0"
      ]
     },
     "execution_count": 16,
     "metadata": {},
     "output_type": "execute_result"
    }
   ],
   "source": [
    "time.mktime(datetime.datetime.now().timetuple())"
   ]
  },
  {
   "cell_type": "code",
   "execution_count": 20,
   "metadata": {},
   "outputs": [
    {
     "data": {
      "text/plain": [
       "1563552000.0"
      ]
     },
     "execution_count": 20,
     "metadata": {},
     "output_type": "execute_result"
    }
   ],
   "source": [
    "dat = '2019-07-20'\n",
    "time.mktime(time.strptime(dat, \"%Y-%m-%d\"))"
   ]
  },
  {
   "cell_type": "code",
   "execution_count": 64,
   "metadata": {},
   "outputs": [
    {
     "data": {
      "text/plain": [
       "'702075201251190619003807'"
      ]
     },
     "execution_count": 64,
     "metadata": {},
     "output_type": "execute_result"
    }
   ],
   "source": [
    "pile1 = pd.read_csv('D:/pile_id-18125830000_150kw3.txt',sep='\\t')\n",
    "pile1['message'][392][26:50]"
   ]
  },
  {
   "cell_type": "code",
   "execution_count": 66,
   "metadata": {},
   "outputs": [
    {
     "name": "stdout",
     "output_type": "stream",
     "text": [
      "ok\n",
      "ok\n"
     ]
    }
   ],
   "source": [
    "#获取三代平台原始信令中的电压数据\n",
    "for i in range(0,2000):\n",
    "    if pile1['message'][i][26:50]=='702075201251190619003807':\n",
    "        with open('D:/voltage_pile_18125830000_150kw02.txt',mode='a') as fv:\n",
    "            fv.writelines(pile1['message'][i][91:96] + '\\n')\n",
    "print('ok')\n",
    "\n",
    "#获取三代平台原始信令中的电流数据\n",
    "for i in range(0,2000):\n",
    "    if pile1['message'][i][26:50]=='702075201251190619003807':\n",
    "        with open('D:/current_pile_18125830000_150kw02.txt',mode='a') as fv:\n",
    "            fv.writelines(pile1['message'][i][98:102] + '\\n')\n",
    "print('ok')\n",
    "\n",
    "#获取三代平台原始信令中的soc\n",
    "for i in range(0,2000):\n",
    "    if pile1['message'][i][26:50]=='702075201251190619003807':\n",
    "        with open('D:/soc_pile_18125830000_150kw02.txt',mode='a') as fv:\n",
    "            fv.writelines(pile1['message'][i][64:66] + '\\n')\n",
    "print('ok')\n",
    "\n",
    "#获取三代平台原始信令中的time\n",
    "for i in range(0,2000):\n",
    "    if pile1['message'][i][26:50]=='702075201251190619003807':\n",
    "        with open('D:/time_pile_18125830000_150kw02.txt',mode='a') as fv:\n",
    "            fv.writelines(pile1['message'][i][66:70] + '\\n')\n",
    "print('ok')"
   ]
  },
  {
   "cell_type": "code",
   "execution_count": null,
   "metadata": {},
   "outputs": [],
   "source": []
  }
 ],
 "metadata": {
  "kernelspec": {
   "display_name": "Python 3",
   "language": "python",
   "name": "python3"
  },
  "language_info": {
   "codemirror_mode": {
    "name": "ipython",
    "version": 3
   },
   "file_extension": ".py",
   "mimetype": "text/x-python",
   "name": "python",
   "nbconvert_exporter": "python",
   "pygments_lexer": "ipython3",
   "version": "3.6.8"
  }
 },
 "nbformat": 4,
 "nbformat_minor": 2
}
