{
 "cells": [
  {
   "cell_type": "code",
   "execution_count": null,
   "metadata": {},
   "outputs": [],
   "source": [
    "import time\n",
    "from kafka import SimpleProducer,KafkaClient\n",
    "\n",
    "#模拟生产者\n",
    "#连接kafka\n",
    "kafka = KafkaClient('localhost:9092')\n",
    "proceducer = SimpleProducer(kafka)\n",
    "topic = 'my-topic'\n",
    "\n",
    "def test_log():\n",
    "    print('begin')\n",
    "    n = 1\n",
    "    while (n < 100):\n",
    "        proceducer.send_messages(topic,str(n))\n",
    "        print('send' + str(n))\n",
    "        n += 1\n",
    "        time.sleep(0.5)\n",
    "    print('done')\n",
    "\n",
    "if __name__ == '__main__':\n",
    "    test_log()"
   ]
  },
  {
   "cell_type": "code",
   "execution_count": null,
   "metadata": {},
   "outputs": [],
   "source": [
    "#创建消费者\n",
    "from kafka import KafkaConsumer\n",
    "\n",
    "#连接topic\n",
    "consumer = KafkaConsumer('my-topic')\n",
    "print('begin')\n",
    "for msg in consumer:\n",
    "    print(msg)\n",
    "    "
   ]
  },
  {
   "cell_type": "code",
   "execution_count": 16,
   "metadata": {},
   "outputs": [
    {
     "data": {
      "text/plain": [
       "'12wo23 r d3 5'"
      ]
     },
     "execution_count": 16,
     "metadata": {},
     "output_type": "execute_result"
    }
   ],
   "source": [
    "w = '12wo23 r d3 5 '\n",
    "w.strip()"
   ]
  },
  {
   "cell_type": "code",
   "execution_count": 17,
   "metadata": {},
   "outputs": [
    {
     "data": {
      "text/plain": [
       "'12wo23 r d3 5 '"
      ]
     },
     "execution_count": 17,
     "metadata": {},
     "output_type": "execute_result"
    }
   ],
   "source": [
    "w.strip('wo23')"
   ]
  },
  {
   "cell_type": "code",
   "execution_count": 21,
   "metadata": {},
   "outputs": [],
   "source": [
    "import cv2\n",
    "import numpy as np\n",
    "import math"
   ]
  },
  {
   "cell_type": "code",
   "execution_count": 22,
   "metadata": {},
   "outputs": [],
   "source": [
    "import tensorflow as tf"
   ]
  },
  {
   "cell_type": "code",
   "execution_count": 40,
   "metadata": {},
   "outputs": [
    {
     "name": "stdout",
     "output_type": "stream",
     "text": [
      "INVALID_PARAMS\n"
     ]
    }
   ],
   "source": [
    "import requests\n",
    "def geocode(location):\n",
    "        parameters = {'location':location,'key':'c69bd09bde2e2a17eff5edf9b89720a5'}\n",
    "        base = 'https://restapi.amap.com/v3/geocode/regeo'\n",
    "        response = requests.get(base, parameters)\n",
    "        answer = response.json()\n",
    "        print(answer['info'])\n",
    "\n",
    "location = (118.903882,32.096447)\n",
    "geocode(location)\n"
   ]
  },
  {
   "cell_type": "code",
   "execution_count": 52,
   "metadata": {
    "scrolled": true
   },
   "outputs": [
    {
     "name": "stdout",
     "output_type": "stream",
     "text": [
      "北京市海淀区的经纬度： [{'formatted_address': '北京市海淀区', 'country': '中国', 'province': '北京市', 'citycode': '010', 'city': '北京市', 'district': '海淀区', 'township': [], 'neighborhood': {'name': [], 'type': []}, 'building': {'name': [], 'type': []}, 'adcode': '110108', 'street': [], 'number': [], 'location': '116.329519,39.972134', 'level': '区县'}]\n"
     ]
    }
   ],
   "source": [
    "import requests\n",
    "\n",
    "def geocode(address):\n",
    "    parameters = {'address': address, 'key': '38c8342d5a1a44ea3d1c488627eb3742'}\n",
    "    base = 'https://restapi.amap.com/v3/geocode/geo'\n",
    "    response = requests.get(base, parameters)\n",
    "    answer = response.json()\n",
    "    print(address + \"的经纬度：\", answer['geocodes'])\n",
    "\n",
    "if __name__=='__main__':\n",
    "    #address = input(\"请输入地址:\")\n",
    "    address = '北京市海淀区'\n",
    "    geocode(address)"
   ]
  },
  {
   "cell_type": "code",
   "execution_count": 54,
   "metadata": {},
   "outputs": [
    {
     "name": "stdout",
     "output_type": "stream",
     "text": [
      "INVALID_PARAMS\n"
     ]
    }
   ],
   "source": [
    "import requests\n",
    "\n",
    "def regeocode(address):\n",
    "    parameters = {'address': address, 'key': '38c8342d5a1a44ea3d1c488627eb3742'}\n",
    "    base = 'https://restapi.amap.com/v3/geocode/regeo'\n",
    "    response = requests.get(base, parameters)\n",
    "    answer = response.json()\n",
    "    print(answer['info'])\n",
    "\n",
    "if __name__=='__main__':\n",
    "    #address = input(\"请输入地址:\")\n",
    "    address = (116.481488,39.990464)\n",
    "    regeocode(address)"
   ]
  },
  {
   "cell_type": "code",
   "execution_count": 43,
   "metadata": {},
   "outputs": [
    {
     "name": "stdout",
     "output_type": "stream",
     "text": [
      "(('南京市江北新区浦六南路988号',), ('江苏省南京市栖霞区乐和酒店（聚宝山店）',))\n"
     ]
    }
   ],
   "source": [
    "# select addr from place where lat > lat1 and lat < lat2 and lng > lng1 and lng < lng2 limit 10\n",
    "import pymysql\n",
    "db = pymysql.connect(host='47.102.28.202', port=3306, user='readonly', password='abc123$%',\n",
    "                     database='renwochong', charset='utf8')\n",
    "cursor = db.cursor()\n",
    "select_cord = \"\"\"select addr from t_charging_station where latitude > 32.10 and latitude < 32.25 and longitude > 118.50 and longitude < 119.20\"\"\"\n",
    "\n",
    "#执行相关查询\n",
    "try:\n",
    "    res = cursor.execute(select_cord)\n",
    "    res = cursor.fetchall()\n",
    "    print(res)\n",
    "except Exception as e:\n",
    "    print(e)\n",
    "\n",
    "    print(type(corareas1))\n",
    "    res1 = pd.DataFrame(corareas1)\n",
    "    print(res1)\n",
    "\n"
   ]
  },
  {
   "cell_type": "code",
   "execution_count": 1,
   "metadata": {},
   "outputs": [],
   "source": [
    "import time"
   ]
  },
  {
   "cell_type": "code",
   "execution_count": 4,
   "metadata": {},
   "outputs": [
    {
     "name": "stdout",
     "output_type": "stream",
     "text": [
      "20192904/09/19\n"
     ]
    }
   ],
   "source": [
    "print(time.strftime('%Y%M%D'))"
   ]
  },
  {
   "cell_type": "code",
   "execution_count": 6,
   "metadata": {},
   "outputs": [],
   "source": [
    "from datetime import datetime"
   ]
  },
  {
   "cell_type": "code",
   "execution_count": 4,
   "metadata": {},
   "outputs": [
    {
     "name": "stdout",
     "output_type": "stream",
     "text": [
      "2019-04-10 09:56:35.475196\n",
      "---------\n",
      "20190410095635\n"
     ]
    }
   ],
   "source": [
    "#获取当前日期并做转换\n",
    "print(datetime.datetime.now())\n",
    "print('---------')\n",
    "time_now = datetime.datetime.now().strftime('%Y%m%d%H%M%S')\n",
    "print(time_now)\n",
    "# int_time = int(time_now)\n",
    "# print(type(int_time))\n",
    "# print(int_time)"
   ]
  },
  {
   "cell_type": "code",
   "execution_count": null,
   "metadata": {},
   "outputs": [],
   "source": [
    "datetime.datetime.strptime(string,'%Y-%m-%d %H:%M:%S')"
   ]
  },
  {
   "cell_type": "code",
   "execution_count": 8,
   "metadata": {},
   "outputs": [
    {
     "name": "stdout",
     "output_type": "stream",
     "text": [
      "2019041010\n"
     ]
    }
   ],
   "source": [
    "print(datetime.now().strftime('%Y%m%d%H'))"
   ]
  },
  {
   "cell_type": "code",
   "execution_count": 16,
   "metadata": {},
   "outputs": [
    {
     "data": {
      "text/plain": [
       "True"
      ]
     },
     "execution_count": 16,
     "metadata": {},
     "output_type": "execute_result"
    }
   ],
   "source": [
    "time_day = datetime.now().strftime('%Y%m%d')\n",
    "file = lambda x:x[-4:]=='.log' and x[0:8]==time_day\n",
    "file('2019041010.log')"
   ]
  },
  {
   "cell_type": "code",
   "execution_count": null,
   "metadata": {},
   "outputs": [],
   "source": []
  },
  {
   "cell_type": "code",
   "execution_count": null,
   "metadata": {},
   "outputs": [],
   "source": [
    "#!/usr/bin/env python\n",
    "#--*-- coding:utf-8 --*--\n",
    "\n",
    "#python根据一个给定经纬度的点，进行附近5km距离坐标查询\n",
    "import pymysql\n",
    "import os\n",
    "import subprocess\n",
    "import time\n",
    "import numpy as np\n",
    "import pandas as pd\n",
    "from math import sin, asin, cos, radians, fabs, sqrt,degrees\n",
    "\n",
    "EARTH_RADIUS=6371 #地球半径\n",
    "\n",
    "\n",
    "#读取车辆坐标位置文件(静态文件读取)\n",
    "def get_cortxt():\n",
    "    df = pd.read_csv('D:/cor.txt',encoding='utf-8',header=None,sep=' ')\n",
    "    for i in range(len(df)):\n",
    "        coordinate = df.loc[i]\n",
    "        cor_areas(coordinate)\n",
    "\n",
    "\n",
    "#计算坐标点周围5km，东西两侧距离,lat表示纬度，lng表示经度\n",
    "def cor_areas(coordinate):\n",
    "    dlng = 2 * asin(sin(distance / (2 * EARTH_RADIUS)) / cos(coordinate[1]))\n",
    "    dlng = degrees(dlng)        # 弧度转换成角度\n",
    "\n",
    "    #计算坐标点周围5km，南北两侧距离坐标\n",
    "    dlat = distance / EARTH_RADIUS\n",
    "    dlat = degrees(dlat)     # 弧度转换成角度\n",
    "    \n",
    "    #cor1左上角坐标点，cor2右下角坐标点\n",
    "    cor1_vin,cor1_lat,cor1_lng = coordinate[0],coordinate[1] + dlat,coordinate[2] - dlng\n",
    "    cor2_vin,cor2_lat,cor2_lng = coordinate[0],coordinate[1] - dlat,coordinate[2] + dlng\n",
    "\n",
    "    mysql_query(cor1_lat,cor1_lng,cor2_lat,cor2_lng)\n",
    "    #     mysql_query(32.006447,118.003882,31.096447,118.903882)\n",
    "\n",
    "\n",
    "#将车辆坐标传入mysql数据库查询附近充电站的位置信息\n",
    "def mysql_query(cor1_lat,cor1_lng,cor2_lat,cor2_lng):\n",
    "        # sql中查询在此坐标5km范围内的充电站坐标\n",
    "        import pymysql\n",
    "        db = pymysql.connect(host='106.15.223.235', port=3306, user='readonly', password='abc123$%',\n",
    "                             database='renwochong', charset='utf8')\n",
    "        cursor = db.cursor()\n",
    "#         select_cord = \"\"\"select addr from t_charging_station where latitude > cor2_lat and latitude < cor1_lat and longitude > cor1_lng and longitude < cor2_lng\"\"\"\n",
    "        select_cord = \"\"\"select addr from t_charging_station where latitude > %f and latitude < %f and longitude > %f and longitude < %f\"\"\"%(cor2_lat,cor1_lat,cor1_lng,cor2_lng)\n",
    "        #执行相关查询\n",
    "        try:\n",
    "            res = cursor.execute(select_cord)\n",
    "            res = cursor.fetchall()\n",
    "            print(res)\n",
    "        except Exception as e:\n",
    "            print(e)\n",
    "\n",
    "#主函数部分\n",
    "if __name__ == '__main__':\n",
    "\n",
    "    distance = 5  #车辆周围距离5km\n",
    "    get_cortxt()\n",
    "\n",
    "\n"
   ]
  },
  {
   "cell_type": "code",
   "execution_count": null,
   "metadata": {},
   "outputs": [],
   "source": []
  }
 ],
 "metadata": {
  "kernelspec": {
   "display_name": "Python 3",
   "language": "python",
   "name": "python3"
  },
  "language_info": {
   "codemirror_mode": {
    "name": "ipython",
    "version": 3
   },
   "file_extension": ".py",
   "mimetype": "text/x-python",
   "name": "python",
   "nbconvert_exporter": "python",
   "pygments_lexer": "ipython3",
   "version": "3.6.8"
  }
 },
 "nbformat": 4,
 "nbformat_minor": 2
}
